{
 "cells": [
  {
   "cell_type": "code",
   "execution_count": 1,
   "metadata": {},
   "outputs": [],
   "source": [
    "import numpy as np \n",
    "import pandas as pd\n",
    "import matplotlib.pyplot as plt\n",
    "import seaborn as sns \n",
    "\n",
    "#통계프로그램 패키지 가져오기 \n",
    "from scipy.stats import chisquare\n",
    "from scipy import stats\n",
    "import scipy as sp \n",
    "\n",
    "import statsmodels.api as sm \n",
    "from statsmodels.formula.api import ols, logit, glm"
   ]
  },
  {
   "cell_type": "code",
   "execution_count": 2,
   "metadata": {},
   "outputs": [],
   "source": [
    "path = pd.read_csv('./data/spstat1.csv', encoding= \"ANSI\")"
   ]
  },
  {
   "cell_type": "code",
   "execution_count": 3,
   "metadata": {},
   "outputs": [
    {
     "data": {
      "text/html": [
       "<div>\n",
       "<style scoped>\n",
       "    .dataframe tbody tr th:only-of-type {\n",
       "        vertical-align: middle;\n",
       "    }\n",
       "\n",
       "    .dataframe tbody tr th {\n",
       "        vertical-align: top;\n",
       "    }\n",
       "\n",
       "    .dataframe thead th {\n",
       "        text-align: right;\n",
       "    }\n",
       "</style>\n",
       "<table border=\"1\" class=\"dataframe\">\n",
       "  <thead>\n",
       "    <tr style=\"text-align: right;\">\n",
       "      <th></th>\n",
       "      <th>번호</th>\n",
       "      <th>사용브랜드</th>\n",
       "      <th>사용기간</th>\n",
       "      <th>구매장소</th>\n",
       "      <th>구매가격</th>\n",
       "      <th>정보획득</th>\n",
       "      <th>구입조언</th>\n",
       "      <th>하루사용시간</th>\n",
       "      <th>브랜드이미지</th>\n",
       "      <th>가격만족도</th>\n",
       "      <th>...</th>\n",
       "      <th>구매중요도9_A/S</th>\n",
       "      <th>구매중요도10_명성</th>\n",
       "      <th>성별</th>\n",
       "      <th>연령</th>\n",
       "      <th>연령2</th>\n",
       "      <th>학력</th>\n",
       "      <th>직업</th>\n",
       "      <th>월수입</th>\n",
       "      <th>결혼</th>\n",
       "      <th>가족수</th>\n",
       "    </tr>\n",
       "  </thead>\n",
       "  <tbody>\n",
       "    <tr>\n",
       "      <th>0</th>\n",
       "      <td>181</td>\n",
       "      <td>1</td>\n",
       "      <td>3</td>\n",
       "      <td>1</td>\n",
       "      <td>15</td>\n",
       "      <td>1</td>\n",
       "      <td>2</td>\n",
       "      <td>1</td>\n",
       "      <td>2</td>\n",
       "      <td>4</td>\n",
       "      <td>...</td>\n",
       "      <td>4</td>\n",
       "      <td>3</td>\n",
       "      <td>0</td>\n",
       "      <td>4</td>\n",
       "      <td>2</td>\n",
       "      <td>2</td>\n",
       "      <td>4</td>\n",
       "      <td>2</td>\n",
       "      <td>2</td>\n",
       "      <td>3</td>\n",
       "    </tr>\n",
       "    <tr>\n",
       "      <th>1</th>\n",
       "      <td>94</td>\n",
       "      <td>1</td>\n",
       "      <td>3</td>\n",
       "      <td>3</td>\n",
       "      <td>20</td>\n",
       "      <td>4</td>\n",
       "      <td>3</td>\n",
       "      <td>3</td>\n",
       "      <td>4</td>\n",
       "      <td>3</td>\n",
       "      <td>...</td>\n",
       "      <td>4</td>\n",
       "      <td>5</td>\n",
       "      <td>1</td>\n",
       "      <td>3</td>\n",
       "      <td>2</td>\n",
       "      <td>4</td>\n",
       "      <td>4</td>\n",
       "      <td>4</td>\n",
       "      <td>2</td>\n",
       "      <td>3</td>\n",
       "    </tr>\n",
       "    <tr>\n",
       "      <th>2</th>\n",
       "      <td>12</td>\n",
       "      <td>1</td>\n",
       "      <td>2</td>\n",
       "      <td>1</td>\n",
       "      <td>25</td>\n",
       "      <td>1</td>\n",
       "      <td>1</td>\n",
       "      <td>1</td>\n",
       "      <td>3</td>\n",
       "      <td>2</td>\n",
       "      <td>...</td>\n",
       "      <td>4</td>\n",
       "      <td>4</td>\n",
       "      <td>0</td>\n",
       "      <td>4</td>\n",
       "      <td>2</td>\n",
       "      <td>4</td>\n",
       "      <td>7</td>\n",
       "      <td>4</td>\n",
       "      <td>2</td>\n",
       "      <td>1</td>\n",
       "    </tr>\n",
       "    <tr>\n",
       "      <th>3</th>\n",
       "      <td>156</td>\n",
       "      <td>1</td>\n",
       "      <td>5</td>\n",
       "      <td>3</td>\n",
       "      <td>26</td>\n",
       "      <td>4</td>\n",
       "      <td>3</td>\n",
       "      <td>1</td>\n",
       "      <td>4</td>\n",
       "      <td>4</td>\n",
       "      <td>...</td>\n",
       "      <td>4</td>\n",
       "      <td>4</td>\n",
       "      <td>0</td>\n",
       "      <td>6</td>\n",
       "      <td>3</td>\n",
       "      <td>2</td>\n",
       "      <td>2</td>\n",
       "      <td>5</td>\n",
       "      <td>3</td>\n",
       "      <td>1</td>\n",
       "    </tr>\n",
       "    <tr>\n",
       "      <th>4</th>\n",
       "      <td>19</td>\n",
       "      <td>1</td>\n",
       "      <td>3</td>\n",
       "      <td>5</td>\n",
       "      <td>30</td>\n",
       "      <td>6</td>\n",
       "      <td>2</td>\n",
       "      <td>3</td>\n",
       "      <td>2</td>\n",
       "      <td>2</td>\n",
       "      <td>...</td>\n",
       "      <td>3</td>\n",
       "      <td>3</td>\n",
       "      <td>0</td>\n",
       "      <td>2</td>\n",
       "      <td>1</td>\n",
       "      <td>4</td>\n",
       "      <td>9</td>\n",
       "      <td>2</td>\n",
       "      <td>1</td>\n",
       "      <td>3</td>\n",
       "    </tr>\n",
       "    <tr>\n",
       "      <th>...</th>\n",
       "      <td>...</td>\n",
       "      <td>...</td>\n",
       "      <td>...</td>\n",
       "      <td>...</td>\n",
       "      <td>...</td>\n",
       "      <td>...</td>\n",
       "      <td>...</td>\n",
       "      <td>...</td>\n",
       "      <td>...</td>\n",
       "      <td>...</td>\n",
       "      <td>...</td>\n",
       "      <td>...</td>\n",
       "      <td>...</td>\n",
       "      <td>...</td>\n",
       "      <td>...</td>\n",
       "      <td>...</td>\n",
       "      <td>...</td>\n",
       "      <td>...</td>\n",
       "      <td>...</td>\n",
       "      <td>...</td>\n",
       "      <td>...</td>\n",
       "    </tr>\n",
       "    <tr>\n",
       "      <th>247</th>\n",
       "      <td>137</td>\n",
       "      <td>2</td>\n",
       "      <td>2</td>\n",
       "      <td>5</td>\n",
       "      <td>200</td>\n",
       "      <td>6</td>\n",
       "      <td>2</td>\n",
       "      <td>3</td>\n",
       "      <td>2</td>\n",
       "      <td>3</td>\n",
       "      <td>...</td>\n",
       "      <td>1</td>\n",
       "      <td>1</td>\n",
       "      <td>0</td>\n",
       "      <td>2</td>\n",
       "      <td>1</td>\n",
       "      <td>7</td>\n",
       "      <td>8</td>\n",
       "      <td>2</td>\n",
       "      <td>1</td>\n",
       "      <td>2</td>\n",
       "    </tr>\n",
       "    <tr>\n",
       "      <th>248</th>\n",
       "      <td>226</td>\n",
       "      <td>2</td>\n",
       "      <td>3</td>\n",
       "      <td>5</td>\n",
       "      <td>200</td>\n",
       "      <td>6</td>\n",
       "      <td>2</td>\n",
       "      <td>1</td>\n",
       "      <td>3</td>\n",
       "      <td>2</td>\n",
       "      <td>...</td>\n",
       "      <td>2</td>\n",
       "      <td>2</td>\n",
       "      <td>0</td>\n",
       "      <td>2</td>\n",
       "      <td>1</td>\n",
       "      <td>6</td>\n",
       "      <td>4</td>\n",
       "      <td>6</td>\n",
       "      <td>2</td>\n",
       "      <td>2</td>\n",
       "    </tr>\n",
       "    <tr>\n",
       "      <th>249</th>\n",
       "      <td>98</td>\n",
       "      <td>2</td>\n",
       "      <td>5</td>\n",
       "      <td>1</td>\n",
       "      <td>200</td>\n",
       "      <td>2</td>\n",
       "      <td>3</td>\n",
       "      <td>2</td>\n",
       "      <td>4</td>\n",
       "      <td>3</td>\n",
       "      <td>...</td>\n",
       "      <td>2</td>\n",
       "      <td>1</td>\n",
       "      <td>0</td>\n",
       "      <td>3</td>\n",
       "      <td>2</td>\n",
       "      <td>6</td>\n",
       "      <td>4</td>\n",
       "      <td>3</td>\n",
       "      <td>2</td>\n",
       "      <td>2</td>\n",
       "    </tr>\n",
       "    <tr>\n",
       "      <th>250</th>\n",
       "      <td>242</td>\n",
       "      <td>2</td>\n",
       "      <td>3</td>\n",
       "      <td>1</td>\n",
       "      <td>200</td>\n",
       "      <td>2</td>\n",
       "      <td>1</td>\n",
       "      <td>2</td>\n",
       "      <td>4</td>\n",
       "      <td>2</td>\n",
       "      <td>...</td>\n",
       "      <td>5</td>\n",
       "      <td>5</td>\n",
       "      <td>1</td>\n",
       "      <td>1</td>\n",
       "      <td>1</td>\n",
       "      <td>2</td>\n",
       "      <td>1</td>\n",
       "      <td>2</td>\n",
       "      <td>1</td>\n",
       "      <td>1</td>\n",
       "    </tr>\n",
       "    <tr>\n",
       "      <th>251</th>\n",
       "      <td>72</td>\n",
       "      <td>2</td>\n",
       "      <td>5</td>\n",
       "      <td>2</td>\n",
       "      <td>250</td>\n",
       "      <td>1</td>\n",
       "      <td>4</td>\n",
       "      <td>2</td>\n",
       "      <td>3</td>\n",
       "      <td>3</td>\n",
       "      <td>...</td>\n",
       "      <td>2</td>\n",
       "      <td>1</td>\n",
       "      <td>0</td>\n",
       "      <td>3</td>\n",
       "      <td>2</td>\n",
       "      <td>8</td>\n",
       "      <td>3</td>\n",
       "      <td>6</td>\n",
       "      <td>1</td>\n",
       "      <td>1</td>\n",
       "    </tr>\n",
       "  </tbody>\n",
       "</table>\n",
       "<p>252 rows × 29 columns</p>\n",
       "</div>"
      ],
      "text/plain": [
       "      번호  사용브랜드  사용기간  구매장소  구매가격  정보획득  구입조언  하루사용시간  브랜드이미지  가격만족도  ...  \\\n",
       "0    181      1     3     1    15     1     2       1       2      4  ...   \n",
       "1     94      1     3     3    20     4     3       3       4      3  ...   \n",
       "2     12      1     2     1    25     1     1       1       3      2  ...   \n",
       "3    156      1     5     3    26     4     3       1       4      4  ...   \n",
       "4     19      1     3     5    30     6     2       3       2      2  ...   \n",
       "..   ...    ...   ...   ...   ...   ...   ...     ...     ...    ...  ...   \n",
       "247  137      2     2     5   200     6     2       3       2      3  ...   \n",
       "248  226      2     3     5   200     6     2       1       3      2  ...   \n",
       "249   98      2     5     1   200     2     3       2       4      3  ...   \n",
       "250  242      2     3     1   200     2     1       2       4      2  ...   \n",
       "251   72      2     5     2   250     1     4       2       3      3  ...   \n",
       "\n",
       "     구매중요도9_A/S  구매중요도10_명성   성별  연령  연령2  학력  직업  월수입  결혼  가족수  \n",
       "0             4            3   0   4    2   2   4    2   2    3  \n",
       "1             4            5   1   3    2   4   4    4   2    3  \n",
       "2             4            4   0   4    2   4   7    4   2    1  \n",
       "3             4            4   0   6    3   2   2    5   3    1  \n",
       "4             3            3   0   2    1   4   9    2   1    3  \n",
       "..          ...          ...  ..  ..  ...  ..  ..  ...  ..  ...  \n",
       "247           1            1   0   2    1   7   8    2   1    2  \n",
       "248           2            2   0   2    1   6   4    6   2    2  \n",
       "249           2            1   0   3    2   6   4    3   2    2  \n",
       "250           5            5   1   1    1   2   1    2   1    1  \n",
       "251           2            1   0   3    2   8   3    6   1    1  \n",
       "\n",
       "[252 rows x 29 columns]"
      ]
     },
     "execution_count": 3,
     "metadata": {},
     "output_type": "execute_result"
    }
   ],
   "source": [
    "df = pd.DataFrame(path)\n",
    "df"
   ]
  },
  {
   "cell_type": "code",
   "execution_count": 4,
   "metadata": {},
   "outputs": [
    {
     "data": {
      "text/plain": [
       "(252, 29)"
      ]
     },
     "execution_count": 4,
     "metadata": {},
     "output_type": "execute_result"
    }
   ],
   "source": [
    "df.shape"
   ]
  },
  {
   "cell_type": "code",
   "execution_count": 5,
   "metadata": {},
   "outputs": [
    {
     "data": {
      "text/plain": [
       "Index(['번호', '사용브랜드', '사용기간', '구매장소', '구매가격', '정보획득', '구입조언', '하루사용시간',\n",
       "       '브랜드이미지', '가격만족도', '재구매의향', '구매중요도1_메모리', '구매중요도2_배터리', '구매중요도3_카메라',\n",
       "       '구매중요도4_처리속도', '구매중요도5_보안기능', '구매중요도6_운영체계', '구매중요도7_디자인', '구매중요도8_음질',\n",
       "       '구매중요도9_A/S', '구매중요도10_명성 ', '성별', '연령', '연령2', '학력', '직업', '월수입', '결혼',\n",
       "       '가족수'],\n",
       "      dtype='object')"
      ]
     },
     "execution_count": 5,
     "metadata": {},
     "output_type": "execute_result"
    }
   ],
   "source": [
    "df.columns"
   ]
  },
  {
   "cell_type": "code",
   "execution_count": 6,
   "metadata": {},
   "outputs": [
    {
     "data": {
      "text/plain": [
       "Index(['사용브랜드', '구매가격', '정보획득'], dtype='object')"
      ]
     },
     "execution_count": 6,
     "metadata": {},
     "output_type": "execute_result"
    }
   ],
   "source": [
    "df.columns[[1,4,5]]"
   ]
  },
  {
   "cell_type": "code",
   "execution_count": 7,
   "metadata": {},
   "outputs": [
    {
     "data": {
      "text/html": [
       "<div>\n",
       "<style scoped>\n",
       "    .dataframe tbody tr th:only-of-type {\n",
       "        vertical-align: middle;\n",
       "    }\n",
       "\n",
       "    .dataframe tbody tr th {\n",
       "        vertical-align: top;\n",
       "    }\n",
       "\n",
       "    .dataframe thead th {\n",
       "        text-align: right;\n",
       "    }\n",
       "</style>\n",
       "<table border=\"1\" class=\"dataframe\">\n",
       "  <thead>\n",
       "    <tr style=\"text-align: right;\">\n",
       "      <th></th>\n",
       "      <th>학력</th>\n",
       "      <th>직업</th>\n",
       "      <th>월수입</th>\n",
       "      <th>결혼</th>\n",
       "    </tr>\n",
       "  </thead>\n",
       "  <tbody>\n",
       "    <tr>\n",
       "      <th>0</th>\n",
       "      <td>2</td>\n",
       "      <td>4</td>\n",
       "      <td>2</td>\n",
       "      <td>2</td>\n",
       "    </tr>\n",
       "    <tr>\n",
       "      <th>1</th>\n",
       "      <td>4</td>\n",
       "      <td>4</td>\n",
       "      <td>4</td>\n",
       "      <td>2</td>\n",
       "    </tr>\n",
       "    <tr>\n",
       "      <th>2</th>\n",
       "      <td>4</td>\n",
       "      <td>7</td>\n",
       "      <td>4</td>\n",
       "      <td>2</td>\n",
       "    </tr>\n",
       "    <tr>\n",
       "      <th>3</th>\n",
       "      <td>2</td>\n",
       "      <td>2</td>\n",
       "      <td>5</td>\n",
       "      <td>3</td>\n",
       "    </tr>\n",
       "    <tr>\n",
       "      <th>4</th>\n",
       "      <td>4</td>\n",
       "      <td>9</td>\n",
       "      <td>2</td>\n",
       "      <td>1</td>\n",
       "    </tr>\n",
       "    <tr>\n",
       "      <th>...</th>\n",
       "      <td>...</td>\n",
       "      <td>...</td>\n",
       "      <td>...</td>\n",
       "      <td>...</td>\n",
       "    </tr>\n",
       "    <tr>\n",
       "      <th>247</th>\n",
       "      <td>7</td>\n",
       "      <td>8</td>\n",
       "      <td>2</td>\n",
       "      <td>1</td>\n",
       "    </tr>\n",
       "    <tr>\n",
       "      <th>248</th>\n",
       "      <td>6</td>\n",
       "      <td>4</td>\n",
       "      <td>6</td>\n",
       "      <td>2</td>\n",
       "    </tr>\n",
       "    <tr>\n",
       "      <th>249</th>\n",
       "      <td>6</td>\n",
       "      <td>4</td>\n",
       "      <td>3</td>\n",
       "      <td>2</td>\n",
       "    </tr>\n",
       "    <tr>\n",
       "      <th>250</th>\n",
       "      <td>2</td>\n",
       "      <td>1</td>\n",
       "      <td>2</td>\n",
       "      <td>1</td>\n",
       "    </tr>\n",
       "    <tr>\n",
       "      <th>251</th>\n",
       "      <td>8</td>\n",
       "      <td>3</td>\n",
       "      <td>6</td>\n",
       "      <td>1</td>\n",
       "    </tr>\n",
       "  </tbody>\n",
       "</table>\n",
       "<p>252 rows × 4 columns</p>\n",
       "</div>"
      ],
      "text/plain": [
       "     학력  직업  월수입  결혼\n",
       "0     2   4    2   2\n",
       "1     4   4    4   2\n",
       "2     4   7    4   2\n",
       "3     2   2    5   3\n",
       "4     4   9    2   1\n",
       "..   ..  ..  ...  ..\n",
       "247   7   8    2   1\n",
       "248   6   4    6   2\n",
       "249   6   4    3   2\n",
       "250   2   1    2   1\n",
       "251   8   3    6   1\n",
       "\n",
       "[252 rows x 4 columns]"
      ]
     },
     "execution_count": 7,
     "metadata": {},
     "output_type": "execute_result"
    }
   ],
   "source": [
    "#loc \n",
    "\n",
    "df.loc[:, '학력':'결혼']"
   ]
  },
  {
   "cell_type": "code",
   "execution_count": 8,
   "metadata": {},
   "outputs": [
    {
     "data": {
      "text/html": [
       "<div>\n",
       "<style scoped>\n",
       "    .dataframe tbody tr th:only-of-type {\n",
       "        vertical-align: middle;\n",
       "    }\n",
       "\n",
       "    .dataframe tbody tr th {\n",
       "        vertical-align: top;\n",
       "    }\n",
       "\n",
       "    .dataframe thead th {\n",
       "        text-align: right;\n",
       "    }\n",
       "</style>\n",
       "<table border=\"1\" class=\"dataframe\">\n",
       "  <thead>\n",
       "    <tr style=\"text-align: right;\">\n",
       "      <th></th>\n",
       "      <th>사용기간</th>\n",
       "      <th>구매장소</th>\n",
       "      <th>구매가격</th>\n",
       "    </tr>\n",
       "  </thead>\n",
       "  <tbody>\n",
       "    <tr>\n",
       "      <th>1</th>\n",
       "      <td>3</td>\n",
       "      <td>3</td>\n",
       "      <td>20</td>\n",
       "    </tr>\n",
       "    <tr>\n",
       "      <th>2</th>\n",
       "      <td>2</td>\n",
       "      <td>1</td>\n",
       "      <td>25</td>\n",
       "    </tr>\n",
       "    <tr>\n",
       "      <th>3</th>\n",
       "      <td>5</td>\n",
       "      <td>3</td>\n",
       "      <td>26</td>\n",
       "    </tr>\n",
       "    <tr>\n",
       "      <th>4</th>\n",
       "      <td>3</td>\n",
       "      <td>5</td>\n",
       "      <td>30</td>\n",
       "    </tr>\n",
       "    <tr>\n",
       "      <th>5</th>\n",
       "      <td>1</td>\n",
       "      <td>4</td>\n",
       "      <td>30</td>\n",
       "    </tr>\n",
       "    <tr>\n",
       "      <th>6</th>\n",
       "      <td>5</td>\n",
       "      <td>2</td>\n",
       "      <td>40</td>\n",
       "    </tr>\n",
       "  </tbody>\n",
       "</table>\n",
       "</div>"
      ],
      "text/plain": [
       "   사용기간  구매장소  구매가격\n",
       "1     3     3    20\n",
       "2     2     1    25\n",
       "3     5     3    26\n",
       "4     3     5    30\n",
       "5     1     4    30\n",
       "6     5     2    40"
      ]
     },
     "execution_count": 8,
     "metadata": {},
     "output_type": "execute_result"
    }
   ],
   "source": [
    "df.iloc[1:7,2:5]"
   ]
  },
  {
   "cell_type": "code",
   "execution_count": 9,
   "metadata": {},
   "outputs": [
    {
     "data": {
      "text/plain": [
       "30"
      ]
     },
     "execution_count": 9,
     "metadata": {},
     "output_type": "execute_result"
    }
   ],
   "source": [
    "df.at[5,\"구매가격\"] #특정값만 나오게 함."
   ]
  },
  {
   "cell_type": "code",
   "execution_count": 10,
   "metadata": {},
   "outputs": [
    {
     "data": {
      "text/plain": [
       "0       True\n",
       "1       True\n",
       "2       True\n",
       "3       True\n",
       "4       True\n",
       "       ...  \n",
       "247    False\n",
       "248    False\n",
       "249    False\n",
       "250    False\n",
       "251    False\n",
       "Name: 구매가격, Length: 252, dtype: bool"
      ]
     },
     "execution_count": 10,
     "metadata": {},
     "output_type": "execute_result"
    }
   ],
   "source": [
    "df['구매가격'] < 50 "
   ]
  },
  {
   "cell_type": "code",
   "execution_count": 11,
   "metadata": {},
   "outputs": [],
   "source": [
    "condition = df['구매가격'] < 50 "
   ]
  },
  {
   "cell_type": "code",
   "execution_count": 12,
   "metadata": {},
   "outputs": [
    {
     "data": {
      "text/plain": [
       "1.3613500036652209"
      ]
     },
     "execution_count": 12,
     "metadata": {},
     "output_type": "execute_result"
    }
   ],
   "source": [
    "#첨도(kurtosis)\n",
    "\n",
    "df[\"구매가격\"].kurtosis()"
   ]
  },
  {
   "cell_type": "code",
   "execution_count": 13,
   "metadata": {},
   "outputs": [
    {
     "data": {
      "text/plain": [
       "0.8074518614845148"
      ]
     },
     "execution_count": 13,
     "metadata": {},
     "output_type": "execute_result"
    }
   ],
   "source": [
    "#왜도  (skew)\n",
    "df[\"구매가격\"].skew()"
   ]
  },
  {
   "cell_type": "code",
   "execution_count": 15,
   "metadata": {},
   "outputs": [
    {
     "data": {
      "text/plain": [
       "사용브랜드\n",
       "1    127\n",
       "2    125\n",
       "Name: count, dtype: int64"
      ]
     },
     "execution_count": 15,
     "metadata": {},
     "output_type": "execute_result"
    }
   ],
   "source": [
    "df[\"사용브랜드\"].value_counts()"
   ]
  },
  {
   "cell_type": "code",
   "execution_count": 17,
   "metadata": {},
   "outputs": [
    {
     "data": {
      "text/plain": [
       "['Malgun Gothic']"
      ]
     },
     "execution_count": 17,
     "metadata": {},
     "output_type": "execute_result"
    }
   ],
   "source": [
    "from matplotlib import font_manager, rc, rcParams\n",
    "rc('font', family = 'Malgun Gothic')\n",
    "rcParams['font.family']"
   ]
  },
  {
   "cell_type": "code",
   "execution_count": 18,
   "metadata": {},
   "outputs": [],
   "source": [
    "import platform \n",
    "\n",
    "#운영체제 확인 \n",
    "system = platform.system()\n",
    "\n",
    "#한글폰트 설정 \n",
    "\n",
    "if system == 'Darwin': #max이면 \n",
    "    plt.rc('font', family=\"AppleGothic\")\n",
    "elif system == 'Windows': \n",
    "    plt.rc('font', family = 'Malgun Gothic')\n",
    "else: #Linux\n",
    "    plt.rc('font', family = 'NanumGothic')\n",
    "    \n",
    "#마이너스 기호(-) 깨짐 방지 \n",
    "plt.rc('axes', unicode_minus = False)"
   ]
  },
  {
   "cell_type": "code",
   "execution_count": 19,
   "metadata": {},
   "outputs": [
    {
     "data": {
      "text/plain": [
       "0      삼성\n",
       "1      삼성\n",
       "2      삼성\n",
       "3      삼성\n",
       "4      삼성\n",
       "       ..\n",
       "247    애플\n",
       "248    애플\n",
       "249    애플\n",
       "250    애플\n",
       "251    애플\n",
       "Name: 사용브랜드, Length: 252, dtype: object"
      ]
     },
     "execution_count": 19,
     "metadata": {},
     "output_type": "execute_result"
    }
   ],
   "source": [
    "%matplotlib inline\n",
    "\n",
    "df['사용브랜드'].replace([1,2],['삼성','애플'])"
   ]
  },
  {
   "cell_type": "code",
   "execution_count": 20,
   "metadata": {},
   "outputs": [
    {
     "data": {
      "text/plain": [
       "사용브랜드\n",
       "삼성    127\n",
       "애플    125\n",
       "Name: count, dtype: int64"
      ]
     },
     "execution_count": 20,
     "metadata": {},
     "output_type": "execute_result"
    }
   ],
   "source": [
    "df['사용브랜드'].replace([1,2],['삼성','애플']).value_counts()"
   ]
  },
  {
   "cell_type": "code",
   "execution_count": null,
   "metadata": {},
   "outputs": [],
   "source": [
    "# 한글 깨짐 방지\n",
    "# 나눔폰트 설치\n",
    "# !sudo apt-get install -y fonts-nanum\n",
    "# !sudo fc-cache -fv\n",
    "# !rm ~/.cache/matplotlib -rf"
   ]
  },
  {
   "cell_type": "code",
   "execution_count": 24,
   "metadata": {},
   "outputs": [
    {
     "name": "stdout",
     "output_type": "stream",
     "text": [
      "3.8.0\n",
      "d:\\Anaconda\\Lib\\site-packages\\matplotlib\\__init__.py\n",
      "C:\\Users\\Master\\.matplotlib\n",
      "C:\\Users\\Master\\.matplotlib\n"
     ]
    }
   ],
   "source": [
    "import matplotlib as mpl #기본 설정 만지는 용도 \n",
    "import matplotlib.pyplot as plt #그래프 그리는 용도\n",
    "import matplotlib.font_manager as fm #폰트 관련 용도\n",
    "\n",
    "print(mpl.__version__)\n",
    "print(mpl.__file__)\n",
    "print(mpl.get_configdir())\n",
    "print(mpl.get_cachedir())"
   ]
  },
  {
   "cell_type": "code",
   "execution_count": 26,
   "metadata": {},
   "outputs": [
    {
     "data": {
      "image/png": "[encoded data removed]",
      "text/plain": [
       "<Figure size 640x480 with 1 Axes>"
      ]
     },
     "metadata": {},
     "output_type": "display_data"
    }
   ],
   "source": [
    "df['사용브랜드'].replace([1,2],['삼성','애플']).value_counts().plot(kind='bar')\n",
    "plt.show()\n"
   ]
  },
  {
   "cell_type": "code",
   "execution_count": 28,
   "metadata": {},
   "outputs": [
    {
     "data": {
      "text/plain": [
       "성별\n",
       "0    126\n",
       "1    126\n",
       "Name: count, dtype: int64"
      ]
     },
     "execution_count": 28,
     "metadata": {},
     "output_type": "execute_result"
    }
   ],
   "source": [
    "df['성별'].value_counts()"
   ]
  },
  {
   "cell_type": "code",
   "execution_count": 29,
   "metadata": {},
   "outputs": [
    {
     "data": {
      "image/png": "[encoded data removed]",
      "text/plain": [
       "<Figure size 640x480 with 1 Axes>"
      ]
     },
     "metadata": {},
     "output_type": "display_data"
    }
   ],
   "source": [
    "df['성별'].value_counts().plot(kind='pie')\n",
    "plt.show()\n"
   ]
  },
  {
   "cell_type": "code",
   "execution_count": 32,
   "metadata": {},
   "outputs": [
    {
     "data": {
      "image/png": "[encoded data removed]",
      "text/plain": [
       "<Figure size 640x480 with 1 Axes>"
      ]
     },
     "metadata": {},
     "output_type": "display_data"
    }
   ],
   "source": [
    "df['성별'].replace([0,1],[\"남성\",\"여성\"]).value_counts().plot(kind='pie')\n",
    "plt.show()"
   ]
  },
  {
   "cell_type": "code",
   "execution_count": 34,
   "metadata": {},
   "outputs": [
    {
     "data": {
      "text/plain": [
       "<Axes: ylabel='count'>"
      ]
     },
     "execution_count": 34,
     "metadata": {},
     "output_type": "execute_result"
    },
    {
     "data": {
      "image/png": "[encoded data removed]",
      "text/plain": [
       "<Figure size 640x480 with 1 Axes>"
      ]
     },
     "metadata": {},
     "output_type": "display_data"
    }
   ],
   "source": [
    "df['구매장소'].value_counts().plot(kind='pie')"
   ]
  },
  {
   "cell_type": "code",
   "execution_count": 35,
   "metadata": {},
   "outputs": [
    {
     "data": {
      "text/html": [
       "<div>\n",
       "<style scoped>\n",
       "    .dataframe tbody tr th:only-of-type {\n",
       "        vertical-align: middle;\n",
       "    }\n",
       "\n",
       "    .dataframe tbody tr th {\n",
       "        vertical-align: top;\n",
       "    }\n",
       "\n",
       "    .dataframe thead th {\n",
       "        text-align: right;\n",
       "    }\n",
       "</style>\n",
       "<table border=\"1\" class=\"dataframe\">\n",
       "  <thead>\n",
       "    <tr style=\"text-align: right;\">\n",
       "      <th>사용브랜드</th>\n",
       "      <th>1</th>\n",
       "      <th>2</th>\n",
       "    </tr>\n",
       "    <tr>\n",
       "      <th>월수입</th>\n",
       "      <th></th>\n",
       "      <th></th>\n",
       "    </tr>\n",
       "  </thead>\n",
       "  <tbody>\n",
       "    <tr>\n",
       "      <th>1</th>\n",
       "      <td>20</td>\n",
       "      <td>13</td>\n",
       "    </tr>\n",
       "    <tr>\n",
       "      <th>2</th>\n",
       "      <td>14</td>\n",
       "      <td>22</td>\n",
       "    </tr>\n",
       "    <tr>\n",
       "      <th>3</th>\n",
       "      <td>28</td>\n",
       "      <td>24</td>\n",
       "    </tr>\n",
       "    <tr>\n",
       "      <th>4</th>\n",
       "      <td>20</td>\n",
       "      <td>17</td>\n",
       "    </tr>\n",
       "    <tr>\n",
       "      <th>5</th>\n",
       "      <td>12</td>\n",
       "      <td>28</td>\n",
       "    </tr>\n",
       "    <tr>\n",
       "      <th>6</th>\n",
       "      <td>33</td>\n",
       "      <td>21</td>\n",
       "    </tr>\n",
       "  </tbody>\n",
       "</table>\n",
       "</div>"
      ],
      "text/plain": [
       "사용브랜드   1   2\n",
       "월수입          \n",
       "1      20  13\n",
       "2      14  22\n",
       "3      28  24\n",
       "4      20  17\n",
       "5      12  28\n",
       "6      33  21"
      ]
     },
     "execution_count": 35,
     "metadata": {},
     "output_type": "execute_result"
    }
   ],
   "source": [
    "#교차 분석 \n",
    "\n",
    "pd.crosstab(df['월수입'],df[\"사용브랜드\"])"
   ]
  },
  {
   "cell_type": "code",
   "execution_count": 37,
   "metadata": {},
   "outputs": [
    {
     "data": {
      "text/plain": [
       "Power_divergenceResult(statistic=343.26420150053593, pvalue=9.618060771117479e-05)"
      ]
     },
     "execution_count": 37,
     "metadata": {},
     "output_type": "execute_result"
    }
   ],
   "source": [
    "# chisquare(df['월수입'],df['사용브랜드']) \n",
    "\n",
    "import numpy as np \n",
    "\n",
    "fobs = df.월수입      #관찰 빈도수 \n",
    "fexp = df.사용브랜드  #기대 빈도수 \n",
    "\n",
    "fexp = fexp * (np.sum(fobs) / np.sum(fexp) )\n",
    "\n",
    "chisquare(f_obs=fobs, f_exp=fexp)\n",
    "\n",
    "\n",
    "#pvalue=9.618060771117479e-05 (< 0.05 (5%) alpha 유의수준)\n",
    "#p-value가 유의수준 alpha ( =0.05)보다 작고 0에 가깝기 때문에 유효함\n",
    "#고로, 귀무가설이 기각 >> 연구가설 채택\n"
   ]
  },
  {
   "cell_type": "code",
   "execution_count": 39,
   "metadata": {},
   "outputs": [
    {
     "data": {
      "text/plain": [
       "Power_divergenceResult(statistic=0.0, pvalue=1.0)"
      ]
     },
     "execution_count": 39,
     "metadata": {},
     "output_type": "execute_result"
    }
   ],
   "source": [
    "#카이제곱 분석 \n",
    "#1) c: degree of freedom(자유도)\n",
    "#2) o: observed value (관측치)\n",
    "#3) e: expected Value(기대치)\n",
    "\n",
    "\n",
    "\n",
    "import numpy as np \n",
    "fobs= np.array([10,20])\n",
    "fexp= np.array([30,60])\n",
    "\n",
    "fexp = fexp * (np.sum(fobs) / np.sum(fexp) )\n",
    "chisquare(f_obs=fobs, f_exp=fexp)\n",
    "#pvalue=1.0 >> 전혀 유효하지 않다 "
   ]
  },
  {
   "cell_type": "code",
   "execution_count": 40,
   "metadata": {},
   "outputs": [
    {
     "data": {
      "text/html": [
       "<div>\n",
       "<style scoped>\n",
       "    .dataframe tbody tr th:only-of-type {\n",
       "        vertical-align: middle;\n",
       "    }\n",
       "\n",
       "    .dataframe tbody tr th {\n",
       "        vertical-align: top;\n",
       "    }\n",
       "\n",
       "    .dataframe thead th {\n",
       "        text-align: right;\n",
       "    }\n",
       "</style>\n",
       "<table border=\"1\" class=\"dataframe\">\n",
       "  <thead>\n",
       "    <tr style=\"text-align: right;\">\n",
       "      <th>성별</th>\n",
       "      <th>0</th>\n",
       "      <th>1</th>\n",
       "    </tr>\n",
       "    <tr>\n",
       "      <th>구매장소</th>\n",
       "      <th></th>\n",
       "      <th></th>\n",
       "    </tr>\n",
       "  </thead>\n",
       "  <tbody>\n",
       "    <tr>\n",
       "      <th>1</th>\n",
       "      <td>24</td>\n",
       "      <td>19</td>\n",
       "    </tr>\n",
       "    <tr>\n",
       "      <th>2</th>\n",
       "      <td>42</td>\n",
       "      <td>29</td>\n",
       "    </tr>\n",
       "    <tr>\n",
       "      <th>3</th>\n",
       "      <td>9</td>\n",
       "      <td>13</td>\n",
       "    </tr>\n",
       "    <tr>\n",
       "      <th>4</th>\n",
       "      <td>38</td>\n",
       "      <td>52</td>\n",
       "    </tr>\n",
       "    <tr>\n",
       "      <th>5</th>\n",
       "      <td>13</td>\n",
       "      <td>13</td>\n",
       "    </tr>\n",
       "  </tbody>\n",
       "</table>\n",
       "</div>"
      ],
      "text/plain": [
       "성별     0   1\n",
       "구매장소        \n",
       "1     24  19\n",
       "2     42  29\n",
       "3      9  13\n",
       "4     38  52\n",
       "5     13  13"
      ]
     },
     "execution_count": 40,
     "metadata": {},
     "output_type": "execute_result"
    }
   ],
   "source": [
    "pd.crosstab(df['구매장소'],df['성별'])"
   ]
  },
  {
   "cell_type": "code",
   "execution_count": 41,
   "metadata": {},
   "outputs": [
    {
     "data": {
      "text/plain": [
       "Power_divergenceResult(statistic=148.31174089068827, pvalue=0.9999999645077914)"
      ]
     },
     "execution_count": 41,
     "metadata": {},
     "output_type": "execute_result"
    }
   ],
   "source": [
    "chisquare(df['구매장소']) #유효하지않다 "
   ]
  },
  {
   "cell_type": "code",
   "execution_count": 42,
   "metadata": {},
   "outputs": [
    {
     "data": {
      "text/plain": [
       "Power_divergenceResult(statistic=148.31174089068827, pvalue=array([0.99999996, 0.99999995]))"
      ]
     },
     "execution_count": 42,
     "metadata": {},
     "output_type": "execute_result"
    }
   ],
   "source": [
    "chisquare(df['구매장소'], ddof=[0,1])\n",
    "\n",
    "#ddof=[0,1] : degree of freedom(자유도) 보정한 값 \n",
    "#범주표 행 차원에서 1을 빼고, 열차원은 변경하지 않음 \n"
   ]
  },
  {
   "cell_type": "code",
   "execution_count": 43,
   "metadata": {},
   "outputs": [
    {
     "data": {
      "text/plain": [
       "Power_divergenceResult(statistic=196.2733118971061, pvalue=array([0.99555742, 0.99491356]))"
      ]
     },
     "execution_count": 43,
     "metadata": {},
     "output_type": "execute_result"
    }
   ],
   "source": [
    "chisquare(df['월수입'], ddof=[0,1])\n"
   ]
  },
  {
   "cell_type": "code",
   "execution_count": 44,
   "metadata": {},
   "outputs": [
    {
     "data": {
      "text/plain": [
       "array([ 15,  20,  25,  26,  30,  30,  40,  40,  40,  40,  40,  45,  50,\n",
       "        50,  50,  50,  50,  50,  50,  50,  50,  50,  60,  60,  60,  60,\n",
       "        60,  69,  70,  70,  70,  70,  70,  70,  70,  70,  70,  70,  70,\n",
       "        70,  70,  70,  72,  75,  75,  75,  80,  80,  80,  80,  80,  80,\n",
       "        80,  80,  80,  80,  80,  80,  80,  80,  80,  80,  80,  80,  85,\n",
       "        89,  90,  90,  90,  90,  90,  90,  90,  90,  90,  90,  90,  90,\n",
       "        90,  90,  90,  90,  90,  90,  90,  90,  95,  99, 100, 100, 100,\n",
       "       100, 100, 100, 100, 100, 100, 100, 100, 100, 100, 100, 100, 100,\n",
       "       100, 100, 100, 100, 100, 100, 100, 110, 110, 120, 120, 120, 120,\n",
       "       120, 120, 120, 120, 120, 120, 130, 130, 130, 150,  10,  48,  50,\n",
       "        50,  70,  70,  70,  70,  75,  80,  80,  80,  80,  89,  90,  90,\n",
       "        90,  90,  90,  90,  90,  90,  90,  90,  90,  90,  90,  90,  90,\n",
       "        98, 100, 100, 100, 100, 100, 100, 100, 100, 100, 100, 100, 100,\n",
       "       100, 100, 100, 100, 100, 100, 100, 100, 100, 100, 100, 100, 100,\n",
       "       100, 100, 100, 100, 110, 120, 120, 120, 120, 120, 120, 120, 120,\n",
       "       120, 120, 120, 120, 120, 120, 120, 120, 120, 120, 120, 120, 120,\n",
       "       120, 120, 126, 128, 130, 130, 130, 130, 130, 130, 138, 140, 150,\n",
       "       150, 150, 150, 150, 150, 150, 150, 150, 150, 150, 150, 150, 160,\n",
       "       170, 180, 180, 182, 190, 190, 200, 200, 200, 200, 200, 200, 200,\n",
       "       200, 200, 200, 200, 250], dtype=int64)"
      ]
     },
     "execution_count": 44,
     "metadata": {},
     "output_type": "execute_result"
    }
   ],
   "source": [
    "#T 검정 \n",
    "#2개의 독립변인(남/여, 삼성/애플) 평균차이 비교\n",
    "\n",
    "df['구매가격'].values"
   ]
  },
  {
   "cell_type": "code",
   "execution_count": 47,
   "metadata": {},
   "outputs": [],
   "source": [
    "mean = df['구매가격'].values\n",
    "\n",
    "mean1 = df[df['사용브랜드']==1].구매가격.values #삼성\n",
    "mean2 = df[df['사용브랜드']==2].구매가격.values #삼성"
   ]
  },
  {
   "cell_type": "code",
   "execution_count": 52,
   "metadata": {},
   "outputs": [
    {
     "name": "stderr",
     "output_type": "stream",
     "text": [
      "C:\\Users\\Master\\AppData\\Local\\Temp\\ipykernel_15272\\676699155.py:5: UserWarning: \n",
      "\n",
      "`distplot` is a deprecated function and will be removed in seaborn v0.14.0.\n",
      "\n",
      "Please adapt your code to use either `displot` (a figure-level function with\n",
      "similar flexibility) or `histplot` (an axes-level function for histograms).\n",
      "\n",
      "For a guide to updating your code to use the new functions, please see\n",
      "https://gist.github.com/mwaskom/de44147ed2974457ad6372750bbe5751\n",
      "\n",
      "  sns.distplot(mean1, kde=True, fit=sp.stats.norm) #kde 확률밀도함수\n",
      "d:\\Anaconda\\Lib\\site-packages\\seaborn\\_oldcore.py:1119: FutureWarning: use_inf_as_na option is deprecated and will be removed in a future version. Convert inf values to NaN before operating instead.\n",
      "  with pd.option_context('mode.use_inf_as_na', True):\n",
      "C:\\Users\\Master\\AppData\\Local\\Temp\\ipykernel_15272\\676699155.py:6: UserWarning: \n",
      "\n",
      "`distplot` is a deprecated function and will be removed in seaborn v0.14.0.\n",
      "\n",
      "Please adapt your code to use either `displot` (a figure-level function with\n",
      "similar flexibility) or `histplot` (an axes-level function for histograms).\n",
      "\n",
      "For a guide to updating your code to use the new functions, please see\n",
      "https://gist.github.com/mwaskom/de44147ed2974457ad6372750bbe5751\n",
      "\n",
      "  sns.distplot(mean2, kde=True, fit=sp.stats.norm) #kde 확률밀도함수\n",
      "d:\\Anaconda\\Lib\\site-packages\\seaborn\\_oldcore.py:1119: FutureWarning: use_inf_as_na option is deprecated and will be removed in a future version. Convert inf values to NaN before operating instead.\n",
      "  with pd.option_context('mode.use_inf_as_na', True):\n"
     ]
    },
    {
     "data": {
      "image/png": "[encoded data removed]",
      "text/plain": [
       "<Figure size 640x480 with 1 Axes>"
      ]
     },
     "metadata": {},
     "output_type": "display_data"
    }
   ],
   "source": [
    "from IPython.core.prefilter import PrefilterChecker \n",
    "%matplotlib inline \n",
    "import seaborn as sns \n",
    "\n",
    "sns.distplot(mean1, kde=True, fit=sp.stats.norm) #kde 확률밀도함수 \n",
    "sns.distplot(mean2, kde=True, fit=sp.stats.norm) #kde 확률밀도함수 \n",
    "plt.show()"
   ]
  },
  {
   "cell_type": "code",
   "execution_count": 53,
   "metadata": {},
   "outputs": [
    {
     "name": "stdout",
     "output_type": "stream",
     "text": [
      "ShapiroResult(statistic=0.9720977544784546, pvalue=0.009972690604627132)\n",
      "ShapiroResult(statistic=0.9252861738204956, pvalue=3.2918255783442874e-06)\n"
     ]
    }
   ],
   "source": [
    "#정규성 검정 테스트 shapiro test \n",
    "\n",
    "print(sp.stats.shapiro(mean1))\n",
    "print(sp.stats.shapiro(mean2))\n",
    "\n",
    "#shapiro-wilk test(정규성 검정 테스트)\n",
    "#H0 (귀무가설), Ha(연구가설, 대립가설)\n",
    "\n",
    "#여기서는 H0 : normal distribution (정규분포)를 따른다. \n",
    "\n",
    "#결과해석\n",
    "#ShapiroResult(statistic=0.9720977544784546, pvalue=0.009972690604627132)\n",
    "#mean1의 p-value < 0.05  >> 귀무가설 기각, 대립가설 채택 \n",
    "#귀무가설인 \"정규분포 따른다\" 기각 \n",
    "\n",
    "#ShapiroResult(statistic=0.9252861738204956, pvalue=3.2918255783442874e-06)\n",
    "#mean2의 p-value < 0.05  >> 귀무가설 기각, 대립가설 채택 \n",
    "#귀무가설인 \"정규분포 따른다\" 기각 "
   ]
  },
  {
   "cell_type": "code",
   "execution_count": 54,
   "metadata": {},
   "outputs": [
    {
     "data": {
      "text/plain": [
       "LeveneResult(statistic=13.443717170975082, pvalue=0.00030027808643848084)"
      ]
     },
     "execution_count": 54,
     "metadata": {},
     "output_type": "execute_result"
    }
   ],
   "source": [
    "#등분산 가정 (르벤 테스트)\n",
    "#H0(귀무가설) : 두 집단의 분산은 같다. \n",
    "\n",
    "sp.stats.levene(mean1, mean2)\n",
    "#pvalue=0.00030027808643848084 < 0.05\n",
    "#귀무가설 기각 >> 등분산 가정 위배"
   ]
  },
  {
   "cell_type": "code",
   "execution_count": 55,
   "metadata": {},
   "outputs": [
    {
     "data": {
      "text/plain": [
       "TtestResult(statistic=-9.2004623883404, pvalue=3.598124628532717e-17, df=210.54390737951886)"
      ]
     },
     "execution_count": 55,
     "metadata": {},
     "output_type": "execute_result"
    }
   ],
   "source": [
    "#독립표본 T - TEST \\\n",
    "stats.ttest_ind(mean1, mean2, equal_var = False)\n",
    "#르벤 테스트 결과 등분산 가정 결과를 반영 \n",
    "#equal_var = True : 등분산 가정 \n",
    "#equal_var = False : 등분산 가정 위배 \n",
    "\n",
    "# pvalue=3.598124628532717e-17\n",
    "# pvalue < 0.05 귀무가설('두 집단의 차이가 없다') 기각\n"
   ]
  },
  {
   "cell_type": "code",
   "execution_count": 57,
   "metadata": {},
   "outputs": [
    {
     "data": {
      "text/plain": [
       "array([3, 3, 2, 5, 3, 2, 5, 2, 2, 3, 1, 2, 3, 3, 3, 2, 2, 3, 2, 3, 4, 3,\n",
       "       5, 3, 2, 3, 3, 2, 5, 1, 3, 2, 3, 3, 5, 2, 3, 3, 3, 2, 1, 1, 4, 2,\n",
       "       1, 3, 5, 4, 1, 2, 2, 4, 2, 3, 3, 4, 2, 4, 3, 3, 4, 4, 2, 3, 5, 1,\n",
       "       4, 3, 3, 2, 3, 3, 3, 4, 3, 3, 2, 5, 3, 1, 4, 3, 4, 1, 3, 5, 1, 3,\n",
       "       5, 3, 5, 1, 3, 3, 3, 2, 1, 2, 3, 3, 3, 3, 2, 2, 3, 5, 1, 1, 3, 3,\n",
       "       3, 3, 1, 1, 2, 5, 5, 5, 1, 1, 3, 1, 1, 4, 4, 3, 1, 1, 3, 3, 2, 2,\n",
       "       3, 2, 3, 3, 3, 3, 3, 2, 3, 1, 3, 5, 2, 5, 2, 2, 1, 2, 1, 2, 2, 3,\n",
       "       3, 3, 5, 5, 5, 4, 5, 4, 2, 3, 3, 2, 1, 2, 2, 2, 4, 2, 2, 2, 3, 3,\n",
       "       1, 2, 2, 3, 1, 4, 3, 2, 2, 2, 2, 5, 5, 4, 5, 3, 4, 2, 3, 2, 3, 3,\n",
       "       3, 2, 1, 2, 3, 3, 2, 3, 1, 3, 3, 3, 1, 4, 4, 4, 5, 3, 1, 2, 2, 2,\n",
       "       5, 5, 2, 1, 2, 3, 4, 2, 3, 3, 3, 3, 3, 2, 2, 5, 3, 2, 4, 3, 4, 5,\n",
       "       4, 3, 2, 3, 2, 3, 3, 4, 3, 3], dtype=int64)"
      ]
     },
     "execution_count": 57,
     "metadata": {},
     "output_type": "execute_result"
    }
   ],
   "source": [
    "df['재구매의향'].values"
   ]
  },
  {
   "cell_type": "code",
   "execution_count": 65,
   "metadata": {},
   "outputs": [],
   "source": [
    "mean = df['재구매의향'].values\n",
    "\n",
    "mean1 = df[df['사용브랜드']==1].재구매의향.values\n",
    "mean2 = df[df['사용브랜드']==2].재구매의향.values\n"
   ]
  },
  {
   "cell_type": "code",
   "execution_count": 66,
   "metadata": {},
   "outputs": [
    {
     "name": "stderr",
     "output_type": "stream",
     "text": [
      "C:\\Users\\Master\\AppData\\Local\\Temp\\ipykernel_15272\\676699155.py:5: UserWarning: \n",
      "\n",
      "`distplot` is a deprecated function and will be removed in seaborn v0.14.0.\n",
      "\n",
      "Please adapt your code to use either `displot` (a figure-level function with\n",
      "similar flexibility) or `histplot` (an axes-level function for histograms).\n",
      "\n",
      "For a guide to updating your code to use the new functions, please see\n",
      "https://gist.github.com/mwaskom/de44147ed2974457ad6372750bbe5751\n",
      "\n",
      "  sns.distplot(mean1, kde=True, fit=sp.stats.norm) #kde 확률밀도함수\n",
      "d:\\Anaconda\\Lib\\site-packages\\seaborn\\_oldcore.py:1119: FutureWarning: use_inf_as_na option is deprecated and will be removed in a future version. Convert inf values to NaN before operating instead.\n",
      "  with pd.option_context('mode.use_inf_as_na', True):\n",
      "C:\\Users\\Master\\AppData\\Local\\Temp\\ipykernel_15272\\676699155.py:6: UserWarning: \n",
      "\n",
      "`distplot` is a deprecated function and will be removed in seaborn v0.14.0.\n",
      "\n",
      "Please adapt your code to use either `displot` (a figure-level function with\n",
      "similar flexibility) or `histplot` (an axes-level function for histograms).\n",
      "\n",
      "For a guide to updating your code to use the new functions, please see\n",
      "https://gist.github.com/mwaskom/de44147ed2974457ad6372750bbe5751\n",
      "\n",
      "  sns.distplot(mean2, kde=True, fit=sp.stats.norm) #kde 확률밀도함수\n",
      "d:\\Anaconda\\Lib\\site-packages\\seaborn\\_oldcore.py:1119: FutureWarning: use_inf_as_na option is deprecated and will be removed in a future version. Convert inf values to NaN before operating instead.\n",
      "  with pd.option_context('mode.use_inf_as_na', True):\n"
     ]
    },
    {
     "data": {
      "image/png": "[encoded data removed]",
      "text/plain": [
       "<Figure size 640x480 with 1 Axes>"
      ]
     },
     "metadata": {},
     "output_type": "display_data"
    }
   ],
   "source": [
    "from IPython.core.prefilter import PrefilterChecker \n",
    "%matplotlib inline \n",
    "import seaborn as sns \n",
    "\n",
    "sns.distplot(mean1, kde=True, fit=sp.stats.norm) #kde 확률밀도함수 \n",
    "sns.distplot(mean2, kde=True, fit=sp.stats.norm) #kde 확률밀도함수 \n",
    "plt.show()"
   ]
  },
  {
   "cell_type": "code",
   "execution_count": 67,
   "metadata": {},
   "outputs": [
    {
     "name": "stdout",
     "output_type": "stream",
     "text": [
      "ShapiroResult(statistic=0.8974907994270325, pvalue=7.541181901160598e-08)\n",
      "ShapiroResult(statistic=0.8939266204833984, pvalue=5.995654817070317e-08)\n"
     ]
    }
   ],
   "source": [
    "#정규성 검정 테스트 \n",
    "print(sp.stats.shapiro(mean1))\n",
    "print(sp.stats.shapiro(mean2))\n",
    "\n",
    "#결과해석\n",
    "#정규성 검정 결과,  p-value < 0.05\n",
    "#귀무가설 : 두 집단의 평균은 정규성을 띈다 > 기각 \n",
    "#정규성 검정결과, 정규성 띄지 않음 "
   ]
  },
  {
   "cell_type": "code",
   "execution_count": 69,
   "metadata": {},
   "outputs": [
    {
     "data": {
      "text/plain": [
       "LeveneResult(statistic=0.1179597504462619, pvalue=0.7315465812585951)"
      ]
     },
     "execution_count": 69,
     "metadata": {},
     "output_type": "execute_result"
    }
   ],
   "source": [
    "#등분산 가정(르벤 테스트)\n",
    "sp.stats.levene(mean1, mean2)\n",
    "#pvalue=0.7315465812585951 > 0.05 \n",
    "#귀무가설(두 집단의 분산은 같다) 기각 할 수 없음\n",
    "#등분산 가정 충족 "
   ]
  },
  {
   "cell_type": "code",
   "execution_count": 70,
   "metadata": {},
   "outputs": [
    {
     "data": {
      "text/plain": [
       "TtestResult(statistic=-0.0891603787635918, pvalue=0.9290258377820513, df=250.0)"
      ]
     },
     "execution_count": 70,
     "metadata": {},
     "output_type": "execute_result"
    }
   ],
   "source": [
    "#독립 표본 T - 검정 \n",
    "\n",
    "stats.ttest_ind(mean1, mean2, equal_var=True)\n",
    "#pvalue=0.9290258377820513 > 0.05 \n",
    "#독립적인 두집단 평균 차이가 없다. "
   ]
  },
  {
   "cell_type": "code",
   "execution_count": 74,
   "metadata": {},
   "outputs": [],
   "source": [
    "#분산 분석 (ANOVA)\n",
    "#- 3 집단 이상 평균차이 분석 \n",
    "\n",
    "\n",
    "#연령2 : 3집단으로 연령대 (10대,20대,30대,,---)\n",
    "#요인분석 : 공통성을 기준, 요인별로 묶는 것 \n",
    "\n",
    "anova1 = df[df['연령2'] == 1 ].재구매의향.values\n",
    "anova2 = df[df['연령2'] == 2 ].재구매의향.values\n",
    "anova3 = df[df['연령2'] == 3].재구매의향.values\n"
   ]
  },
  {
   "cell_type": "code",
   "execution_count": 75,
   "metadata": {},
   "outputs": [
    {
     "name": "stderr",
     "output_type": "stream",
     "text": [
      "C:\\Users\\Master\\AppData\\Local\\Temp\\ipykernel_15272\\3463405929.py:1: UserWarning: \n",
      "\n",
      "`distplot` is a deprecated function and will be removed in seaborn v0.14.0.\n",
      "\n",
      "Please adapt your code to use either `displot` (a figure-level function with\n",
      "similar flexibility) or `histplot` (an axes-level function for histograms).\n",
      "\n",
      "For a guide to updating your code to use the new functions, please see\n",
      "https://gist.github.com/mwaskom/de44147ed2974457ad6372750bbe5751\n",
      "\n",
      "  sns.distplot(anova1, kde=False, fit=sp.stats.norm)\n",
      "C:\\Users\\Master\\AppData\\Local\\Temp\\ipykernel_15272\\3463405929.py:2: UserWarning: \n",
      "\n",
      "`distplot` is a deprecated function and will be removed in seaborn v0.14.0.\n",
      "\n",
      "Please adapt your code to use either `displot` (a figure-level function with\n",
      "similar flexibility) or `histplot` (an axes-level function for histograms).\n",
      "\n",
      "For a guide to updating your code to use the new functions, please see\n",
      "https://gist.github.com/mwaskom/de44147ed2974457ad6372750bbe5751\n",
      "\n",
      "  sns.distplot(anova2, kde=False, fit=sp.stats.norm)\n",
      "C:\\Users\\Master\\AppData\\Local\\Temp\\ipykernel_15272\\3463405929.py:3: UserWarning: \n",
      "\n",
      "`distplot` is a deprecated function and will be removed in seaborn v0.14.0.\n",
      "\n",
      "Please adapt your code to use either `displot` (a figure-level function with\n",
      "similar flexibility) or `histplot` (an axes-level function for histograms).\n",
      "\n",
      "For a guide to updating your code to use the new functions, please see\n",
      "https://gist.github.com/mwaskom/de44147ed2974457ad6372750bbe5751\n",
      "\n",
      "  sns.distplot(anova3, kde=False, fit=sp.stats.norm)\n"
     ]
    },
    {
     "data": {
      "text/plain": [
       "<Axes: >"
      ]
     },
     "execution_count": 75,
     "metadata": {},
     "output_type": "execute_result"
    },
    {
     "data": {
      "image/png": "[encoded data removed]",
      "text/plain": [
       "<Figure size 640x480 with 1 Axes>"
      ]
     },
     "metadata": {},
     "output_type": "display_data"
    }
   ],
   "source": [
    "sns.distplot(anova1, kde=False, fit=sp.stats.norm)\n",
    "sns.distplot(anova2, kde=False, fit=sp.stats.norm)\n",
    "sns.distplot(anova3, kde=False, fit=sp.stats.norm)\n"
   ]
  },
  {
   "cell_type": "code",
   "execution_count": 76,
   "metadata": {},
   "outputs": [
    {
     "name": "stderr",
     "output_type": "stream",
     "text": [
      "d:\\Anaconda\\Lib\\site-packages\\seaborn\\_oldcore.py:1119: FutureWarning: use_inf_as_na option is deprecated and will be removed in a future version. Convert inf values to NaN before operating instead.\n",
      "  with pd.option_context('mode.use_inf_as_na', True):\n",
      "d:\\Anaconda\\Lib\\site-packages\\seaborn\\_oldcore.py:1119: FutureWarning: use_inf_as_na option is deprecated and will be removed in a future version. Convert inf values to NaN before operating instead.\n",
      "  with pd.option_context('mode.use_inf_as_na', True):\n",
      "d:\\Anaconda\\Lib\\site-packages\\seaborn\\_oldcore.py:1119: FutureWarning: use_inf_as_na option is deprecated and will be removed in a future version. Convert inf values to NaN before operating instead.\n",
      "  with pd.option_context('mode.use_inf_as_na', True):\n"
     ]
    },
    {
     "data": {
      "text/plain": [
       "<Axes: ylabel='Count'>"
      ]
     },
     "execution_count": 76,
     "metadata": {},
     "output_type": "execute_result"
    },
    {
     "data": {
      "image/png": "[encoded data removed]",
      "text/plain": [
       "<Figure size 640x480 with 1 Axes>"
      ]
     },
     "metadata": {},
     "output_type": "display_data"
    }
   ],
   "source": [
    "sns.histplot(anova1, kde=False)\n",
    "sns.histplot(anova2, kde=False)\n",
    "sns.histplot(anova3, kde=False)\n"
   ]
  },
  {
   "cell_type": "code",
   "execution_count": 77,
   "metadata": {},
   "outputs": [
    {
     "data": {
      "text/plain": [
       "F_onewayResult(statistic=72.42612494637737, pvalue=1.613686022426391e-25)"
      ]
     },
     "execution_count": 77,
     "metadata": {},
     "output_type": "execute_result"
    }
   ],
   "source": [
    "stats.f_oneway(anova1, anova2, anova3)\n",
    "#pvalue=1.613686022426391e-25 < 0.05\n",
    "#H0 : 세 집단 간 평균 차이는 없다. \n",
    "#귀무가설 기각 >> 연구가설 채택 \n",
    "#>> 적어도 한 집단은 평균 차이가 있다. \n",
    "#ex ) anova1 = anova2 != anova3\n",
    "#사후 테스트 필요 "
   ]
  },
  {
   "cell_type": "code",
   "execution_count": 78,
   "metadata": {},
   "outputs": [
    {
     "data": {
      "text/html": [
       "<table class=\"simpletable\">\n",
       "<caption>Multiple Comparison of Means - Tukey HSD, FWER=0.05</caption>\n",
       "<tr>\n",
       "  <th>group1</th> <th>group2</th> <th>meandiff</th>  <th>p-adj</th>  <th>lower</th>   <th>upper</th> <th>reject</th>\n",
       "</tr>\n",
       "<tr>\n",
       "     <td>1</td>      <td>2</td>     <td>0.25</td>   <td>0.1276</td> <td>-0.0526</td> <td>0.5526</td>  <td>False</td>\n",
       "</tr>\n",
       "<tr>\n",
       "     <td>1</td>      <td>3</td>    <td>1.9905</td>    <td>0.0</td>   <td>1.585</td>   <td>2.396</td>  <td>True</td> \n",
       "</tr>\n",
       "<tr>\n",
       "     <td>2</td>      <td>3</td>    <td>1.7405</td>    <td>0.0</td>  <td>1.3514</td>  <td>2.1295</td>  <td>True</td> \n",
       "</tr>\n",
       "</table>"
      ],
      "text/latex": [
       "\\begin{center}\n",
       "\\begin{tabular}{ccccccc}\n",
       "\\toprule\n",
       "\\textbf{group1} & \\textbf{group2} & \\textbf{meandiff} & \\textbf{p-adj} & \\textbf{lower} & \\textbf{upper} & \\textbf{reject}  \\\\\n",
       "\\midrule\n",
       "       1        &        2        &        0.25       &     0.1276     &    -0.0526     &     0.5526     &      False       \\\\\n",
       "       1        &        3        &       1.9905      &      0.0       &     1.585      &     2.396      &       True       \\\\\n",
       "       2        &        3        &       1.7405      &      0.0       &     1.3514     &     2.1295     &       True       \\\\\n",
       "\\bottomrule\n",
       "\\end{tabular}\n",
       "%\\caption{Multiple Comparison of Means - Tukey HSD, FWER=0.05}\n",
       "\\end{center}"
      ],
      "text/plain": [
       "<class 'statsmodels.iolib.table.SimpleTable'>"
      ]
     },
     "execution_count": 78,
     "metadata": {},
     "output_type": "execute_result"
    }
   ],
   "source": [
    "from statsmodels.stats.multicomp import pairwise_tukeyhsd\n",
    "\n",
    "tukey = pairwise_tukeyhsd(endog = df['재구매의향'],\n",
    "                  groups = df['연령2'],\n",
    "                  alpha = 0.05)\n",
    "\n",
    "tukey.summary()"
   ]
  },
  {
   "cell_type": "code",
   "execution_count": 80,
   "metadata": {},
   "outputs": [
    {
     "data": {
      "text/plain": [
       "<matplotlib.collections.LineCollection at 0x2289b979e50>"
      ]
     },
     "execution_count": 80,
     "metadata": {},
     "output_type": "execute_result"
    },
    {
     "data": {
      "image/png": "[encoded data removed]",
      "text/plain": [
       "<Figure size 1000x600 with 1 Axes>"
      ]
     },
     "metadata": {},
     "output_type": "display_data"
    }
   ],
   "source": [
    "tukey.plot_simultaneous()\n",
    "\n",
    "plt.vlines(x=49.57, ymin=0.5, ymax=4.5, color='red')"
   ]
  },
  {
   "cell_type": "code",
   "execution_count": 83,
   "metadata": {},
   "outputs": [],
   "source": [
    "#연령에 따른 구매 가격 차이\n",
    "anova1 = df[df['연령2'] == 1].구매가격.values\n",
    "anova2 = df[df['연령2'] == 2].구매가격.values\n",
    "anova3 = df[df['연령2'] == 3].구매가격.values\n"
   ]
  },
  {
   "cell_type": "code",
   "execution_count": 84,
   "metadata": {},
   "outputs": [
    {
     "data": {
      "text/plain": [
       "F_onewayResult(statistic=0.8181036982598708, pvalue=0.44245014422691564)"
      ]
     },
     "execution_count": 84,
     "metadata": {},
     "output_type": "execute_result"
    }
   ],
   "source": [
    "stats.f_oneway(anova1, anova2,anova3)\n",
    "#pvalue=0.44245014422691564 > 0.05 \n",
    "#귀무가설이 맞음 "
   ]
  },
  {
   "cell_type": "code",
   "execution_count": 86,
   "metadata": {},
   "outputs": [
    {
     "name": "stderr",
     "output_type": "stream",
     "text": [
      "C:\\Users\\Master\\AppData\\Local\\Temp\\ipykernel_15272\\3463405929.py:1: UserWarning: \n",
      "\n",
      "`distplot` is a deprecated function and will be removed in seaborn v0.14.0.\n",
      "\n",
      "Please adapt your code to use either `displot` (a figure-level function with\n",
      "similar flexibility) or `histplot` (an axes-level function for histograms).\n",
      "\n",
      "For a guide to updating your code to use the new functions, please see\n",
      "https://gist.github.com/mwaskom/de44147ed2974457ad6372750bbe5751\n",
      "\n",
      "  sns.distplot(anova1, kde=False, fit=sp.stats.norm)\n",
      "C:\\Users\\Master\\AppData\\Local\\Temp\\ipykernel_15272\\3463405929.py:2: UserWarning: \n",
      "\n",
      "`distplot` is a deprecated function and will be removed in seaborn v0.14.0.\n",
      "\n",
      "Please adapt your code to use either `displot` (a figure-level function with\n",
      "similar flexibility) or `histplot` (an axes-level function for histograms).\n",
      "\n",
      "For a guide to updating your code to use the new functions, please see\n",
      "https://gist.github.com/mwaskom/de44147ed2974457ad6372750bbe5751\n",
      "\n",
      "  sns.distplot(anova2, kde=False, fit=sp.stats.norm)\n",
      "C:\\Users\\Master\\AppData\\Local\\Temp\\ipykernel_15272\\3463405929.py:3: UserWarning: \n",
      "\n",
      "`distplot` is a deprecated function and will be removed in seaborn v0.14.0.\n",
      "\n",
      "Please adapt your code to use either `displot` (a figure-level function with\n",
      "similar flexibility) or `histplot` (an axes-level function for histograms).\n",
      "\n",
      "For a guide to updating your code to use the new functions, please see\n",
      "https://gist.github.com/mwaskom/de44147ed2974457ad6372750bbe5751\n",
      "\n",
      "  sns.distplot(anova3, kde=False, fit=sp.stats.norm)\n"
     ]
    },
    {
     "data": {
      "text/plain": [
       "<Axes: >"
      ]
     },
     "execution_count": 86,
     "metadata": {},
     "output_type": "execute_result"
    },
    {
     "data": {
      "image/png": "[encoded data removed]",
      "text/plain": [
       "<Figure size 640x480 with 1 Axes>"
      ]
     },
     "metadata": {},
     "output_type": "display_data"
    }
   ],
   "source": [
    "sns.distplot(anova1, kde=False, fit=sp.stats.norm)\n",
    "sns.distplot(anova2, kde=False, fit=sp.stats.norm)\n",
    "sns.distplot(anova3, kde=False, fit=sp.stats.norm)\n"
   ]
  },
  {
   "cell_type": "code",
   "execution_count": 88,
   "metadata": {},
   "outputs": [
    {
     "data": {
      "text/plain": [
       "PearsonRResult(statistic=0.41783620648818565, pvalue=4.546075388272441e-12)"
      ]
     },
     "execution_count": 88,
     "metadata": {},
     "output_type": "execute_result"
    }
   ],
   "source": [
    "#상관분석 \n",
    "sp.stats.pearsonr(df['재구매의향'], df['구입조언'])"
   ]
  },
  {
   "cell_type": "code",
   "execution_count": 89,
   "metadata": {},
   "outputs": [
    {
     "data": {
      "text/html": [
       "<div>\n",
       "<style scoped>\n",
       "    .dataframe tbody tr th:only-of-type {\n",
       "        vertical-align: middle;\n",
       "    }\n",
       "\n",
       "    .dataframe tbody tr th {\n",
       "        vertical-align: top;\n",
       "    }\n",
       "\n",
       "    .dataframe thead th {\n",
       "        text-align: right;\n",
       "    }\n",
       "</style>\n",
       "<table border=\"1\" class=\"dataframe\">\n",
       "  <thead>\n",
       "    <tr style=\"text-align: right;\">\n",
       "      <th></th>\n",
       "      <th>번호</th>\n",
       "      <th>사용브랜드</th>\n",
       "      <th>사용기간</th>\n",
       "      <th>구매장소</th>\n",
       "      <th>구매가격</th>\n",
       "      <th>정보획득</th>\n",
       "      <th>구입조언</th>\n",
       "      <th>하루사용시간</th>\n",
       "      <th>브랜드이미지</th>\n",
       "      <th>가격만족도</th>\n",
       "      <th>...</th>\n",
       "      <th>구매중요도9_A/S</th>\n",
       "      <th>구매중요도10_명성</th>\n",
       "      <th>성별</th>\n",
       "      <th>연령</th>\n",
       "      <th>연령2</th>\n",
       "      <th>학력</th>\n",
       "      <th>직업</th>\n",
       "      <th>월수입</th>\n",
       "      <th>결혼</th>\n",
       "      <th>가족수</th>\n",
       "    </tr>\n",
       "  </thead>\n",
       "  <tbody>\n",
       "    <tr>\n",
       "      <th>번호</th>\n",
       "      <td>1.000000</td>\n",
       "      <td>-0.047623</td>\n",
       "      <td>0.055364</td>\n",
       "      <td>-0.025606</td>\n",
       "      <td>-0.086080</td>\n",
       "      <td>-0.051147</td>\n",
       "      <td>-0.050270</td>\n",
       "      <td>0.016985</td>\n",
       "      <td>0.136440</td>\n",
       "      <td>0.078784</td>\n",
       "      <td>...</td>\n",
       "      <td>0.052534</td>\n",
       "      <td>-0.010902</td>\n",
       "      <td>-1.080086e-02</td>\n",
       "      <td>-0.038587</td>\n",
       "      <td>-3.437524e-03</td>\n",
       "      <td>-0.018785</td>\n",
       "      <td>0.014950</td>\n",
       "      <td>-0.201912</td>\n",
       "      <td>-0.155690</td>\n",
       "      <td>0.020283</td>\n",
       "    </tr>\n",
       "    <tr>\n",
       "      <th>사용브랜드</th>\n",
       "      <td>-0.047623</td>\n",
       "      <td>1.000000</td>\n",
       "      <td>0.015513</td>\n",
       "      <td>-0.009409</td>\n",
       "      <td>0.504192</td>\n",
       "      <td>-0.056471</td>\n",
       "      <td>-0.022794</td>\n",
       "      <td>-0.023418</td>\n",
       "      <td>-0.086466</td>\n",
       "      <td>-0.048290</td>\n",
       "      <td>...</td>\n",
       "      <td>-0.319646</td>\n",
       "      <td>-0.268644</td>\n",
       "      <td>7.936758e-03</td>\n",
       "      <td>0.035986</td>\n",
       "      <td>2.056873e-02</td>\n",
       "      <td>0.015688</td>\n",
       "      <td>0.078505</td>\n",
       "      <td>0.000946</td>\n",
       "      <td>0.011505</td>\n",
       "      <td>-0.012989</td>\n",
       "    </tr>\n",
       "    <tr>\n",
       "      <th>사용기간</th>\n",
       "      <td>0.055364</td>\n",
       "      <td>0.015513</td>\n",
       "      <td>1.000000</td>\n",
       "      <td>-0.033291</td>\n",
       "      <td>0.055694</td>\n",
       "      <td>-0.041385</td>\n",
       "      <td>0.163995</td>\n",
       "      <td>-0.031484</td>\n",
       "      <td>0.364656</td>\n",
       "      <td>0.275456</td>\n",
       "      <td>...</td>\n",
       "      <td>0.049501</td>\n",
       "      <td>-0.070494</td>\n",
       "      <td>2.095292e-02</td>\n",
       "      <td>0.289194</td>\n",
       "      <td>2.802837e-01</td>\n",
       "      <td>0.135625</td>\n",
       "      <td>-0.067558</td>\n",
       "      <td>0.170708</td>\n",
       "      <td>0.200593</td>\n",
       "      <td>-0.031246</td>\n",
       "    </tr>\n",
       "    <tr>\n",
       "      <th>구매장소</th>\n",
       "      <td>-0.025606</td>\n",
       "      <td>-0.009409</td>\n",
       "      <td>-0.033291</td>\n",
       "      <td>1.000000</td>\n",
       "      <td>0.000500</td>\n",
       "      <td>0.154155</td>\n",
       "      <td>0.129688</td>\n",
       "      <td>0.096426</td>\n",
       "      <td>-0.112618</td>\n",
       "      <td>-0.101271</td>\n",
       "      <td>...</td>\n",
       "      <td>-0.015530</td>\n",
       "      <td>-0.003555</td>\n",
       "      <td>1.116104e-01</td>\n",
       "      <td>0.063064</td>\n",
       "      <td>3.949891e-02</td>\n",
       "      <td>0.005582</td>\n",
       "      <td>0.052707</td>\n",
       "      <td>-0.052339</td>\n",
       "      <td>-0.025227</td>\n",
       "      <td>-0.125619</td>\n",
       "    </tr>\n",
       "    <tr>\n",
       "      <th>구매가격</th>\n",
       "      <td>-0.086080</td>\n",
       "      <td>0.504192</td>\n",
       "      <td>0.055694</td>\n",
       "      <td>0.000500</td>\n",
       "      <td>1.000000</td>\n",
       "      <td>0.036478</td>\n",
       "      <td>0.166607</td>\n",
       "      <td>0.162502</td>\n",
       "      <td>0.016474</td>\n",
       "      <td>0.121168</td>\n",
       "      <td>...</td>\n",
       "      <td>-0.061142</td>\n",
       "      <td>-0.089322</td>\n",
       "      <td>5.441430e-02</td>\n",
       "      <td>0.026217</td>\n",
       "      <td>4.756285e-02</td>\n",
       "      <td>0.102732</td>\n",
       "      <td>-0.021546</td>\n",
       "      <td>0.140954</td>\n",
       "      <td>0.010288</td>\n",
       "      <td>0.031466</td>\n",
       "    </tr>\n",
       "    <tr>\n",
       "      <th>정보획득</th>\n",
       "      <td>-0.051147</td>\n",
       "      <td>-0.056471</td>\n",
       "      <td>-0.041385</td>\n",
       "      <td>0.154155</td>\n",
       "      <td>0.036478</td>\n",
       "      <td>1.000000</td>\n",
       "      <td>0.044041</td>\n",
       "      <td>0.036552</td>\n",
       "      <td>-0.109654</td>\n",
       "      <td>0.001379</td>\n",
       "      <td>...</td>\n",
       "      <td>0.031857</td>\n",
       "      <td>0.084373</td>\n",
       "      <td>2.084692e-01</td>\n",
       "      <td>-0.028481</td>\n",
       "      <td>-5.093567e-02</td>\n",
       "      <td>-0.030649</td>\n",
       "      <td>0.040337</td>\n",
       "      <td>0.024921</td>\n",
       "      <td>-0.008287</td>\n",
       "      <td>0.110201</td>\n",
       "    </tr>\n",
       "    <tr>\n",
       "      <th>구입조언</th>\n",
       "      <td>-0.050270</td>\n",
       "      <td>-0.022794</td>\n",
       "      <td>0.163995</td>\n",
       "      <td>0.129688</td>\n",
       "      <td>0.166607</td>\n",
       "      <td>0.044041</td>\n",
       "      <td>1.000000</td>\n",
       "      <td>0.152128</td>\n",
       "      <td>0.255051</td>\n",
       "      <td>0.365651</td>\n",
       "      <td>...</td>\n",
       "      <td>0.315692</td>\n",
       "      <td>0.199148</td>\n",
       "      <td>9.656477e-02</td>\n",
       "      <td>0.623919</td>\n",
       "      <td>6.405167e-01</td>\n",
       "      <td>0.202405</td>\n",
       "      <td>-0.178018</td>\n",
       "      <td>0.203266</td>\n",
       "      <td>0.243664</td>\n",
       "      <td>-0.011434</td>\n",
       "    </tr>\n",
       "    <tr>\n",
       "      <th>하루사용시간</th>\n",
       "      <td>0.016985</td>\n",
       "      <td>-0.023418</td>\n",
       "      <td>-0.031484</td>\n",
       "      <td>0.096426</td>\n",
       "      <td>0.162502</td>\n",
       "      <td>0.036552</td>\n",
       "      <td>0.152128</td>\n",
       "      <td>1.000000</td>\n",
       "      <td>-0.045647</td>\n",
       "      <td>0.050846</td>\n",
       "      <td>...</td>\n",
       "      <td>0.019810</td>\n",
       "      <td>0.010031</td>\n",
       "      <td>-6.277929e-02</td>\n",
       "      <td>0.033098</td>\n",
       "      <td>2.471600e-02</td>\n",
       "      <td>0.225983</td>\n",
       "      <td>0.023726</td>\n",
       "      <td>0.107988</td>\n",
       "      <td>-0.087184</td>\n",
       "      <td>0.085902</td>\n",
       "    </tr>\n",
       "    <tr>\n",
       "      <th>브랜드이미지</th>\n",
       "      <td>0.136440</td>\n",
       "      <td>-0.086466</td>\n",
       "      <td>0.364656</td>\n",
       "      <td>-0.112618</td>\n",
       "      <td>0.016474</td>\n",
       "      <td>-0.109654</td>\n",
       "      <td>0.255051</td>\n",
       "      <td>-0.045647</td>\n",
       "      <td>1.000000</td>\n",
       "      <td>0.512966</td>\n",
       "      <td>...</td>\n",
       "      <td>0.240870</td>\n",
       "      <td>0.141335</td>\n",
       "      <td>-7.046798e-03</td>\n",
       "      <td>0.300457</td>\n",
       "      <td>3.383337e-01</td>\n",
       "      <td>0.089793</td>\n",
       "      <td>-0.023346</td>\n",
       "      <td>0.113624</td>\n",
       "      <td>0.121006</td>\n",
       "      <td>0.029519</td>\n",
       "    </tr>\n",
       "    <tr>\n",
       "      <th>가격만족도</th>\n",
       "      <td>0.078784</td>\n",
       "      <td>-0.048290</td>\n",
       "      <td>0.275456</td>\n",
       "      <td>-0.101271</td>\n",
       "      <td>0.121168</td>\n",
       "      <td>0.001379</td>\n",
       "      <td>0.365651</td>\n",
       "      <td>0.050846</td>\n",
       "      <td>0.512966</td>\n",
       "      <td>1.000000</td>\n",
       "      <td>...</td>\n",
       "      <td>0.283316</td>\n",
       "      <td>0.218231</td>\n",
       "      <td>-8.536627e-02</td>\n",
       "      <td>0.494699</td>\n",
       "      <td>5.186812e-01</td>\n",
       "      <td>0.057481</td>\n",
       "      <td>0.015575</td>\n",
       "      <td>0.137864</td>\n",
       "      <td>0.307197</td>\n",
       "      <td>0.079693</td>\n",
       "    </tr>\n",
       "    <tr>\n",
       "      <th>재구매의향</th>\n",
       "      <td>0.160107</td>\n",
       "      <td>0.005639</td>\n",
       "      <td>0.437576</td>\n",
       "      <td>-0.043883</td>\n",
       "      <td>0.084073</td>\n",
       "      <td>-0.035400</td>\n",
       "      <td>0.417836</td>\n",
       "      <td>0.005590</td>\n",
       "      <td>0.718376</td>\n",
       "      <td>0.687236</td>\n",
       "      <td>...</td>\n",
       "      <td>0.259575</td>\n",
       "      <td>0.147048</td>\n",
       "      <td>-6.897864e-03</td>\n",
       "      <td>0.477725</td>\n",
       "      <td>5.198256e-01</td>\n",
       "      <td>0.104232</td>\n",
       "      <td>-0.011976</td>\n",
       "      <td>0.112335</td>\n",
       "      <td>0.202286</td>\n",
       "      <td>0.024099</td>\n",
       "    </tr>\n",
       "    <tr>\n",
       "      <th>구매중요도1_메모리</th>\n",
       "      <td>-0.018018</td>\n",
       "      <td>-0.585049</td>\n",
       "      <td>-0.048485</td>\n",
       "      <td>-0.027008</td>\n",
       "      <td>-0.183833</td>\n",
       "      <td>0.075859</td>\n",
       "      <td>-0.147773</td>\n",
       "      <td>0.007177</td>\n",
       "      <td>0.003874</td>\n",
       "      <td>-0.115503</td>\n",
       "      <td>...</td>\n",
       "      <td>0.102691</td>\n",
       "      <td>0.110390</td>\n",
       "      <td>1.296455e-02</td>\n",
       "      <td>-0.187183</td>\n",
       "      <td>-1.747130e-01</td>\n",
       "      <td>0.018014</td>\n",
       "      <td>-0.061743</td>\n",
       "      <td>0.035864</td>\n",
       "      <td>-0.098591</td>\n",
       "      <td>0.035993</td>\n",
       "    </tr>\n",
       "    <tr>\n",
       "      <th>구매중요도2_배터리</th>\n",
       "      <td>-0.053099</td>\n",
       "      <td>-0.340735</td>\n",
       "      <td>0.010242</td>\n",
       "      <td>0.003947</td>\n",
       "      <td>0.031399</td>\n",
       "      <td>0.052697</td>\n",
       "      <td>-0.023678</td>\n",
       "      <td>0.067658</td>\n",
       "      <td>0.056284</td>\n",
       "      <td>-0.062136</td>\n",
       "      <td>...</td>\n",
       "      <td>0.196167</td>\n",
       "      <td>0.179381</td>\n",
       "      <td>-3.231073e-03</td>\n",
       "      <td>-0.061232</td>\n",
       "      <td>-8.726150e-02</td>\n",
       "      <td>0.100078</td>\n",
       "      <td>-0.071072</td>\n",
       "      <td>0.049539</td>\n",
       "      <td>0.014051</td>\n",
       "      <td>0.033454</td>\n",
       "    </tr>\n",
       "    <tr>\n",
       "      <th>구매중요도3_카메라</th>\n",
       "      <td>-0.151147</td>\n",
       "      <td>-0.106874</td>\n",
       "      <td>-0.172805</td>\n",
       "      <td>-0.019319</td>\n",
       "      <td>-0.087194</td>\n",
       "      <td>0.083842</td>\n",
       "      <td>-0.323500</td>\n",
       "      <td>-0.120396</td>\n",
       "      <td>-0.160745</td>\n",
       "      <td>-0.338452</td>\n",
       "      <td>...</td>\n",
       "      <td>-0.195200</td>\n",
       "      <td>-0.093054</td>\n",
       "      <td>1.101127e-01</td>\n",
       "      <td>-0.463506</td>\n",
       "      <td>-4.583293e-01</td>\n",
       "      <td>0.018792</td>\n",
       "      <td>0.028458</td>\n",
       "      <td>-0.022536</td>\n",
       "      <td>-0.178627</td>\n",
       "      <td>-0.010813</td>\n",
       "    </tr>\n",
       "    <tr>\n",
       "      <th>구매중요도4_처리속도</th>\n",
       "      <td>-0.020964</td>\n",
       "      <td>-0.375996</td>\n",
       "      <td>-0.065231</td>\n",
       "      <td>-0.044312</td>\n",
       "      <td>-0.105032</td>\n",
       "      <td>0.080248</td>\n",
       "      <td>-0.162144</td>\n",
       "      <td>-0.005476</td>\n",
       "      <td>-0.060925</td>\n",
       "      <td>-0.156917</td>\n",
       "      <td>...</td>\n",
       "      <td>0.005682</td>\n",
       "      <td>-0.005932</td>\n",
       "      <td>-9.892266e-03</td>\n",
       "      <td>-0.223312</td>\n",
       "      <td>-2.010448e-01</td>\n",
       "      <td>0.043873</td>\n",
       "      <td>-0.047742</td>\n",
       "      <td>0.053607</td>\n",
       "      <td>-0.051843</td>\n",
       "      <td>-0.044375</td>\n",
       "    </tr>\n",
       "    <tr>\n",
       "      <th>구매중요도5_보안기능</th>\n",
       "      <td>-0.034794</td>\n",
       "      <td>-0.326274</td>\n",
       "      <td>0.066387</td>\n",
       "      <td>-0.060124</td>\n",
       "      <td>-0.037961</td>\n",
       "      <td>0.107348</td>\n",
       "      <td>0.251546</td>\n",
       "      <td>0.048557</td>\n",
       "      <td>0.218322</td>\n",
       "      <td>0.255049</td>\n",
       "      <td>...</td>\n",
       "      <td>0.704430</td>\n",
       "      <td>0.575520</td>\n",
       "      <td>-3.452179e-02</td>\n",
       "      <td>0.282633</td>\n",
       "      <td>2.559839e-01</td>\n",
       "      <td>-0.000749</td>\n",
       "      <td>-0.125818</td>\n",
       "      <td>0.171853</td>\n",
       "      <td>0.204016</td>\n",
       "      <td>0.055859</td>\n",
       "    </tr>\n",
       "    <tr>\n",
       "      <th>구매중요도6_운영체계</th>\n",
       "      <td>-0.119073</td>\n",
       "      <td>-0.415133</td>\n",
       "      <td>-0.101203</td>\n",
       "      <td>-0.040761</td>\n",
       "      <td>-0.113967</td>\n",
       "      <td>0.017707</td>\n",
       "      <td>-0.206953</td>\n",
       "      <td>-0.002158</td>\n",
       "      <td>-0.050563</td>\n",
       "      <td>-0.149211</td>\n",
       "      <td>...</td>\n",
       "      <td>0.057104</td>\n",
       "      <td>0.085127</td>\n",
       "      <td>-1.512494e-02</td>\n",
       "      <td>-0.283037</td>\n",
       "      <td>-2.622105e-01</td>\n",
       "      <td>0.005217</td>\n",
       "      <td>-0.030114</td>\n",
       "      <td>0.025597</td>\n",
       "      <td>-0.103552</td>\n",
       "      <td>0.072978</td>\n",
       "    </tr>\n",
       "    <tr>\n",
       "      <th>구매중요도7_디자인</th>\n",
       "      <td>-0.195526</td>\n",
       "      <td>-0.064535</td>\n",
       "      <td>-0.181043</td>\n",
       "      <td>-0.045440</td>\n",
       "      <td>-0.150045</td>\n",
       "      <td>0.088673</td>\n",
       "      <td>-0.384920</td>\n",
       "      <td>-0.126104</td>\n",
       "      <td>-0.262693</td>\n",
       "      <td>-0.414275</td>\n",
       "      <td>...</td>\n",
       "      <td>-0.316228</td>\n",
       "      <td>-0.167307</td>\n",
       "      <td>1.485585e-01</td>\n",
       "      <td>-0.510282</td>\n",
       "      <td>-5.254928e-01</td>\n",
       "      <td>-0.072286</td>\n",
       "      <td>-0.023820</td>\n",
       "      <td>-0.030203</td>\n",
       "      <td>-0.252893</td>\n",
       "      <td>-0.016545</td>\n",
       "    </tr>\n",
       "    <tr>\n",
       "      <th>구매중요도8_음질</th>\n",
       "      <td>-0.137432</td>\n",
       "      <td>-0.140730</td>\n",
       "      <td>0.019943</td>\n",
       "      <td>-0.001288</td>\n",
       "      <td>-0.079770</td>\n",
       "      <td>0.022916</td>\n",
       "      <td>-0.167400</td>\n",
       "      <td>-0.022253</td>\n",
       "      <td>-0.061900</td>\n",
       "      <td>-0.145609</td>\n",
       "      <td>...</td>\n",
       "      <td>-0.023625</td>\n",
       "      <td>-0.006820</td>\n",
       "      <td>1.701276e-01</td>\n",
       "      <td>-0.211704</td>\n",
       "      <td>-2.076630e-01</td>\n",
       "      <td>-0.050354</td>\n",
       "      <td>-0.128577</td>\n",
       "      <td>0.125864</td>\n",
       "      <td>-0.129694</td>\n",
       "      <td>-0.024584</td>\n",
       "    </tr>\n",
       "    <tr>\n",
       "      <th>구매중요도9_A/S</th>\n",
       "      <td>0.052534</td>\n",
       "      <td>-0.319646</td>\n",
       "      <td>0.049501</td>\n",
       "      <td>-0.015530</td>\n",
       "      <td>-0.061142</td>\n",
       "      <td>0.031857</td>\n",
       "      <td>0.315692</td>\n",
       "      <td>0.019810</td>\n",
       "      <td>0.240870</td>\n",
       "      <td>0.283316</td>\n",
       "      <td>...</td>\n",
       "      <td>1.000000</td>\n",
       "      <td>0.799956</td>\n",
       "      <td>4.581016e-02</td>\n",
       "      <td>0.369304</td>\n",
       "      <td>3.282842e-01</td>\n",
       "      <td>0.040158</td>\n",
       "      <td>-0.122752</td>\n",
       "      <td>0.168111</td>\n",
       "      <td>0.270728</td>\n",
       "      <td>-0.057701</td>\n",
       "    </tr>\n",
       "    <tr>\n",
       "      <th>구매중요도10_명성</th>\n",
       "      <td>-0.010902</td>\n",
       "      <td>-0.268644</td>\n",
       "      <td>-0.070494</td>\n",
       "      <td>-0.003555</td>\n",
       "      <td>-0.089322</td>\n",
       "      <td>0.084373</td>\n",
       "      <td>0.199148</td>\n",
       "      <td>0.010031</td>\n",
       "      <td>0.141335</td>\n",
       "      <td>0.218231</td>\n",
       "      <td>...</td>\n",
       "      <td>0.799956</td>\n",
       "      <td>1.000000</td>\n",
       "      <td>5.612294e-02</td>\n",
       "      <td>0.235664</td>\n",
       "      <td>2.044719e-01</td>\n",
       "      <td>-0.019086</td>\n",
       "      <td>-0.143263</td>\n",
       "      <td>0.125387</td>\n",
       "      <td>0.219030</td>\n",
       "      <td>0.030684</td>\n",
       "    </tr>\n",
       "    <tr>\n",
       "      <th>성별</th>\n",
       "      <td>-0.010801</td>\n",
       "      <td>0.007937</td>\n",
       "      <td>0.020953</td>\n",
       "      <td>0.111610</td>\n",
       "      <td>0.054414</td>\n",
       "      <td>0.208469</td>\n",
       "      <td>0.096565</td>\n",
       "      <td>-0.062779</td>\n",
       "      <td>-0.007047</td>\n",
       "      <td>-0.085366</td>\n",
       "      <td>...</td>\n",
       "      <td>0.045810</td>\n",
       "      <td>0.056123</td>\n",
       "      <td>1.000000e+00</td>\n",
       "      <td>0.009586</td>\n",
       "      <td>-6.467458e-18</td>\n",
       "      <td>0.022513</td>\n",
       "      <td>-0.235380</td>\n",
       "      <td>0.240694</td>\n",
       "      <td>-0.015929</td>\n",
       "      <td>0.033919</td>\n",
       "    </tr>\n",
       "    <tr>\n",
       "      <th>연령</th>\n",
       "      <td>-0.038587</td>\n",
       "      <td>0.035986</td>\n",
       "      <td>0.289194</td>\n",
       "      <td>0.063064</td>\n",
       "      <td>0.026217</td>\n",
       "      <td>-0.028481</td>\n",
       "      <td>0.623919</td>\n",
       "      <td>0.033098</td>\n",
       "      <td>0.300457</td>\n",
       "      <td>0.494699</td>\n",
       "      <td>...</td>\n",
       "      <td>0.369304</td>\n",
       "      <td>0.235664</td>\n",
       "      <td>9.585741e-03</td>\n",
       "      <td>1.000000</td>\n",
       "      <td>9.348512e-01</td>\n",
       "      <td>0.163192</td>\n",
       "      <td>-0.164438</td>\n",
       "      <td>0.217933</td>\n",
       "      <td>0.501295</td>\n",
       "      <td>-0.025442</td>\n",
       "    </tr>\n",
       "    <tr>\n",
       "      <th>연령2</th>\n",
       "      <td>-0.003438</td>\n",
       "      <td>0.020569</td>\n",
       "      <td>0.280284</td>\n",
       "      <td>0.039499</td>\n",
       "      <td>0.047563</td>\n",
       "      <td>-0.050936</td>\n",
       "      <td>0.640517</td>\n",
       "      <td>0.024716</td>\n",
       "      <td>0.338334</td>\n",
       "      <td>0.518681</td>\n",
       "      <td>...</td>\n",
       "      <td>0.328284</td>\n",
       "      <td>0.204472</td>\n",
       "      <td>-6.467458e-18</td>\n",
       "      <td>0.934851</td>\n",
       "      <td>1.000000e+00</td>\n",
       "      <td>0.181329</td>\n",
       "      <td>-0.170908</td>\n",
       "      <td>0.226626</td>\n",
       "      <td>0.452473</td>\n",
       "      <td>0.002892</td>\n",
       "    </tr>\n",
       "    <tr>\n",
       "      <th>학력</th>\n",
       "      <td>-0.018785</td>\n",
       "      <td>0.015688</td>\n",
       "      <td>0.135625</td>\n",
       "      <td>0.005582</td>\n",
       "      <td>0.102732</td>\n",
       "      <td>-0.030649</td>\n",
       "      <td>0.202405</td>\n",
       "      <td>0.225983</td>\n",
       "      <td>0.089793</td>\n",
       "      <td>0.057481</td>\n",
       "      <td>...</td>\n",
       "      <td>0.040158</td>\n",
       "      <td>-0.019086</td>\n",
       "      <td>2.251316e-02</td>\n",
       "      <td>0.163192</td>\n",
       "      <td>1.813289e-01</td>\n",
       "      <td>1.000000</td>\n",
       "      <td>-0.220675</td>\n",
       "      <td>0.315942</td>\n",
       "      <td>0.089870</td>\n",
       "      <td>-0.077279</td>\n",
       "    </tr>\n",
       "    <tr>\n",
       "      <th>직업</th>\n",
       "      <td>0.014950</td>\n",
       "      <td>0.078505</td>\n",
       "      <td>-0.067558</td>\n",
       "      <td>0.052707</td>\n",
       "      <td>-0.021546</td>\n",
       "      <td>0.040337</td>\n",
       "      <td>-0.178018</td>\n",
       "      <td>0.023726</td>\n",
       "      <td>-0.023346</td>\n",
       "      <td>0.015575</td>\n",
       "      <td>...</td>\n",
       "      <td>-0.122752</td>\n",
       "      <td>-0.143263</td>\n",
       "      <td>-2.353798e-01</td>\n",
       "      <td>-0.164438</td>\n",
       "      <td>-1.709077e-01</td>\n",
       "      <td>-0.220675</td>\n",
       "      <td>1.000000</td>\n",
       "      <td>-0.329444</td>\n",
       "      <td>-0.133204</td>\n",
       "      <td>-0.047408</td>\n",
       "    </tr>\n",
       "    <tr>\n",
       "      <th>월수입</th>\n",
       "      <td>-0.201912</td>\n",
       "      <td>0.000946</td>\n",
       "      <td>0.170708</td>\n",
       "      <td>-0.052339</td>\n",
       "      <td>0.140954</td>\n",
       "      <td>0.024921</td>\n",
       "      <td>0.203266</td>\n",
       "      <td>0.107988</td>\n",
       "      <td>0.113624</td>\n",
       "      <td>0.137864</td>\n",
       "      <td>...</td>\n",
       "      <td>0.168111</td>\n",
       "      <td>0.125387</td>\n",
       "      <td>2.406943e-01</td>\n",
       "      <td>0.217933</td>\n",
       "      <td>2.266256e-01</td>\n",
       "      <td>0.315942</td>\n",
       "      <td>-0.329444</td>\n",
       "      <td>1.000000</td>\n",
       "      <td>0.324409</td>\n",
       "      <td>-0.032161</td>\n",
       "    </tr>\n",
       "    <tr>\n",
       "      <th>결혼</th>\n",
       "      <td>-0.155690</td>\n",
       "      <td>0.011505</td>\n",
       "      <td>0.200593</td>\n",
       "      <td>-0.025227</td>\n",
       "      <td>0.010288</td>\n",
       "      <td>-0.008287</td>\n",
       "      <td>0.243664</td>\n",
       "      <td>-0.087184</td>\n",
       "      <td>0.121006</td>\n",
       "      <td>0.307197</td>\n",
       "      <td>...</td>\n",
       "      <td>0.270728</td>\n",
       "      <td>0.219030</td>\n",
       "      <td>-1.592930e-02</td>\n",
       "      <td>0.501295</td>\n",
       "      <td>4.524729e-01</td>\n",
       "      <td>0.089870</td>\n",
       "      <td>-0.133204</td>\n",
       "      <td>0.324409</td>\n",
       "      <td>1.000000</td>\n",
       "      <td>-0.095499</td>\n",
       "    </tr>\n",
       "    <tr>\n",
       "      <th>가족수</th>\n",
       "      <td>0.020283</td>\n",
       "      <td>-0.012989</td>\n",
       "      <td>-0.031246</td>\n",
       "      <td>-0.125619</td>\n",
       "      <td>0.031466</td>\n",
       "      <td>0.110201</td>\n",
       "      <td>-0.011434</td>\n",
       "      <td>0.085902</td>\n",
       "      <td>0.029519</td>\n",
       "      <td>0.079693</td>\n",
       "      <td>...</td>\n",
       "      <td>-0.057701</td>\n",
       "      <td>0.030684</td>\n",
       "      <td>3.391902e-02</td>\n",
       "      <td>-0.025442</td>\n",
       "      <td>2.891572e-03</td>\n",
       "      <td>-0.077279</td>\n",
       "      <td>-0.047408</td>\n",
       "      <td>-0.032161</td>\n",
       "      <td>-0.095499</td>\n",
       "      <td>1.000000</td>\n",
       "    </tr>\n",
       "  </tbody>\n",
       "</table>\n",
       "<p>29 rows × 29 columns</p>\n",
       "</div>"
      ],
      "text/plain": [
       "                   번호     사용브랜드      사용기간      구매장소      구매가격      정보획득  \\\n",
       "번호           1.000000 -0.047623  0.055364 -0.025606 -0.086080 -0.051147   \n",
       "사용브랜드       -0.047623  1.000000  0.015513 -0.009409  0.504192 -0.056471   \n",
       "사용기간         0.055364  0.015513  1.000000 -0.033291  0.055694 -0.041385   \n",
       "구매장소        -0.025606 -0.009409 -0.033291  1.000000  0.000500  0.154155   \n",
       "구매가격        -0.086080  0.504192  0.055694  0.000500  1.000000  0.036478   \n",
       "정보획득        -0.051147 -0.056471 -0.041385  0.154155  0.036478  1.000000   \n",
       "구입조언        -0.050270 -0.022794  0.163995  0.129688  0.166607  0.044041   \n",
       "하루사용시간       0.016985 -0.023418 -0.031484  0.096426  0.162502  0.036552   \n",
       "브랜드이미지       0.136440 -0.086466  0.364656 -0.112618  0.016474 -0.109654   \n",
       "가격만족도        0.078784 -0.048290  0.275456 -0.101271  0.121168  0.001379   \n",
       "재구매의향        0.160107  0.005639  0.437576 -0.043883  0.084073 -0.035400   \n",
       "구매중요도1_메모리  -0.018018 -0.585049 -0.048485 -0.027008 -0.183833  0.075859   \n",
       "구매중요도2_배터리  -0.053099 -0.340735  0.010242  0.003947  0.031399  0.052697   \n",
       "구매중요도3_카메라  -0.151147 -0.106874 -0.172805 -0.019319 -0.087194  0.083842   \n",
       "구매중요도4_처리속도 -0.020964 -0.375996 -0.065231 -0.044312 -0.105032  0.080248   \n",
       "구매중요도5_보안기능 -0.034794 -0.326274  0.066387 -0.060124 -0.037961  0.107348   \n",
       "구매중요도6_운영체계 -0.119073 -0.415133 -0.101203 -0.040761 -0.113967  0.017707   \n",
       "구매중요도7_디자인  -0.195526 -0.064535 -0.181043 -0.045440 -0.150045  0.088673   \n",
       "구매중요도8_음질   -0.137432 -0.140730  0.019943 -0.001288 -0.079770  0.022916   \n",
       "구매중요도9_A/S   0.052534 -0.319646  0.049501 -0.015530 -0.061142  0.031857   \n",
       "구매중요도10_명성  -0.010902 -0.268644 -0.070494 -0.003555 -0.089322  0.084373   \n",
       "성별          -0.010801  0.007937  0.020953  0.111610  0.054414  0.208469   \n",
       "연령          -0.038587  0.035986  0.289194  0.063064  0.026217 -0.028481   \n",
       "연령2         -0.003438  0.020569  0.280284  0.039499  0.047563 -0.050936   \n",
       "학력          -0.018785  0.015688  0.135625  0.005582  0.102732 -0.030649   \n",
       "직업           0.014950  0.078505 -0.067558  0.052707 -0.021546  0.040337   \n",
       "월수입         -0.201912  0.000946  0.170708 -0.052339  0.140954  0.024921   \n",
       "결혼          -0.155690  0.011505  0.200593 -0.025227  0.010288 -0.008287   \n",
       "가족수          0.020283 -0.012989 -0.031246 -0.125619  0.031466  0.110201   \n",
       "\n",
       "                 구입조언    하루사용시간    브랜드이미지     가격만족도  ...  구매중요도9_A/S  \\\n",
       "번호          -0.050270  0.016985  0.136440  0.078784  ...    0.052534   \n",
       "사용브랜드       -0.022794 -0.023418 -0.086466 -0.048290  ...   -0.319646   \n",
       "사용기간         0.163995 -0.031484  0.364656  0.275456  ...    0.049501   \n",
       "구매장소         0.129688  0.096426 -0.112618 -0.101271  ...   -0.015530   \n",
       "구매가격         0.166607  0.162502  0.016474  0.121168  ...   -0.061142   \n",
       "정보획득         0.044041  0.036552 -0.109654  0.001379  ...    0.031857   \n",
       "구입조언         1.000000  0.152128  0.255051  0.365651  ...    0.315692   \n",
       "하루사용시간       0.152128  1.000000 -0.045647  0.050846  ...    0.019810   \n",
       "브랜드이미지       0.255051 -0.045647  1.000000  0.512966  ...    0.240870   \n",
       "가격만족도        0.365651  0.050846  0.512966  1.000000  ...    0.283316   \n",
       "재구매의향        0.417836  0.005590  0.718376  0.687236  ...    0.259575   \n",
       "구매중요도1_메모리  -0.147773  0.007177  0.003874 -0.115503  ...    0.102691   \n",
       "구매중요도2_배터리  -0.023678  0.067658  0.056284 -0.062136  ...    0.196167   \n",
       "구매중요도3_카메라  -0.323500 -0.120396 -0.160745 -0.338452  ...   -0.195200   \n",
       "구매중요도4_처리속도 -0.162144 -0.005476 -0.060925 -0.156917  ...    0.005682   \n",
       "구매중요도5_보안기능  0.251546  0.048557  0.218322  0.255049  ...    0.704430   \n",
       "구매중요도6_운영체계 -0.206953 -0.002158 -0.050563 -0.149211  ...    0.057104   \n",
       "구매중요도7_디자인  -0.384920 -0.126104 -0.262693 -0.414275  ...   -0.316228   \n",
       "구매중요도8_음질   -0.167400 -0.022253 -0.061900 -0.145609  ...   -0.023625   \n",
       "구매중요도9_A/S   0.315692  0.019810  0.240870  0.283316  ...    1.000000   \n",
       "구매중요도10_명성   0.199148  0.010031  0.141335  0.218231  ...    0.799956   \n",
       "성별           0.096565 -0.062779 -0.007047 -0.085366  ...    0.045810   \n",
       "연령           0.623919  0.033098  0.300457  0.494699  ...    0.369304   \n",
       "연령2          0.640517  0.024716  0.338334  0.518681  ...    0.328284   \n",
       "학력           0.202405  0.225983  0.089793  0.057481  ...    0.040158   \n",
       "직업          -0.178018  0.023726 -0.023346  0.015575  ...   -0.122752   \n",
       "월수입          0.203266  0.107988  0.113624  0.137864  ...    0.168111   \n",
       "결혼           0.243664 -0.087184  0.121006  0.307197  ...    0.270728   \n",
       "가족수         -0.011434  0.085902  0.029519  0.079693  ...   -0.057701   \n",
       "\n",
       "             구매중요도10_명성             성별        연령           연령2        학력  \\\n",
       "번호             -0.010902 -1.080086e-02 -0.038587 -3.437524e-03 -0.018785   \n",
       "사용브랜드          -0.268644  7.936758e-03  0.035986  2.056873e-02  0.015688   \n",
       "사용기간           -0.070494  2.095292e-02  0.289194  2.802837e-01  0.135625   \n",
       "구매장소           -0.003555  1.116104e-01  0.063064  3.949891e-02  0.005582   \n",
       "구매가격           -0.089322  5.441430e-02  0.026217  4.756285e-02  0.102732   \n",
       "정보획득            0.084373  2.084692e-01 -0.028481 -5.093567e-02 -0.030649   \n",
       "구입조언            0.199148  9.656477e-02  0.623919  6.405167e-01  0.202405   \n",
       "하루사용시간          0.010031 -6.277929e-02  0.033098  2.471600e-02  0.225983   \n",
       "브랜드이미지          0.141335 -7.046798e-03  0.300457  3.383337e-01  0.089793   \n",
       "가격만족도           0.218231 -8.536627e-02  0.494699  5.186812e-01  0.057481   \n",
       "재구매의향           0.147048 -6.897864e-03  0.477725  5.198256e-01  0.104232   \n",
       "구매중요도1_메모리      0.110390  1.296455e-02 -0.187183 -1.747130e-01  0.018014   \n",
       "구매중요도2_배터리      0.179381 -3.231073e-03 -0.061232 -8.726150e-02  0.100078   \n",
       "구매중요도3_카메라     -0.093054  1.101127e-01 -0.463506 -4.583293e-01  0.018792   \n",
       "구매중요도4_처리속도    -0.005932 -9.892266e-03 -0.223312 -2.010448e-01  0.043873   \n",
       "구매중요도5_보안기능     0.575520 -3.452179e-02  0.282633  2.559839e-01 -0.000749   \n",
       "구매중요도6_운영체계     0.085127 -1.512494e-02 -0.283037 -2.622105e-01  0.005217   \n",
       "구매중요도7_디자인     -0.167307  1.485585e-01 -0.510282 -5.254928e-01 -0.072286   \n",
       "구매중요도8_음질      -0.006820  1.701276e-01 -0.211704 -2.076630e-01 -0.050354   \n",
       "구매중요도9_A/S      0.799956  4.581016e-02  0.369304  3.282842e-01  0.040158   \n",
       "구매중요도10_명성      1.000000  5.612294e-02  0.235664  2.044719e-01 -0.019086   \n",
       "성별              0.056123  1.000000e+00  0.009586 -6.467458e-18  0.022513   \n",
       "연령              0.235664  9.585741e-03  1.000000  9.348512e-01  0.163192   \n",
       "연령2             0.204472 -6.467458e-18  0.934851  1.000000e+00  0.181329   \n",
       "학력             -0.019086  2.251316e-02  0.163192  1.813289e-01  1.000000   \n",
       "직업             -0.143263 -2.353798e-01 -0.164438 -1.709077e-01 -0.220675   \n",
       "월수입             0.125387  2.406943e-01  0.217933  2.266256e-01  0.315942   \n",
       "결혼              0.219030 -1.592930e-02  0.501295  4.524729e-01  0.089870   \n",
       "가족수             0.030684  3.391902e-02 -0.025442  2.891572e-03 -0.077279   \n",
       "\n",
       "                   직업       월수입        결혼       가족수  \n",
       "번호           0.014950 -0.201912 -0.155690  0.020283  \n",
       "사용브랜드        0.078505  0.000946  0.011505 -0.012989  \n",
       "사용기간        -0.067558  0.170708  0.200593 -0.031246  \n",
       "구매장소         0.052707 -0.052339 -0.025227 -0.125619  \n",
       "구매가격        -0.021546  0.140954  0.010288  0.031466  \n",
       "정보획득         0.040337  0.024921 -0.008287  0.110201  \n",
       "구입조언        -0.178018  0.203266  0.243664 -0.011434  \n",
       "하루사용시간       0.023726  0.107988 -0.087184  0.085902  \n",
       "브랜드이미지      -0.023346  0.113624  0.121006  0.029519  \n",
       "가격만족도        0.015575  0.137864  0.307197  0.079693  \n",
       "재구매의향       -0.011976  0.112335  0.202286  0.024099  \n",
       "구매중요도1_메모리  -0.061743  0.035864 -0.098591  0.035993  \n",
       "구매중요도2_배터리  -0.071072  0.049539  0.014051  0.033454  \n",
       "구매중요도3_카메라   0.028458 -0.022536 -0.178627 -0.010813  \n",
       "구매중요도4_처리속도 -0.047742  0.053607 -0.051843 -0.044375  \n",
       "구매중요도5_보안기능 -0.125818  0.171853  0.204016  0.055859  \n",
       "구매중요도6_운영체계 -0.030114  0.025597 -0.103552  0.072978  \n",
       "구매중요도7_디자인  -0.023820 -0.030203 -0.252893 -0.016545  \n",
       "구매중요도8_음질   -0.128577  0.125864 -0.129694 -0.024584  \n",
       "구매중요도9_A/S  -0.122752  0.168111  0.270728 -0.057701  \n",
       "구매중요도10_명성  -0.143263  0.125387  0.219030  0.030684  \n",
       "성별          -0.235380  0.240694 -0.015929  0.033919  \n",
       "연령          -0.164438  0.217933  0.501295 -0.025442  \n",
       "연령2         -0.170908  0.226626  0.452473  0.002892  \n",
       "학력          -0.220675  0.315942  0.089870 -0.077279  \n",
       "직업           1.000000 -0.329444 -0.133204 -0.047408  \n",
       "월수입         -0.329444  1.000000  0.324409 -0.032161  \n",
       "결혼          -0.133204  0.324409  1.000000 -0.095499  \n",
       "가족수         -0.047408 -0.032161 -0.095499  1.000000  \n",
       "\n",
       "[29 rows x 29 columns]"
      ]
     },
     "execution_count": 89,
     "metadata": {},
     "output_type": "execute_result"
    }
   ],
   "source": [
    "df.corr(method='pearson')"
   ]
  },
  {
   "cell_type": "code",
   "execution_count": 90,
   "metadata": {},
   "outputs": [
    {
     "data": {
      "text/plain": [
       "Index(['번호', '사용브랜드', '사용기간', '구매장소', '구매가격', '정보획득', '구입조언', '하루사용시간',\n",
       "       '브랜드이미지', '가격만족도', '재구매의향', '구매중요도1_메모리', '구매중요도2_배터리', '구매중요도3_카메라',\n",
       "       '구매중요도4_처리속도', '구매중요도5_보안기능', '구매중요도6_운영체계', '구매중요도7_디자인', '구매중요도8_음질',\n",
       "       '구매중요도9_A/S', '구매중요도10_명성 ', '성별', '연령', '연령2', '학력', '직업', '월수입', '결혼',\n",
       "       '가족수'],\n",
       "      dtype='object')"
      ]
     },
     "execution_count": 90,
     "metadata": {},
     "output_type": "execute_result"
    }
   ],
   "source": [
    "df.columns"
   ]
  },
  {
   "cell_type": "code",
   "execution_count": 91,
   "metadata": {},
   "outputs": [
    {
     "data": {
      "text/html": [
       "<table class=\"simpletable\">\n",
       "<caption>OLS Regression Results</caption>\n",
       "<tr>\n",
       "  <th>Dep. Variable:</th>          <td>재구매의향</td>      <th>  R-squared:         </th> <td>   0.699</td>\n",
       "</tr>\n",
       "<tr>\n",
       "  <th>Model:</th>                   <td>OLS</td>       <th>  Adj. R-squared:    </th> <td>   0.687</td>\n",
       "</tr>\n",
       "<tr>\n",
       "  <th>Method:</th>             <td>Least Squares</td>  <th>  F-statistic:       </th> <td>   56.03</td>\n",
       "</tr>\n",
       "<tr>\n",
       "  <th>Date:</th>             <td>Wed, 08 May 2024</td> <th>  Prob (F-statistic):</th> <td>3.09e-57</td>\n",
       "</tr>\n",
       "<tr>\n",
       "  <th>Time:</th>                 <td>11:51:20</td>     <th>  Log-Likelihood:    </th> <td> -241.54</td>\n",
       "</tr>\n",
       "<tr>\n",
       "  <th>No. Observations:</th>      <td>   252</td>      <th>  AIC:               </th> <td>   505.1</td>\n",
       "</tr>\n",
       "<tr>\n",
       "  <th>Df Residuals:</th>          <td>   241</td>      <th>  BIC:               </th> <td>   543.9</td>\n",
       "</tr>\n",
       "<tr>\n",
       "  <th>Df Model:</th>              <td>    10</td>      <th>                     </th>     <td> </td>   \n",
       "</tr>\n",
       "<tr>\n",
       "  <th>Covariance Type:</th>      <td>nonrobust</td>    <th>                     </th>     <td> </td>   \n",
       "</tr>\n",
       "</table>\n",
       "<table class=\"simpletable\">\n",
       "<tr>\n",
       "      <td></td>         <th>coef</th>     <th>std err</th>      <th>t</th>      <th>P>|t|</th>  <th>[0.025</th>    <th>0.975]</th>  \n",
       "</tr>\n",
       "<tr>\n",
       "  <th>Intercept</th> <td>   -0.3127</td> <td>    0.203</td> <td>   -1.540</td> <td> 0.125</td> <td>   -0.713</td> <td>    0.087</td>\n",
       "</tr>\n",
       "<tr>\n",
       "  <th>성별</th>        <td>    0.0567</td> <td>    0.086</td> <td>    0.663</td> <td> 0.508</td> <td>   -0.112</td> <td>    0.225</td>\n",
       "</tr>\n",
       "<tr>\n",
       "  <th>연령</th>        <td>    0.0601</td> <td>    0.047</td> <td>    1.290</td> <td> 0.198</td> <td>   -0.032</td> <td>    0.152</td>\n",
       "</tr>\n",
       "<tr>\n",
       "  <th>학력</th>        <td>    0.0049</td> <td>    0.025</td> <td>    0.196</td> <td> 0.845</td> <td>   -0.045</td> <td>    0.055</td>\n",
       "</tr>\n",
       "<tr>\n",
       "  <th>월수입</th>       <td>   -0.0404</td> <td>    0.027</td> <td>   -1.508</td> <td> 0.133</td> <td>   -0.093</td> <td>    0.012</td>\n",
       "</tr>\n",
       "<tr>\n",
       "  <th>사용기간</th>      <td>    0.1301</td> <td>    0.034</td> <td>    3.823</td> <td> 0.000</td> <td>    0.063</td> <td>    0.197</td>\n",
       "</tr>\n",
       "<tr>\n",
       "  <th>구매가격</th>      <td>    0.0003</td> <td>    0.001</td> <td>    0.297</td> <td> 0.767</td> <td>   -0.002</td> <td>    0.002</td>\n",
       "</tr>\n",
       "<tr>\n",
       "  <th>구입조언</th>      <td>    0.1226</td> <td>    0.049</td> <td>    2.494</td> <td> 0.013</td> <td>    0.026</td> <td>    0.219</td>\n",
       "</tr>\n",
       "<tr>\n",
       "  <th>브랜드이미지</th>    <td>    0.4475</td> <td>    0.044</td> <td>   10.144</td> <td> 0.000</td> <td>    0.361</td> <td>    0.534</td>\n",
       "</tr>\n",
       "<tr>\n",
       "  <th>가격만족도</th>     <td>    0.3990</td> <td>    0.052</td> <td>    7.664</td> <td> 0.000</td> <td>    0.296</td> <td>    0.502</td>\n",
       "</tr>\n",
       "<tr>\n",
       "  <th>하루사용시간</th>    <td>   -0.0028</td> <td>    0.031</td> <td>   -0.090</td> <td> 0.928</td> <td>   -0.064</td> <td>    0.058</td>\n",
       "</tr>\n",
       "</table>\n",
       "<table class=\"simpletable\">\n",
       "<tr>\n",
       "  <th>Omnibus:</th>       <td> 5.050</td> <th>  Durbin-Watson:     </th> <td>   2.112</td>\n",
       "</tr>\n",
       "<tr>\n",
       "  <th>Prob(Omnibus):</th> <td> 0.080</td> <th>  Jarque-Bera (JB):  </th> <td>   4.342</td>\n",
       "</tr>\n",
       "<tr>\n",
       "  <th>Skew:</th>          <td>-0.238</td> <th>  Prob(JB):          </th> <td>   0.114</td>\n",
       "</tr>\n",
       "<tr>\n",
       "  <th>Kurtosis:</th>      <td> 2.567</td> <th>  Cond. No.          </th> <td>    548.</td>\n",
       "</tr>\n",
       "</table><br/><br/>Notes:<br/>[1] Standard Errors assume that the covariance matrix of the errors is correctly specified."
      ],
      "text/latex": [
       "\\begin{center}\n",
       "\\begin{tabular}{lclc}\n",
       "\\toprule\n",
       "\\textbf{Dep. Variable:}    &      재구매의향       & \\textbf{  R-squared:         } &     0.699   \\\\\n",
       "\\textbf{Model:}            &       OLS        & \\textbf{  Adj. R-squared:    } &     0.687   \\\\\n",
       "\\textbf{Method:}           &  Least Squares   & \\textbf{  F-statistic:       } &     56.03   \\\\\n",
       "\\textbf{Date:}             & Wed, 08 May 2024 & \\textbf{  Prob (F-statistic):} &  3.09e-57   \\\\\n",
       "\\textbf{Time:}             &     11:51:20     & \\textbf{  Log-Likelihood:    } &   -241.54   \\\\\n",
       "\\textbf{No. Observations:} &         252      & \\textbf{  AIC:               } &     505.1   \\\\\n",
       "\\textbf{Df Residuals:}     &         241      & \\textbf{  BIC:               } &     543.9   \\\\\n",
       "\\textbf{Df Model:}         &          10      & \\textbf{                     } &             \\\\\n",
       "\\textbf{Covariance Type:}  &    nonrobust     & \\textbf{                     } &             \\\\\n",
       "\\bottomrule\n",
       "\\end{tabular}\n",
       "\\begin{tabular}{lcccccc}\n",
       "                   & \\textbf{coef} & \\textbf{std err} & \\textbf{t} & \\textbf{P$> |$t$|$} & \\textbf{[0.025} & \\textbf{0.975]}  \\\\\n",
       "\\midrule\n",
       "\\textbf{Intercept} &      -0.3127  &        0.203     &    -1.540  &         0.125        &       -0.713    &        0.087     \\\\\n",
       "\\textbf{성별}        &       0.0567  &        0.086     &     0.663  &         0.508        &       -0.112    &        0.225     \\\\\n",
       "\\textbf{연령}        &       0.0601  &        0.047     &     1.290  &         0.198        &       -0.032    &        0.152     \\\\\n",
       "\\textbf{학력}        &       0.0049  &        0.025     &     0.196  &         0.845        &       -0.045    &        0.055     \\\\\n",
       "\\textbf{월수입}       &      -0.0404  &        0.027     &    -1.508  &         0.133        &       -0.093    &        0.012     \\\\\n",
       "\\textbf{사용기간}      &       0.1301  &        0.034     &     3.823  &         0.000        &        0.063    &        0.197     \\\\\n",
       "\\textbf{구매가격}      &       0.0003  &        0.001     &     0.297  &         0.767        &       -0.002    &        0.002     \\\\\n",
       "\\textbf{구입조언}      &       0.1226  &        0.049     &     2.494  &         0.013        &        0.026    &        0.219     \\\\\n",
       "\\textbf{브랜드이미지}    &       0.4475  &        0.044     &    10.144  &         0.000        &        0.361    &        0.534     \\\\\n",
       "\\textbf{가격만족도}     &       0.3990  &        0.052     &     7.664  &         0.000        &        0.296    &        0.502     \\\\\n",
       "\\textbf{하루사용시간}    &      -0.0028  &        0.031     &    -0.090  &         0.928        &       -0.064    &        0.058     \\\\\n",
       "\\bottomrule\n",
       "\\end{tabular}\n",
       "\\begin{tabular}{lclc}\n",
       "\\textbf{Omnibus:}       &  5.050 & \\textbf{  Durbin-Watson:     } &    2.112  \\\\\n",
       "\\textbf{Prob(Omnibus):} &  0.080 & \\textbf{  Jarque-Bera (JB):  } &    4.342  \\\\\n",
       "\\textbf{Skew:}          & -0.238 & \\textbf{  Prob(JB):          } &    0.114  \\\\\n",
       "\\textbf{Kurtosis:}      &  2.567 & \\textbf{  Cond. No.          } &     548.  \\\\\n",
       "\\bottomrule\n",
       "\\end{tabular}\n",
       "%\\caption{OLS Regression Results}\n",
       "\\end{center}\n",
       "\n",
       "Notes: \\newline\n",
       " [1] Standard Errors assume that the covariance matrix of the errors is correctly specified."
      ],
      "text/plain": [
       "<class 'statsmodels.iolib.summary.Summary'>\n",
       "\"\"\"\n",
       "                            OLS Regression Results                            \n",
       "==============================================================================\n",
       "Dep. Variable:                  재구매의향   R-squared:                       0.699\n",
       "Model:                            OLS   Adj. R-squared:                  0.687\n",
       "Method:                 Least Squares   F-statistic:                     56.03\n",
       "Date:                Wed, 08 May 2024   Prob (F-statistic):           3.09e-57\n",
       "Time:                        11:51:20   Log-Likelihood:                -241.54\n",
       "No. Observations:                 252   AIC:                             505.1\n",
       "Df Residuals:                     241   BIC:                             543.9\n",
       "Df Model:                          10                                         \n",
       "Covariance Type:            nonrobust                                         \n",
       "==============================================================================\n",
       "                 coef    std err          t      P>|t|      [0.025      0.975]\n",
       "------------------------------------------------------------------------------\n",
       "Intercept     -0.3127      0.203     -1.540      0.125      -0.713       0.087\n",
       "성별             0.0567      0.086      0.663      0.508      -0.112       0.225\n",
       "연령             0.0601      0.047      1.290      0.198      -0.032       0.152\n",
       "학력             0.0049      0.025      0.196      0.845      -0.045       0.055\n",
       "월수입           -0.0404      0.027     -1.508      0.133      -0.093       0.012\n",
       "사용기간           0.1301      0.034      3.823      0.000       0.063       0.197\n",
       "구매가격           0.0003      0.001      0.297      0.767      -0.002       0.002\n",
       "구입조언           0.1226      0.049      2.494      0.013       0.026       0.219\n",
       "브랜드이미지         0.4475      0.044     10.144      0.000       0.361       0.534\n",
       "가격만족도          0.3990      0.052      7.664      0.000       0.296       0.502\n",
       "하루사용시간        -0.0028      0.031     -0.090      0.928      -0.064       0.058\n",
       "==============================================================================\n",
       "Omnibus:                        5.050   Durbin-Watson:                   2.112\n",
       "Prob(Omnibus):                  0.080   Jarque-Bera (JB):                4.342\n",
       "Skew:                          -0.238   Prob(JB):                        0.114\n",
       "Kurtosis:                       2.567   Cond. No.                         548.\n",
       "==============================================================================\n",
       "\n",
       "Notes:\n",
       "[1] Standard Errors assume that the covariance matrix of the errors is correctly specified.\n",
       "\"\"\""
      ]
     },
     "execution_count": 91,
     "metadata": {},
     "output_type": "execute_result"
    }
   ],
   "source": [
    "ols(formula='재구매의향 ~ 성별 + 연령 + 학력 + 월수입 + 사용기간 + 구매가격 + 구입조언 + \\\n",
    "    브랜드이미지 + 가격만족도 + 하루사용시간', data=df).fit().summary()"
   ]
  },
  {
   "cell_type": "code",
   "execution_count": 94,
   "metadata": {},
   "outputs": [
    {
     "data": {
      "text/html": [
       "<table class=\"simpletable\">\n",
       "<caption>OLS Regression Results</caption>\n",
       "<tr>\n",
       "  <th>Dep. Variable:</th>          <td>재구매의향</td>      <th>  R-squared:         </th> <td>   0.695</td>\n",
       "</tr>\n",
       "<tr>\n",
       "  <th>Model:</th>                   <td>OLS</td>       <th>  Adj. R-squared:    </th> <td>   0.690</td>\n",
       "</tr>\n",
       "<tr>\n",
       "  <th>Method:</th>             <td>Least Squares</td>  <th>  F-statistic:       </th> <td>   140.4</td>\n",
       "</tr>\n",
       "<tr>\n",
       "  <th>Date:</th>             <td>Wed, 08 May 2024</td> <th>  Prob (F-statistic):</th> <td>2.15e-62</td>\n",
       "</tr>\n",
       "<tr>\n",
       "  <th>Time:</th>                 <td>11:55:57</td>     <th>  Log-Likelihood:    </th> <td> -243.50</td>\n",
       "</tr>\n",
       "<tr>\n",
       "  <th>No. Observations:</th>      <td>   252</td>      <th>  AIC:               </th> <td>   497.0</td>\n",
       "</tr>\n",
       "<tr>\n",
       "  <th>Df Residuals:</th>          <td>   247</td>      <th>  BIC:               </th> <td>   514.6</td>\n",
       "</tr>\n",
       "<tr>\n",
       "  <th>Df Model:</th>              <td>     4</td>      <th>                     </th>     <td> </td>   \n",
       "</tr>\n",
       "<tr>\n",
       "  <th>Covariance Type:</th>      <td>nonrobust</td>    <th>                     </th>     <td> </td>   \n",
       "</tr>\n",
       "</table>\n",
       "<table class=\"simpletable\">\n",
       "<tr>\n",
       "      <td></td>         <th>coef</th>     <th>std err</th>      <th>t</th>      <th>P>|t|</th>  <th>[0.025</th>    <th>0.975]</th>  \n",
       "</tr>\n",
       "<tr>\n",
       "  <th>Intercept</th> <td>   -0.3117</td> <td>    0.144</td> <td>   -2.160</td> <td> 0.032</td> <td>   -0.596</td> <td>   -0.027</td>\n",
       "</tr>\n",
       "<tr>\n",
       "  <th>사용기간</th>      <td>    0.1328</td> <td>    0.033</td> <td>    4.023</td> <td> 0.000</td> <td>    0.068</td> <td>    0.198</td>\n",
       "</tr>\n",
       "<tr>\n",
       "  <th>브랜드이미지</th>    <td>    0.4461</td> <td>    0.044</td> <td>   10.236</td> <td> 0.000</td> <td>    0.360</td> <td>    0.532</td>\n",
       "</tr>\n",
       "<tr>\n",
       "  <th>가격만족도</th>     <td>    0.4133</td> <td>    0.048</td> <td>    8.563</td> <td> 0.000</td> <td>    0.318</td> <td>    0.508</td>\n",
       "</tr>\n",
       "<tr>\n",
       "  <th>구입조언</th>      <td>    0.1525</td> <td>    0.039</td> <td>    3.873</td> <td> 0.000</td> <td>    0.075</td> <td>    0.230</td>\n",
       "</tr>\n",
       "</table>\n",
       "<table class=\"simpletable\">\n",
       "<tr>\n",
       "  <th>Omnibus:</th>       <td> 5.351</td> <th>  Durbin-Watson:     </th> <td>   2.126</td>\n",
       "</tr>\n",
       "<tr>\n",
       "  <th>Prob(Omnibus):</th> <td> 0.069</td> <th>  Jarque-Bera (JB):  </th> <td>   4.625</td>\n",
       "</tr>\n",
       "<tr>\n",
       "  <th>Skew:</th>          <td>-0.251</td> <th>  Prob(JB):          </th> <td>  0.0990</td>\n",
       "</tr>\n",
       "<tr>\n",
       "  <th>Kurtosis:</th>      <td> 2.565</td> <th>  Cond. No.          </th> <td>    21.0</td>\n",
       "</tr>\n",
       "</table><br/><br/>Notes:<br/>[1] Standard Errors assume that the covariance matrix of the errors is correctly specified."
      ],
      "text/latex": [
       "\\begin{center}\n",
       "\\begin{tabular}{lclc}\n",
       "\\toprule\n",
       "\\textbf{Dep. Variable:}    &      재구매의향       & \\textbf{  R-squared:         } &     0.695   \\\\\n",
       "\\textbf{Model:}            &       OLS        & \\textbf{  Adj. R-squared:    } &     0.690   \\\\\n",
       "\\textbf{Method:}           &  Least Squares   & \\textbf{  F-statistic:       } &     140.4   \\\\\n",
       "\\textbf{Date:}             & Wed, 08 May 2024 & \\textbf{  Prob (F-statistic):} &  2.15e-62   \\\\\n",
       "\\textbf{Time:}             &     11:55:57     & \\textbf{  Log-Likelihood:    } &   -243.50   \\\\\n",
       "\\textbf{No. Observations:} &         252      & \\textbf{  AIC:               } &     497.0   \\\\\n",
       "\\textbf{Df Residuals:}     &         247      & \\textbf{  BIC:               } &     514.6   \\\\\n",
       "\\textbf{Df Model:}         &           4      & \\textbf{                     } &             \\\\\n",
       "\\textbf{Covariance Type:}  &    nonrobust     & \\textbf{                     } &             \\\\\n",
       "\\bottomrule\n",
       "\\end{tabular}\n",
       "\\begin{tabular}{lcccccc}\n",
       "                   & \\textbf{coef} & \\textbf{std err} & \\textbf{t} & \\textbf{P$> |$t$|$} & \\textbf{[0.025} & \\textbf{0.975]}  \\\\\n",
       "\\midrule\n",
       "\\textbf{Intercept} &      -0.3117  &        0.144     &    -2.160  &         0.032        &       -0.596    &       -0.027     \\\\\n",
       "\\textbf{사용기간}      &       0.1328  &        0.033     &     4.023  &         0.000        &        0.068    &        0.198     \\\\\n",
       "\\textbf{브랜드이미지}    &       0.4461  &        0.044     &    10.236  &         0.000        &        0.360    &        0.532     \\\\\n",
       "\\textbf{가격만족도}     &       0.4133  &        0.048     &     8.563  &         0.000        &        0.318    &        0.508     \\\\\n",
       "\\textbf{구입조언}      &       0.1525  &        0.039     &     3.873  &         0.000        &        0.075    &        0.230     \\\\\n",
       "\\bottomrule\n",
       "\\end{tabular}\n",
       "\\begin{tabular}{lclc}\n",
       "\\textbf{Omnibus:}       &  5.351 & \\textbf{  Durbin-Watson:     } &    2.126  \\\\\n",
       "\\textbf{Prob(Omnibus):} &  0.069 & \\textbf{  Jarque-Bera (JB):  } &    4.625  \\\\\n",
       "\\textbf{Skew:}          & -0.251 & \\textbf{  Prob(JB):          } &   0.0990  \\\\\n",
       "\\textbf{Kurtosis:}      &  2.565 & \\textbf{  Cond. No.          } &     21.0  \\\\\n",
       "\\bottomrule\n",
       "\\end{tabular}\n",
       "%\\caption{OLS Regression Results}\n",
       "\\end{center}\n",
       "\n",
       "Notes: \\newline\n",
       " [1] Standard Errors assume that the covariance matrix of the errors is correctly specified."
      ],
      "text/plain": [
       "<class 'statsmodels.iolib.summary.Summary'>\n",
       "\"\"\"\n",
       "                            OLS Regression Results                            \n",
       "==============================================================================\n",
       "Dep. Variable:                  재구매의향   R-squared:                       0.695\n",
       "Model:                            OLS   Adj. R-squared:                  0.690\n",
       "Method:                 Least Squares   F-statistic:                     140.4\n",
       "Date:                Wed, 08 May 2024   Prob (F-statistic):           2.15e-62\n",
       "Time:                        11:55:57   Log-Likelihood:                -243.50\n",
       "No. Observations:                 252   AIC:                             497.0\n",
       "Df Residuals:                     247   BIC:                             514.6\n",
       "Df Model:                           4                                         \n",
       "Covariance Type:            nonrobust                                         \n",
       "==============================================================================\n",
       "                 coef    std err          t      P>|t|      [0.025      0.975]\n",
       "------------------------------------------------------------------------------\n",
       "Intercept     -0.3117      0.144     -2.160      0.032      -0.596      -0.027\n",
       "사용기간           0.1328      0.033      4.023      0.000       0.068       0.198\n",
       "브랜드이미지         0.4461      0.044     10.236      0.000       0.360       0.532\n",
       "가격만족도          0.4133      0.048      8.563      0.000       0.318       0.508\n",
       "구입조언           0.1525      0.039      3.873      0.000       0.075       0.230\n",
       "==============================================================================\n",
       "Omnibus:                        5.351   Durbin-Watson:                   2.126\n",
       "Prob(Omnibus):                  0.069   Jarque-Bera (JB):                4.625\n",
       "Skew:                          -0.251   Prob(JB):                       0.0990\n",
       "Kurtosis:                       2.565   Cond. No.                         21.0\n",
       "==============================================================================\n",
       "\n",
       "Notes:\n",
       "[1] Standard Errors assume that the covariance matrix of the errors is correctly specified.\n",
       "\"\"\""
      ]
     },
     "execution_count": 94,
     "metadata": {},
     "output_type": "execute_result"
    }
   ],
   "source": [
    "ols(formula='재구매의향 ~ 사용기간+브랜드이미지+가격만족도+구입조언'\n",
    "    , data=df).fit().summary()"
   ]
  },
  {
   "cell_type": "code",
   "execution_count": 96,
   "metadata": {},
   "outputs": [
    {
     "data": {
      "text/plain": [
       "<seaborn.axisgrid.FacetGrid at 0x2289b9d3290>"
      ]
     },
     "execution_count": 96,
     "metadata": {},
     "output_type": "execute_result"
    },
    {
     "data": {
      "image/png": "[encoded data removed]",
      "text/plain": [
       "<Figure size 500x500 with 1 Axes>"
      ]
     },
     "metadata": {},
     "output_type": "display_data"
    }
   ],
   "source": [
    "sns.lmplot(y='재구매의향', x='구입조언', data=df)"
   ]
  }
 ],
 "metadata": {
  "kernelspec": {
   "display_name": "base",
   "language": "python",
   "name": "python3"
  },
  "language_info": {
   "codemirror_mode": {
    "name": "ipython",
    "version": 3
   },
   "file_extension": ".py",
   "mimetype": "text/x-python",
   "name": "python",
   "nbconvert_exporter": "python",
   "pygments_lexer": "ipython3",
   "version": "3.11.7"
  }
 },
 "nbformat": 4,
 "nbformat_minor": 2
}
