{
 "cells": [
  {
   "cell_type": "markdown",
   "metadata": {},
   "source": [
    "파이썬 잡신과 함께하는 복불복 팀플 조편성 "
   ]
  },
  {
   "cell_type": "code",
   "execution_count": 5,
   "metadata": {},
   "outputs": [],
   "source": [
    "# 20명의 교육생, 5명이 1팀을 이룹니다. (1팀당 5명), 4팀 나눠집니다. \n",
    "\n",
    "# pandas의 read_csv 이용, 파일 읽으신 뒤, 파이썬 코드 작성, 작성한 코드 활용, 무작위로 각 팀당 5명이 배정 되어야 함 "
   ]
  },
  {
   "cell_type": "code",
   "execution_count": 1,
   "metadata": {},
   "outputs": [
    {
     "name": "stdout",
     "output_type": "stream",
     "text": [
      "      성함\n",
      "0     제니\n",
      "1     민규\n",
      "2     승관\n",
      "3     지수\n",
      "4    조슈아\n",
      "5     디노\n",
      "6      준\n",
      "7   에스쿱스\n",
      "8     정한\n",
      "9     로제\n",
      "10    호시\n",
      "11    원우\n",
      "12    우지\n",
      "13    리사\n",
      "14   디에잇\n",
      "15    도겸\n",
      "16    버논\n",
      "17   이예진\n",
      "18   크러쉬\n",
      "19    콜드\n"
     ]
    }
   ],
   "source": [
    "import numpy as np \n",
    "import pandas as pd\n",
    "\n",
    "path = 'students_2.csv'\n",
    "students = pd.read_csv(path, encoding='cp949')\n",
    "print(students)"
   ]
  },
  {
   "cell_type": "code",
   "execution_count": 2,
   "metadata": {},
   "outputs": [
    {
     "name": "stdout",
     "output_type": "stream",
     "text": [
      "      성함\n",
      "0     제니\n",
      "1     민규\n",
      "2     승관\n",
      "3     지수\n",
      "4    조슈아\n",
      "5     디노\n",
      "6      준\n",
      "7   에스쿱스\n",
      "8     정한\n",
      "9     로제\n",
      "10    호시\n",
      "11    원우\n",
      "12    우지\n",
      "13    리사\n",
      "14   디에잇\n",
      "15    도겸\n",
      "16    버논\n",
      "17   이예진\n",
      "18   크러쉬\n",
      "19    콜드\n",
      "0       제니\n",
      "1       민규\n",
      "2       승관\n",
      "3       지수\n",
      "4      조슈아\n",
      "5       디노\n",
      "6        준\n",
      "7     에스쿱스\n",
      "8       정한\n",
      "9       로제\n",
      "10      호시\n",
      "11      원우\n",
      "12      우지\n",
      "13      리사\n",
      "14     디에잇\n",
      "15      도겸\n",
      "16      버논\n",
      "17     이예진\n",
      "18     크러쉬\n",
      "19      콜드\n",
      "Name: 성함, dtype: object\n"
     ]
    }
   ],
   "source": [
    "students = pd.read_csv(path, encoding='cp949').reset_index(drop=True)\n",
    "\n",
    "print(students)\n",
    "print(students['성함'])"
   ]
  },
  {
   "cell_type": "code",
   "execution_count": 3,
   "metadata": {},
   "outputs": [
    {
     "name": "stdout",
     "output_type": "stream",
     "text": [
      "Team 1: \n",
      "    성함\n",
      "0   제니\n",
      "1   민규\n",
      "2   승관\n",
      "3   지수\n",
      "4  조슈아\n",
      "\n",
      "Team 2: \n",
      "     성함\n",
      "5    디노\n",
      "6     준\n",
      "7  에스쿱스\n",
      "8    정한\n",
      "9    로제\n",
      "\n",
      "Team 3: \n",
      "     성함\n",
      "10   호시\n",
      "11   원우\n",
      "12   우지\n",
      "13   리사\n",
      "14  디에잇\n",
      "\n",
      "Team 4: \n",
      "     성함\n",
      "15   도겸\n",
      "16   버논\n",
      "17  이예진\n",
      "18  크러쉬\n",
      "19   콜드\n",
      "\n"
     ]
    }
   ],
   "source": [
    "# random.choice(), random,shuffle(), sample() 사용\n",
    "students = pd.read_csv(path, encoding='cp949').reset_index(drop=True)\n",
    "# students.sample(frac=1) \n",
    "# frac=0.1 (10%), frac=1 (100%)\n",
    "\n",
    "# 각 팀에 5명씩 배정 \n",
    "team_member = 5\n",
    "num_teams = 4\n",
    "\n",
    "# 각 팀을 저장한 빈 리스트 생성\n",
    "\n",
    "teams = [ ]\n",
    "\n",
    "# 팀 배정 \n",
    "\n",
    "for i in range(num_teams):\n",
    "\tstart_index = i * team_member\n",
    "\tteam = students[start_index:start_index + team_member] \n",
    "\tteams.append(team)\n",
    "\n",
    "# 결과 출력 \n",
    "for i, team in enumerate(teams, 1):\n",
    "\t# 1 : index 시작을 1로 시작해줘 \n",
    "\tprint(f\"Team {i}: \")\n",
    "\tprint(team)\n",
    "\tprint()\n",
    "\n"
   ]
  },
  {
   "cell_type": "code",
   "execution_count": 4,
   "metadata": {},
   "outputs": [
    {
     "name": "stdout",
     "output_type": "stream",
     "text": [
      "Team 1: \n",
      "     성함\n",
      "0    제니\n",
      "17  이예진\n",
      "15   도겸\n",
      "1    민규\n",
      "8    정한\n",
      "\n",
      "Team 2: \n",
      "     성함\n",
      "5    디노\n",
      "11   원우\n",
      "3    지수\n",
      "18  크러쉬\n",
      "16   버논\n",
      "\n",
      "Team 3: \n",
      "     성함\n",
      "13   리사\n",
      "2    승관\n",
      "9    로제\n",
      "19   콜드\n",
      "4   조슈아\n",
      "\n",
      "Team 4: \n",
      "      성함\n",
      "12    우지\n",
      "7   에스쿱스\n",
      "10    호시\n",
      "14   디에잇\n",
      "6      준\n",
      "\n"
     ]
    }
   ],
   "source": [
    "import numpy as np \n",
    "import pandas as pd \n",
    "\n",
    "np.random.seed(42)\n",
    "\n",
    "studnets_df = pd.DataFrame(\n",
    "  { 'Name' : [f'Student {i}' for i in range(20)]})\n",
    "\n",
    "students = students.sample(frac=1) \n",
    "# frac=0.1 (10%), frac=1 (100%)\n",
    "\n",
    "# 각 팀에 5명씩 배정 \n",
    "team_member = 5\n",
    "num_teams = 4\n",
    "\n",
    "# 각 팀을 저장한 빈 리스트 생성\n",
    "\n",
    "teams = [ ]\n",
    "\n",
    "# 팀 배정 \n",
    "\n",
    "for i in range(num_teams):\n",
    "   start_index = i * team_member\n",
    "   team = students[start_index:start_index + team_member] \n",
    "   teams.append(team)\n",
    "   \n",
    "# 결과 출력 \n",
    "for i, team in enumerate(teams, 1):\n",
    "   # 1 : index 시작을 1로 시작해줘 \n",
    "    file_name = f'team_{i}.csv'\n",
    "    team.to_csv(file_name, index=False)\n",
    "    \n",
    "    print(f\"Team {i}: \")\n",
    "    print(team)\n",
    "    print()"
   ]
  },
  {
   "cell_type": "code",
   "execution_count": null,
   "metadata": {},
   "outputs": [],
   "source": []
  }
 ],
 "metadata": {
  "kernelspec": {
   "display_name": "base",
   "language": "python",
   "name": "python3"
  },
  "language_info": {
   "codemirror_mode": {
    "name": "ipython",
    "version": 3
   },
   "file_extension": ".py",
   "mimetype": "text/x-python",
   "name": "python",
   "nbconvert_exporter": "python",
   "pygments_lexer": "ipython3",
   "version": "3.11.7"
  }
 },
 "nbformat": 4,
 "nbformat_minor": 2
}
