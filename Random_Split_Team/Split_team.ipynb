{
 "cells": [
  {
   "cell_type": "markdown",
   "metadata": {},
   "source": [
    "파이썬과 복불복 팀플 조편성 "
   ]
  },
  {
   "cell_type": "code",
   "execution_count": null,
   "metadata": {},
   "outputs": [],
   "source": [
    "#20명의 교육생, 5명이 1팀 (1팀당 5명) 4팀으로 나눠짐 \n",
    "#pandas의 read_csv를 이용하여 파일을 읽고 파이썬 작성  \n",
    "#작성한 코드가 4명으로 나눠줘야 한다. 무작위로 ! \n",
    "#random.choice(), sample() 사용 "
   ]
  },
  {
   "cell_type": "code",
   "execution_count": 1,
   "metadata": {},
   "outputs": [
    {
     "name": "stdout",
     "output_type": "stream",
     "text": [
      "팀 1: [['조슈아'], ['디에잇'], ['에스쿱스'], ['콜드'], ['크러쉬']]\n",
      "팀 2: [['리사'], ['로제'], ['준'], ['버논'], ['디노']]\n",
      "팀 3: [['승관'], ['정한'], ['도겸'], ['우지'], ['이예진']]\n",
      "팀 4: [['제니'], ['호시'], ['원우'], ['지수'], ['민규']]\n"
     ]
    }
   ],
   "source": [
    "import pandas as pd\n",
    "import random\n",
    "\n",
    "\n",
    "path = \"students_2.csv\"\n",
    "students = pd.read_csv(path, encoding='cp949')\n",
    "\n",
    "students_list = students.values.tolist() #리스트로 변경함\n",
    "\n",
    "\n",
    "teams = [[] for _ in range(4)]\n",
    "\n",
    "\n",
    "for i in range(5):\n",
    "\tfor team in teams:\n",
    "\t\tif students_list: \n",
    "\t\t\tmember = random.choices(students_list)[0]\n",
    "\t\t\tteam.append(member)  \n",
    "\t\t\tstudents_list.remove(member)\n",
    "\n",
    "for n, team in enumerate(teams, start=1):\n",
    "\tprint(f\"팀 {n}: {team}\")\n"
   ]
  }
 ],
 "metadata": {
  "kernelspec": {
   "display_name": "base",
   "language": "python",
   "name": "python3"
  },
  "language_info": {
   "codemirror_mode": {
    "name": "ipython",
    "version": 3
   },
   "file_extension": ".py",
   "mimetype": "text/x-python",
   "name": "python",
   "nbconvert_exporter": "python",
   "pygments_lexer": "ipython3",
   "version": "3.11.7"
  }
 },
 "nbformat": 4,
 "nbformat_minor": 2
}
