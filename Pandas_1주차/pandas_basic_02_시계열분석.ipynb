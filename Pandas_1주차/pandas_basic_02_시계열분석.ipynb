{
 "cells": [
  {
   "cell_type": "markdown",
   "metadata": {},
   "source": [
    "시계열 데이터 분석"
   ]
  },
  {
   "cell_type": "code",
   "execution_count": 1,
   "metadata": {},
   "outputs": [
    {
     "name": "stdout",
     "output_type": "stream",
     "text": [
      "2024-03-26 00:00:00\n"
     ]
    }
   ],
   "source": [
    "import pandas as pd\n",
    "\n",
    "date = \"2024-03-26\" #str타입 >> to_datetime()\n",
    "pd.to_datetime(date)\n",
    "\n",
    "\n",
    "datetime_obj = pd.to_datetime(date)\n",
    "print(datetime_obj)"
   ]
  },
  {
   "cell_type": "code",
   "execution_count": 2,
   "metadata": {},
   "outputs": [
    {
     "data": {
      "text/plain": [
       "DatetimeIndex(['2024-03-26'], dtype='datetime64[ns]', freq=None)"
      ]
     },
     "execution_count": 2,
     "metadata": {},
     "output_type": "execute_result"
    }
   ],
   "source": [
    "date_str = [\"2024-03-26\"]\n",
    "\n",
    "pd.to_datetime(date_str)"
   ]
  },
  {
   "cell_type": "code",
   "execution_count": 3,
   "metadata": {},
   "outputs": [
    {
     "data": {
      "text/html": [
       "<div>\n",
       "<style scoped>\n",
       "    .dataframe tbody tr th:only-of-type {\n",
       "        vertical-align: middle;\n",
       "    }\n",
       "\n",
       "    .dataframe tbody tr th {\n",
       "        vertical-align: top;\n",
       "    }\n",
       "\n",
       "    .dataframe thead th {\n",
       "        text-align: right;\n",
       "    }\n",
       "</style>\n",
       "<table border=\"1\" class=\"dataframe\">\n",
       "  <thead>\n",
       "    <tr style=\"text-align: right;\">\n",
       "      <th></th>\n",
       "      <th>datesold</th>\n",
       "      <th>postcode</th>\n",
       "      <th>price</th>\n",
       "      <th>propertyType</th>\n",
       "      <th>bedrooms</th>\n",
       "    </tr>\n",
       "  </thead>\n",
       "  <tbody>\n",
       "    <tr>\n",
       "      <th>0</th>\n",
       "      <td>2007-02-07 00:00:00</td>\n",
       "      <td>2607</td>\n",
       "      <td>525000</td>\n",
       "      <td>house</td>\n",
       "      <td>4</td>\n",
       "    </tr>\n",
       "    <tr>\n",
       "      <th>1</th>\n",
       "      <td>2007-02-27 00:00:00</td>\n",
       "      <td>2906</td>\n",
       "      <td>290000</td>\n",
       "      <td>house</td>\n",
       "      <td>3</td>\n",
       "    </tr>\n",
       "    <tr>\n",
       "      <th>2</th>\n",
       "      <td>2007-03-07 00:00:00</td>\n",
       "      <td>2905</td>\n",
       "      <td>328000</td>\n",
       "      <td>house</td>\n",
       "      <td>3</td>\n",
       "    </tr>\n",
       "    <tr>\n",
       "      <th>3</th>\n",
       "      <td>2007-03-09 00:00:00</td>\n",
       "      <td>2905</td>\n",
       "      <td>380000</td>\n",
       "      <td>house</td>\n",
       "      <td>4</td>\n",
       "    </tr>\n",
       "    <tr>\n",
       "      <th>4</th>\n",
       "      <td>2007-03-21 00:00:00</td>\n",
       "      <td>2906</td>\n",
       "      <td>310000</td>\n",
       "      <td>house</td>\n",
       "      <td>3</td>\n",
       "    </tr>\n",
       "    <tr>\n",
       "      <th>...</th>\n",
       "      <td>...</td>\n",
       "      <td>...</td>\n",
       "      <td>...</td>\n",
       "      <td>...</td>\n",
       "      <td>...</td>\n",
       "    </tr>\n",
       "    <tr>\n",
       "      <th>29575</th>\n",
       "      <td>2019-07-25 00:00:00</td>\n",
       "      <td>2900</td>\n",
       "      <td>500000</td>\n",
       "      <td>unit</td>\n",
       "      <td>3</td>\n",
       "    </tr>\n",
       "    <tr>\n",
       "      <th>29576</th>\n",
       "      <td>2019-07-25 00:00:00</td>\n",
       "      <td>2612</td>\n",
       "      <td>560000</td>\n",
       "      <td>unit</td>\n",
       "      <td>2</td>\n",
       "    </tr>\n",
       "    <tr>\n",
       "      <th>29577</th>\n",
       "      <td>2019-07-26 00:00:00</td>\n",
       "      <td>2912</td>\n",
       "      <td>464950</td>\n",
       "      <td>unit</td>\n",
       "      <td>2</td>\n",
       "    </tr>\n",
       "    <tr>\n",
       "      <th>29578</th>\n",
       "      <td>2019-07-26 00:00:00</td>\n",
       "      <td>2601</td>\n",
       "      <td>589000</td>\n",
       "      <td>unit</td>\n",
       "      <td>2</td>\n",
       "    </tr>\n",
       "    <tr>\n",
       "      <th>29579</th>\n",
       "      <td>2019-07-26 00:00:00</td>\n",
       "      <td>2612</td>\n",
       "      <td>775000</td>\n",
       "      <td>unit</td>\n",
       "      <td>2</td>\n",
       "    </tr>\n",
       "  </tbody>\n",
       "</table>\n",
       "<p>29580 rows × 5 columns</p>\n",
       "</div>"
      ],
      "text/plain": [
       "                  datesold  postcode   price propertyType  bedrooms\n",
       "0      2007-02-07 00:00:00      2607  525000        house         4\n",
       "1      2007-02-27 00:00:00      2906  290000        house         3\n",
       "2      2007-03-07 00:00:00      2905  328000        house         3\n",
       "3      2007-03-09 00:00:00      2905  380000        house         4\n",
       "4      2007-03-21 00:00:00      2906  310000        house         3\n",
       "...                    ...       ...     ...          ...       ...\n",
       "29575  2019-07-25 00:00:00      2900  500000         unit         3\n",
       "29576  2019-07-25 00:00:00      2612  560000         unit         2\n",
       "29577  2019-07-26 00:00:00      2912  464950         unit         2\n",
       "29578  2019-07-26 00:00:00      2601  589000         unit         2\n",
       "29579  2019-07-26 00:00:00      2612  775000         unit         2\n",
       "\n",
       "[29580 rows x 5 columns]"
      ]
     },
     "execution_count": 3,
     "metadata": {},
     "output_type": "execute_result"
    }
   ],
   "source": [
    "pd.read_csv(\"./raw_sales.csv\")"
   ]
  },
  {
   "cell_type": "code",
   "execution_count": 4,
   "metadata": {},
   "outputs": [],
   "source": [
    "raw =pd.read_csv(\"./raw_sales.csv\")\n"
   ]
  },
  {
   "cell_type": "code",
   "execution_count": 5,
   "metadata": {},
   "outputs": [],
   "source": [
    "sales = raw.copy()"
   ]
  },
  {
   "cell_type": "code",
   "execution_count": 6,
   "metadata": {},
   "outputs": [],
   "source": [
    "PATH = \"./raw_sales.csv\""
   ]
  },
  {
   "cell_type": "code",
   "execution_count": 7,
   "metadata": {},
   "outputs": [
    {
     "data": {
      "text/html": [
       "<div>\n",
       "<style scoped>\n",
       "    .dataframe tbody tr th:only-of-type {\n",
       "        vertical-align: middle;\n",
       "    }\n",
       "\n",
       "    .dataframe tbody tr th {\n",
       "        vertical-align: top;\n",
       "    }\n",
       "\n",
       "    .dataframe thead th {\n",
       "        text-align: right;\n",
       "    }\n",
       "</style>\n",
       "<table border=\"1\" class=\"dataframe\">\n",
       "  <thead>\n",
       "    <tr style=\"text-align: right;\">\n",
       "      <th></th>\n",
       "      <th>datesold</th>\n",
       "      <th>postcode</th>\n",
       "      <th>price</th>\n",
       "      <th>propertyType</th>\n",
       "      <th>bedrooms</th>\n",
       "    </tr>\n",
       "  </thead>\n",
       "  <tbody>\n",
       "    <tr>\n",
       "      <th>0</th>\n",
       "      <td>2007-02-07 00:00:00</td>\n",
       "      <td>2607</td>\n",
       "      <td>525000</td>\n",
       "      <td>house</td>\n",
       "      <td>4</td>\n",
       "    </tr>\n",
       "    <tr>\n",
       "      <th>1</th>\n",
       "      <td>2007-02-27 00:00:00</td>\n",
       "      <td>2906</td>\n",
       "      <td>290000</td>\n",
       "      <td>house</td>\n",
       "      <td>3</td>\n",
       "    </tr>\n",
       "    <tr>\n",
       "      <th>2</th>\n",
       "      <td>2007-03-07 00:00:00</td>\n",
       "      <td>2905</td>\n",
       "      <td>328000</td>\n",
       "      <td>house</td>\n",
       "      <td>3</td>\n",
       "    </tr>\n",
       "    <tr>\n",
       "      <th>3</th>\n",
       "      <td>2007-03-09 00:00:00</td>\n",
       "      <td>2905</td>\n",
       "      <td>380000</td>\n",
       "      <td>house</td>\n",
       "      <td>4</td>\n",
       "    </tr>\n",
       "    <tr>\n",
       "      <th>4</th>\n",
       "      <td>2007-03-21 00:00:00</td>\n",
       "      <td>2906</td>\n",
       "      <td>310000</td>\n",
       "      <td>house</td>\n",
       "      <td>3</td>\n",
       "    </tr>\n",
       "    <tr>\n",
       "      <th>...</th>\n",
       "      <td>...</td>\n",
       "      <td>...</td>\n",
       "      <td>...</td>\n",
       "      <td>...</td>\n",
       "      <td>...</td>\n",
       "    </tr>\n",
       "    <tr>\n",
       "      <th>29575</th>\n",
       "      <td>2019-07-25 00:00:00</td>\n",
       "      <td>2900</td>\n",
       "      <td>500000</td>\n",
       "      <td>unit</td>\n",
       "      <td>3</td>\n",
       "    </tr>\n",
       "    <tr>\n",
       "      <th>29576</th>\n",
       "      <td>2019-07-25 00:00:00</td>\n",
       "      <td>2612</td>\n",
       "      <td>560000</td>\n",
       "      <td>unit</td>\n",
       "      <td>2</td>\n",
       "    </tr>\n",
       "    <tr>\n",
       "      <th>29577</th>\n",
       "      <td>2019-07-26 00:00:00</td>\n",
       "      <td>2912</td>\n",
       "      <td>464950</td>\n",
       "      <td>unit</td>\n",
       "      <td>2</td>\n",
       "    </tr>\n",
       "    <tr>\n",
       "      <th>29578</th>\n",
       "      <td>2019-07-26 00:00:00</td>\n",
       "      <td>2601</td>\n",
       "      <td>589000</td>\n",
       "      <td>unit</td>\n",
       "      <td>2</td>\n",
       "    </tr>\n",
       "    <tr>\n",
       "      <th>29579</th>\n",
       "      <td>2019-07-26 00:00:00</td>\n",
       "      <td>2612</td>\n",
       "      <td>775000</td>\n",
       "      <td>unit</td>\n",
       "      <td>2</td>\n",
       "    </tr>\n",
       "  </tbody>\n",
       "</table>\n",
       "<p>29580 rows × 5 columns</p>\n",
       "</div>"
      ],
      "text/plain": [
       "                  datesold  postcode   price propertyType  bedrooms\n",
       "0      2007-02-07 00:00:00      2607  525000        house         4\n",
       "1      2007-02-27 00:00:00      2906  290000        house         3\n",
       "2      2007-03-07 00:00:00      2905  328000        house         3\n",
       "3      2007-03-09 00:00:00      2905  380000        house         4\n",
       "4      2007-03-21 00:00:00      2906  310000        house         3\n",
       "...                    ...       ...     ...          ...       ...\n",
       "29575  2019-07-25 00:00:00      2900  500000         unit         3\n",
       "29576  2019-07-25 00:00:00      2612  560000         unit         2\n",
       "29577  2019-07-26 00:00:00      2912  464950         unit         2\n",
       "29578  2019-07-26 00:00:00      2601  589000         unit         2\n",
       "29579  2019-07-26 00:00:00      2612  775000         unit         2\n",
       "\n",
       "[29580 rows x 5 columns]"
      ]
     },
     "execution_count": 7,
     "metadata": {},
     "output_type": "execute_result"
    }
   ],
   "source": [
    "pd.read_csv(PATH)"
   ]
  },
  {
   "cell_type": "code",
   "execution_count": 8,
   "metadata": {},
   "outputs": [],
   "source": [
    "sales = pd.read_csv(PATH)"
   ]
  },
  {
   "cell_type": "code",
   "execution_count": 25,
   "metadata": {},
   "outputs": [
    {
     "data": {
      "text/plain": [
       "(29580, 8)"
      ]
     },
     "execution_count": 25,
     "metadata": {},
     "output_type": "execute_result"
    }
   ],
   "source": [
    "sales.shape"
   ]
  },
  {
   "cell_type": "code",
   "execution_count": 9,
   "metadata": {},
   "outputs": [
    {
     "data": {
      "text/html": [
       "<div>\n",
       "<style scoped>\n",
       "    .dataframe tbody tr th:only-of-type {\n",
       "        vertical-align: middle;\n",
       "    }\n",
       "\n",
       "    .dataframe tbody tr th {\n",
       "        vertical-align: top;\n",
       "    }\n",
       "\n",
       "    .dataframe thead th {\n",
       "        text-align: right;\n",
       "    }\n",
       "</style>\n",
       "<table border=\"1\" class=\"dataframe\">\n",
       "  <thead>\n",
       "    <tr style=\"text-align: right;\">\n",
       "      <th></th>\n",
       "      <th>datesold</th>\n",
       "      <th>postcode</th>\n",
       "      <th>price</th>\n",
       "      <th>propertyType</th>\n",
       "      <th>bedrooms</th>\n",
       "    </tr>\n",
       "  </thead>\n",
       "  <tbody>\n",
       "    <tr>\n",
       "      <th>0</th>\n",
       "      <td>2007-02-07 00:00:00</td>\n",
       "      <td>2607</td>\n",
       "      <td>525000</td>\n",
       "      <td>house</td>\n",
       "      <td>4</td>\n",
       "    </tr>\n",
       "    <tr>\n",
       "      <th>1</th>\n",
       "      <td>2007-02-27 00:00:00</td>\n",
       "      <td>2906</td>\n",
       "      <td>290000</td>\n",
       "      <td>house</td>\n",
       "      <td>3</td>\n",
       "    </tr>\n",
       "    <tr>\n",
       "      <th>2</th>\n",
       "      <td>2007-03-07 00:00:00</td>\n",
       "      <td>2905</td>\n",
       "      <td>328000</td>\n",
       "      <td>house</td>\n",
       "      <td>3</td>\n",
       "    </tr>\n",
       "  </tbody>\n",
       "</table>\n",
       "</div>"
      ],
      "text/plain": [
       "              datesold  postcode   price propertyType  bedrooms\n",
       "0  2007-02-07 00:00:00      2607  525000        house         4\n",
       "1  2007-02-27 00:00:00      2906  290000        house         3\n",
       "2  2007-03-07 00:00:00      2905  328000        house         3"
      ]
     },
     "execution_count": 9,
     "metadata": {},
     "output_type": "execute_result"
    }
   ],
   "source": [
    "sales.head(3)"
   ]
  },
  {
   "cell_type": "code",
   "execution_count": 10,
   "metadata": {},
   "outputs": [
    {
     "name": "stdout",
     "output_type": "stream",
     "text": [
      "<class 'pandas.core.frame.DataFrame'>\n",
      "RangeIndex: 29580 entries, 0 to 29579\n",
      "Data columns (total 5 columns):\n",
      " #   Column        Non-Null Count  Dtype \n",
      "---  ------        --------------  ----- \n",
      " 0   datesold      29580 non-null  object\n",
      " 1   postcode      29580 non-null  int64 \n",
      " 2   price         29580 non-null  int64 \n",
      " 3   propertyType  29580 non-null  object\n",
      " 4   bedrooms      29580 non-null  int64 \n",
      "dtypes: int64(3), object(2)\n",
      "memory usage: 1.1+ MB\n"
     ]
    }
   ],
   "source": [
    "sales.info()"
   ]
  },
  {
   "cell_type": "code",
   "execution_count": 11,
   "metadata": {},
   "outputs": [
    {
     "data": {
      "text/plain": [
       "Index(['datesold', 'postcode', 'price', 'propertyType', 'bedrooms'], dtype='object')"
      ]
     },
     "execution_count": 11,
     "metadata": {},
     "output_type": "execute_result"
    }
   ],
   "source": [
    "#데이터 객체 타입을 바꾸기\n",
    "sales.columns"
   ]
  },
  {
   "cell_type": "code",
   "execution_count": 12,
   "metadata": {},
   "outputs": [
    {
     "data": {
      "text/plain": [
       "0       2007-02-07\n",
       "1       2007-02-27\n",
       "2       2007-03-07\n",
       "3       2007-03-09\n",
       "4       2007-03-21\n",
       "           ...    \n",
       "29575   2019-07-25\n",
       "29576   2019-07-25\n",
       "29577   2019-07-26\n",
       "29578   2019-07-26\n",
       "29579   2019-07-26\n",
       "Name: datesold, Length: 29580, dtype: datetime64[ns]"
      ]
     },
     "execution_count": 12,
     "metadata": {},
     "output_type": "execute_result"
    }
   ],
   "source": [
    "pd.to_datetime(sales['datesold'])"
   ]
  },
  {
   "cell_type": "code",
   "execution_count": 13,
   "metadata": {},
   "outputs": [],
   "source": [
    "sales['datesold'] = pd.to_datetime(sales['datesold'])\n",
    "#컬럼의 데이터 형식 변경 ( 문자열 >> 날짜형식)"
   ]
  },
  {
   "cell_type": "code",
   "execution_count": 14,
   "metadata": {},
   "outputs": [
    {
     "data": {
      "text/html": [
       "<div>\n",
       "<style scoped>\n",
       "    .dataframe tbody tr th:only-of-type {\n",
       "        vertical-align: middle;\n",
       "    }\n",
       "\n",
       "    .dataframe tbody tr th {\n",
       "        vertical-align: top;\n",
       "    }\n",
       "\n",
       "    .dataframe thead th {\n",
       "        text-align: right;\n",
       "    }\n",
       "</style>\n",
       "<table border=\"1\" class=\"dataframe\">\n",
       "  <thead>\n",
       "    <tr style=\"text-align: right;\">\n",
       "      <th></th>\n",
       "      <th>datesold</th>\n",
       "      <th>postcode</th>\n",
       "      <th>price</th>\n",
       "      <th>propertyType</th>\n",
       "      <th>bedrooms</th>\n",
       "    </tr>\n",
       "  </thead>\n",
       "  <tbody>\n",
       "    <tr>\n",
       "      <th>0</th>\n",
       "      <td>2007-02-07</td>\n",
       "      <td>2607</td>\n",
       "      <td>525000</td>\n",
       "      <td>house</td>\n",
       "      <td>4</td>\n",
       "    </tr>\n",
       "    <tr>\n",
       "      <th>1</th>\n",
       "      <td>2007-02-27</td>\n",
       "      <td>2906</td>\n",
       "      <td>290000</td>\n",
       "      <td>house</td>\n",
       "      <td>3</td>\n",
       "    </tr>\n",
       "    <tr>\n",
       "      <th>2</th>\n",
       "      <td>2007-03-07</td>\n",
       "      <td>2905</td>\n",
       "      <td>328000</td>\n",
       "      <td>house</td>\n",
       "      <td>3</td>\n",
       "    </tr>\n",
       "    <tr>\n",
       "      <th>3</th>\n",
       "      <td>2007-03-09</td>\n",
       "      <td>2905</td>\n",
       "      <td>380000</td>\n",
       "      <td>house</td>\n",
       "      <td>4</td>\n",
       "    </tr>\n",
       "    <tr>\n",
       "      <th>4</th>\n",
       "      <td>2007-03-21</td>\n",
       "      <td>2906</td>\n",
       "      <td>310000</td>\n",
       "      <td>house</td>\n",
       "      <td>3</td>\n",
       "    </tr>\n",
       "  </tbody>\n",
       "</table>\n",
       "</div>"
      ],
      "text/plain": [
       "    datesold  postcode   price propertyType  bedrooms\n",
       "0 2007-02-07      2607  525000        house         4\n",
       "1 2007-02-27      2906  290000        house         3\n",
       "2 2007-03-07      2905  328000        house         3\n",
       "3 2007-03-09      2905  380000        house         4\n",
       "4 2007-03-21      2906  310000        house         3"
      ]
     },
     "execution_count": 14,
     "metadata": {},
     "output_type": "execute_result"
    }
   ],
   "source": [
    "sales.head()"
   ]
  },
  {
   "cell_type": "code",
   "execution_count": 15,
   "metadata": {},
   "outputs": [
    {
     "name": "stdout",
     "output_type": "stream",
     "text": [
      "<class 'pandas.core.frame.DataFrame'>\n",
      "RangeIndex: 29580 entries, 0 to 29579\n",
      "Data columns (total 5 columns):\n",
      " #   Column        Non-Null Count  Dtype         \n",
      "---  ------        --------------  -----         \n",
      " 0   datesold      29580 non-null  datetime64[ns]\n",
      " 1   postcode      29580 non-null  int64         \n",
      " 2   price         29580 non-null  int64         \n",
      " 3   propertyType  29580 non-null  object        \n",
      " 4   bedrooms      29580 non-null  int64         \n",
      "dtypes: datetime64[ns](1), int64(3), object(1)\n",
      "memory usage: 1.1+ MB\n"
     ]
    }
   ],
   "source": [
    "sales.info()\n"
   ]
  },
  {
   "cell_type": "code",
   "execution_count": 16,
   "metadata": {},
   "outputs": [
    {
     "data": {
      "text/plain": [
       "Timestamp('2019-07-27 00:00:00')"
      ]
     },
     "execution_count": 16,
     "metadata": {},
     "output_type": "execute_result"
    }
   ],
   "source": [
    "sales['datesold'].max()"
   ]
  },
  {
   "cell_type": "code",
   "execution_count": 17,
   "metadata": {},
   "outputs": [
    {
     "data": {
      "text/plain": [
       "Timestamp('2007-02-07 00:00:00')"
      ]
     },
     "execution_count": 17,
     "metadata": {},
     "output_type": "execute_result"
    }
   ],
   "source": [
    "sales['datesold'].min()\n"
   ]
  },
  {
   "cell_type": "code",
   "execution_count": 18,
   "metadata": {},
   "outputs": [
    {
     "data": {
      "text/plain": [
       "Timedelta('4553 days 00:00:00')"
      ]
     },
     "execution_count": 18,
     "metadata": {},
     "output_type": "execute_result"
    }
   ],
   "source": [
    "sales['datesold'].max() - sales['datesold'].min()  \n"
   ]
  },
  {
   "cell_type": "code",
   "execution_count": 19,
   "metadata": {},
   "outputs": [
    {
     "data": {
      "text/plain": [
       "0        2007\n",
       "1        2007\n",
       "2        2007\n",
       "3        2007\n",
       "4        2007\n",
       "         ... \n",
       "29575    2019\n",
       "29576    2019\n",
       "29577    2019\n",
       "29578    2019\n",
       "29579    2019\n",
       "Name: datesold, Length: 29580, dtype: int32"
      ]
     },
     "execution_count": 19,
     "metadata": {},
     "output_type": "execute_result"
    }
   ],
   "source": [
    "sales['datesold'].dt.year"
   ]
  },
  {
   "cell_type": "code",
   "execution_count": 20,
   "metadata": {},
   "outputs": [
    {
     "data": {
      "text/plain": [
       "0        2\n",
       "1        2\n",
       "2        3\n",
       "3        3\n",
       "4        3\n",
       "        ..\n",
       "29575    7\n",
       "29576    7\n",
       "29577    7\n",
       "29578    7\n",
       "29579    7\n",
       "Name: datesold, Length: 29580, dtype: int32"
      ]
     },
     "execution_count": 20,
     "metadata": {},
     "output_type": "execute_result"
    }
   ],
   "source": [
    "sales['datesold'].dt.month\n"
   ]
  },
  {
   "cell_type": "code",
   "execution_count": 21,
   "metadata": {},
   "outputs": [
    {
     "data": {
      "text/plain": [
       "0         7\n",
       "1        27\n",
       "2         7\n",
       "3         9\n",
       "4        21\n",
       "         ..\n",
       "29575    25\n",
       "29576    25\n",
       "29577    26\n",
       "29578    26\n",
       "29579    26\n",
       "Name: datesold, Length: 29580, dtype: int32"
      ]
     },
     "execution_count": 21,
     "metadata": {},
     "output_type": "execute_result"
    }
   ],
   "source": [
    "sales['datesold'].dt.day\n"
   ]
  },
  {
   "cell_type": "code",
   "execution_count": 22,
   "metadata": {},
   "outputs": [],
   "source": [
    "sales['year'] = sales['datesold'].dt.year\n",
    "sales['month'] = sales['datesold'].dt.month\n",
    "sales['day'] = sales['datesold'].dt.day\n"
   ]
  },
  {
   "cell_type": "code",
   "execution_count": 26,
   "metadata": {
    "scrolled": true
   },
   "outputs": [
    {
     "data": {
      "text/html": [
       "<div>\n",
       "<style scoped>\n",
       "    .dataframe tbody tr th:only-of-type {\n",
       "        vertical-align: middle;\n",
       "    }\n",
       "\n",
       "    .dataframe tbody tr th {\n",
       "        vertical-align: top;\n",
       "    }\n",
       "\n",
       "    .dataframe thead th {\n",
       "        text-align: right;\n",
       "    }\n",
       "</style>\n",
       "<table border=\"1\" class=\"dataframe\">\n",
       "  <thead>\n",
       "    <tr style=\"text-align: right;\">\n",
       "      <th></th>\n",
       "      <th>datesold</th>\n",
       "      <th>postcode</th>\n",
       "      <th>price</th>\n",
       "      <th>propertyType</th>\n",
       "      <th>bedrooms</th>\n",
       "      <th>year</th>\n",
       "      <th>month</th>\n",
       "      <th>day</th>\n",
       "    </tr>\n",
       "  </thead>\n",
       "  <tbody>\n",
       "    <tr>\n",
       "      <th>0</th>\n",
       "      <td>2007-02-07</td>\n",
       "      <td>2607</td>\n",
       "      <td>525000</td>\n",
       "      <td>house</td>\n",
       "      <td>4</td>\n",
       "      <td>2007</td>\n",
       "      <td>2</td>\n",
       "      <td>7</td>\n",
       "    </tr>\n",
       "    <tr>\n",
       "      <th>1</th>\n",
       "      <td>2007-02-27</td>\n",
       "      <td>2906</td>\n",
       "      <td>290000</td>\n",
       "      <td>house</td>\n",
       "      <td>3</td>\n",
       "      <td>2007</td>\n",
       "      <td>2</td>\n",
       "      <td>27</td>\n",
       "    </tr>\n",
       "    <tr>\n",
       "      <th>2</th>\n",
       "      <td>2007-03-07</td>\n",
       "      <td>2905</td>\n",
       "      <td>328000</td>\n",
       "      <td>house</td>\n",
       "      <td>3</td>\n",
       "      <td>2007</td>\n",
       "      <td>3</td>\n",
       "      <td>7</td>\n",
       "    </tr>\n",
       "  </tbody>\n",
       "</table>\n",
       "</div>"
      ],
      "text/plain": [
       "    datesold  postcode   price propertyType  bedrooms  year  month  day\n",
       "0 2007-02-07      2607  525000        house         4  2007      2    7\n",
       "1 2007-02-27      2906  290000        house         3  2007      2   27\n",
       "2 2007-03-07      2905  328000        house         3  2007      3    7"
      ]
     },
     "execution_count": 26,
     "metadata": {},
     "output_type": "execute_result"
    }
   ],
   "source": [
    "sales.head(3)"
   ]
  },
  {
   "cell_type": "markdown",
   "metadata": {},
   "source": [
    "Shift\n",
    "\n",
    "-데이터 프레임이나 시리즈(Series) 내의 데이터를 지정된 만큼의 기간 동안 위나 아래로 이동시키는 기능을 제공\n"
   ]
  },
  {
   "cell_type": "code",
   "execution_count": 27,
   "metadata": {},
   "outputs": [
    {
     "data": {
      "text/html": [
       "<div>\n",
       "<style scoped>\n",
       "    .dataframe tbody tr th:only-of-type {\n",
       "        vertical-align: middle;\n",
       "    }\n",
       "\n",
       "    .dataframe tbody tr th {\n",
       "        vertical-align: top;\n",
       "    }\n",
       "\n",
       "    .dataframe thead th {\n",
       "        text-align: right;\n",
       "    }\n",
       "</style>\n",
       "<table border=\"1\" class=\"dataframe\">\n",
       "  <thead>\n",
       "    <tr style=\"text-align: right;\">\n",
       "      <th></th>\n",
       "      <th>datesold</th>\n",
       "      <th>postcode</th>\n",
       "      <th>price</th>\n",
       "      <th>propertyType</th>\n",
       "      <th>bedrooms</th>\n",
       "      <th>year</th>\n",
       "      <th>month</th>\n",
       "      <th>day</th>\n",
       "    </tr>\n",
       "  </thead>\n",
       "  <tbody>\n",
       "    <tr>\n",
       "      <th>0</th>\n",
       "      <td>2007-02-07</td>\n",
       "      <td>2607</td>\n",
       "      <td>525000</td>\n",
       "      <td>house</td>\n",
       "      <td>4</td>\n",
       "      <td>2007</td>\n",
       "      <td>2</td>\n",
       "      <td>7</td>\n",
       "    </tr>\n",
       "    <tr>\n",
       "      <th>1</th>\n",
       "      <td>2007-02-27</td>\n",
       "      <td>2906</td>\n",
       "      <td>290000</td>\n",
       "      <td>house</td>\n",
       "      <td>3</td>\n",
       "      <td>2007</td>\n",
       "      <td>2</td>\n",
       "      <td>27</td>\n",
       "    </tr>\n",
       "    <tr>\n",
       "      <th>2</th>\n",
       "      <td>2007-03-07</td>\n",
       "      <td>2905</td>\n",
       "      <td>328000</td>\n",
       "      <td>house</td>\n",
       "      <td>3</td>\n",
       "      <td>2007</td>\n",
       "      <td>3</td>\n",
       "      <td>7</td>\n",
       "    </tr>\n",
       "    <tr>\n",
       "      <th>3</th>\n",
       "      <td>2007-03-09</td>\n",
       "      <td>2905</td>\n",
       "      <td>380000</td>\n",
       "      <td>house</td>\n",
       "      <td>4</td>\n",
       "      <td>2007</td>\n",
       "      <td>3</td>\n",
       "      <td>9</td>\n",
       "    </tr>\n",
       "    <tr>\n",
       "      <th>4</th>\n",
       "      <td>2007-03-21</td>\n",
       "      <td>2906</td>\n",
       "      <td>310000</td>\n",
       "      <td>house</td>\n",
       "      <td>3</td>\n",
       "      <td>2007</td>\n",
       "      <td>3</td>\n",
       "      <td>21</td>\n",
       "    </tr>\n",
       "  </tbody>\n",
       "</table>\n",
       "</div>"
      ],
      "text/plain": [
       "    datesold  postcode   price propertyType  bedrooms  year  month  day\n",
       "0 2007-02-07      2607  525000        house         4  2007      2    7\n",
       "1 2007-02-27      2906  290000        house         3  2007      2   27\n",
       "2 2007-03-07      2905  328000        house         3  2007      3    7\n",
       "3 2007-03-09      2905  380000        house         4  2007      3    9\n",
       "4 2007-03-21      2906  310000        house         3  2007      3   21"
      ]
     },
     "execution_count": 27,
     "metadata": {},
     "output_type": "execute_result"
    }
   ],
   "source": [
    "sales.head()"
   ]
  },
  {
   "cell_type": "code",
   "execution_count": 31,
   "metadata": {},
   "outputs": [
    {
     "data": {
      "text/html": [
       "<div>\n",
       "<style scoped>\n",
       "    .dataframe tbody tr th:only-of-type {\n",
       "        vertical-align: middle;\n",
       "    }\n",
       "\n",
       "    .dataframe tbody tr th {\n",
       "        vertical-align: top;\n",
       "    }\n",
       "\n",
       "    .dataframe thead th {\n",
       "        text-align: right;\n",
       "    }\n",
       "</style>\n",
       "<table border=\"1\" class=\"dataframe\">\n",
       "  <thead>\n",
       "    <tr style=\"text-align: right;\">\n",
       "      <th></th>\n",
       "      <th>datesold</th>\n",
       "      <th>price</th>\n",
       "    </tr>\n",
       "  </thead>\n",
       "  <tbody>\n",
       "    <tr>\n",
       "      <th>0</th>\n",
       "      <td>2007-02-07</td>\n",
       "      <td>525000</td>\n",
       "    </tr>\n",
       "    <tr>\n",
       "      <th>1</th>\n",
       "      <td>2007-02-27</td>\n",
       "      <td>290000</td>\n",
       "    </tr>\n",
       "    <tr>\n",
       "      <th>2</th>\n",
       "      <td>2007-03-07</td>\n",
       "      <td>328000</td>\n",
       "    </tr>\n",
       "    <tr>\n",
       "      <th>3</th>\n",
       "      <td>2007-03-09</td>\n",
       "      <td>380000</td>\n",
       "    </tr>\n",
       "    <tr>\n",
       "      <th>4</th>\n",
       "      <td>2007-03-21</td>\n",
       "      <td>310000</td>\n",
       "    </tr>\n",
       "    <tr>\n",
       "      <th>...</th>\n",
       "      <td>...</td>\n",
       "      <td>...</td>\n",
       "    </tr>\n",
       "    <tr>\n",
       "      <th>29575</th>\n",
       "      <td>2019-07-25</td>\n",
       "      <td>500000</td>\n",
       "    </tr>\n",
       "    <tr>\n",
       "      <th>29576</th>\n",
       "      <td>2019-07-25</td>\n",
       "      <td>560000</td>\n",
       "    </tr>\n",
       "    <tr>\n",
       "      <th>29577</th>\n",
       "      <td>2019-07-26</td>\n",
       "      <td>464950</td>\n",
       "    </tr>\n",
       "    <tr>\n",
       "      <th>29578</th>\n",
       "      <td>2019-07-26</td>\n",
       "      <td>589000</td>\n",
       "    </tr>\n",
       "    <tr>\n",
       "      <th>29579</th>\n",
       "      <td>2019-07-26</td>\n",
       "      <td>775000</td>\n",
       "    </tr>\n",
       "  </tbody>\n",
       "</table>\n",
       "<p>29580 rows × 2 columns</p>\n",
       "</div>"
      ],
      "text/plain": [
       "        datesold   price\n",
       "0     2007-02-07  525000\n",
       "1     2007-02-27  290000\n",
       "2     2007-03-07  328000\n",
       "3     2007-03-09  380000\n",
       "4     2007-03-21  310000\n",
       "...          ...     ...\n",
       "29575 2019-07-25  500000\n",
       "29576 2019-07-25  560000\n",
       "29577 2019-07-26  464950\n",
       "29578 2019-07-26  589000\n",
       "29579 2019-07-26  775000\n",
       "\n",
       "[29580 rows x 2 columns]"
      ]
     },
     "execution_count": 31,
     "metadata": {},
     "output_type": "execute_result"
    }
   ],
   "source": [
    "sales.loc[:,[\"datesold\",\"price\"]]"
   ]
  },
  {
   "cell_type": "code",
   "execution_count": 34,
   "metadata": {},
   "outputs": [
    {
     "name": "stdout",
     "output_type": "stream",
     "text": [
      "    datesold   price\n",
      "0 2007-02-07  525000\n",
      "1 2007-02-27  290000\n",
      "2 2007-03-07  328000\n",
      "3 2007-03-09  380000\n",
      "4 2007-03-21  310000\n"
     ]
    }
   ],
   "source": [
    "temp = sales.loc[:,[\"datesold\",\"price\"]].copy()\n",
    "print(temp.head())"
   ]
  },
  {
   "cell_type": "code",
   "execution_count": 38,
   "metadata": {},
   "outputs": [
    {
     "name": "stdout",
     "output_type": "stream",
     "text": [
      "0             NaN\n",
      "1        525000.0\n",
      "2        290000.0\n",
      "3        328000.0\n",
      "4        380000.0\n",
      "           ...   \n",
      "29575    475000.0\n",
      "29576    500000.0\n",
      "29577    560000.0\n",
      "29578    464950.0\n",
      "29579    589000.0\n",
      "Name: price, Length: 29580, dtype: float64\n",
      "**************************************************\n",
      "0             NaN\n",
      "1             NaN\n",
      "2        525000.0\n",
      "3        290000.0\n",
      "4        328000.0\n",
      "           ...   \n",
      "29575    380000.0\n",
      "29576    475000.0\n",
      "29577    500000.0\n",
      "29578    560000.0\n",
      "29579    464950.0\n",
      "Name: price, Length: 29580, dtype: float64\n"
     ]
    }
   ],
   "source": [
    "print(temp['price'].shift(1))\n",
    "print('*' * 50)\n",
    "print(temp['price'].shift(2))\n"
   ]
  },
  {
   "cell_type": "code",
   "execution_count": 43,
   "metadata": {},
   "outputs": [
    {
     "name": "stdout",
     "output_type": "stream",
     "text": [
      "0             0\n",
      "1        525000\n",
      "2        290000\n",
      "3        328000\n",
      "4        380000\n",
      "          ...  \n",
      "29575    475000\n",
      "29576    500000\n",
      "29577    560000\n",
      "29578    464950\n",
      "29579    589000\n",
      "Name: price, Length: 29580, dtype: int64\n",
      "<class 'pandas.core.series.Series'>\n",
      "**************************************************\n",
      "0             0\n",
      "1             0\n",
      "2        525000\n",
      "3        290000\n",
      "4        328000\n",
      "          ...  \n",
      "29575    380000\n",
      "29576    475000\n",
      "29577    500000\n",
      "29578    560000\n",
      "29579    464950\n",
      "Name: price, Length: 29580, dtype: int64\n",
      "<class 'pandas.core.series.Series'>\n"
     ]
    }
   ],
   "source": [
    "print(temp['price'].shift(1, fill_value = 0))\n",
    "print(type(temp['price'].shift(1, fill_value = 0)))\n",
    "\n",
    "print('*' * 50)\n",
    "print(temp['price'].shift(2,fill_value = 0))\n",
    "print(type(temp['price'].shift(2,fill_value = 0)))\n",
    "      "
   ]
  },
  {
   "cell_type": "code",
   "execution_count": 44,
   "metadata": {},
   "outputs": [
    {
     "name": "stdout",
     "output_type": "stream",
     "text": [
      "0             0\n",
      "1        525000\n",
      "2        290000\n",
      "3        328000\n",
      "4        380000\n",
      "          ...  \n",
      "29575    475000\n",
      "29576    500000\n",
      "29577    560000\n",
      "29578    464950\n",
      "29579    589000\n",
      "Name: price, Length: 29580, dtype: int32\n",
      "<class 'pandas.core.series.Series'>\n",
      "**************************************************\n",
      "0             0\n",
      "1             0\n",
      "2        525000\n",
      "3        290000\n",
      "4        328000\n",
      "          ...  \n",
      "29575    380000\n",
      "29576    475000\n",
      "29577    500000\n",
      "29578    560000\n",
      "29579    464950\n",
      "Name: price, Length: 29580, dtype: int32\n",
      "<class 'pandas.core.series.Series'>\n"
     ]
    }
   ],
   "source": [
    "#astype()\n",
    "print(temp['price'].shift(1, fill_value = 0).astype(int))\n",
    "print(type(temp['price'].shift(1, fill_value = 0).astype(int)))\n",
    "\n",
    "print('*' * 50)\n",
    "print(temp['price'].shift(2,fill_value = 0).astype(int))\n",
    "print(type(temp['price'].shift(2,fill_value = 0).astype(int)))"
   ]
  },
  {
   "cell_type": "code",
   "execution_count": 48,
   "metadata": {},
   "outputs": [
    {
     "data": {
      "text/html": [
       "<div>\n",
       "<style scoped>\n",
       "    .dataframe tbody tr th:only-of-type {\n",
       "        vertical-align: middle;\n",
       "    }\n",
       "\n",
       "    .dataframe tbody tr th {\n",
       "        vertical-align: top;\n",
       "    }\n",
       "\n",
       "    .dataframe thead th {\n",
       "        text-align: right;\n",
       "    }\n",
       "</style>\n",
       "<table border=\"1\" class=\"dataframe\">\n",
       "  <thead>\n",
       "    <tr style=\"text-align: right;\">\n",
       "      <th></th>\n",
       "      <th>datesold</th>\n",
       "      <th>price</th>\n",
       "      <th>sv1</th>\n",
       "      <th>sv2</th>\n",
       "    </tr>\n",
       "  </thead>\n",
       "  <tbody>\n",
       "    <tr>\n",
       "      <th>0</th>\n",
       "      <td>2007-02-07</td>\n",
       "      <td>525000</td>\n",
       "      <td>0</td>\n",
       "      <td>0</td>\n",
       "    </tr>\n",
       "    <tr>\n",
       "      <th>1</th>\n",
       "      <td>2007-02-27</td>\n",
       "      <td>290000</td>\n",
       "      <td>525000</td>\n",
       "      <td>0</td>\n",
       "    </tr>\n",
       "    <tr>\n",
       "      <th>2</th>\n",
       "      <td>2007-03-07</td>\n",
       "      <td>328000</td>\n",
       "      <td>290000</td>\n",
       "      <td>525000</td>\n",
       "    </tr>\n",
       "    <tr>\n",
       "      <th>3</th>\n",
       "      <td>2007-03-09</td>\n",
       "      <td>380000</td>\n",
       "      <td>328000</td>\n",
       "      <td>290000</td>\n",
       "    </tr>\n",
       "    <tr>\n",
       "      <th>4</th>\n",
       "      <td>2007-03-21</td>\n",
       "      <td>310000</td>\n",
       "      <td>380000</td>\n",
       "      <td>328000</td>\n",
       "    </tr>\n",
       "  </tbody>\n",
       "</table>\n",
       "</div>"
      ],
      "text/plain": [
       "    datesold   price     sv1     sv2\n",
       "0 2007-02-07  525000       0       0\n",
       "1 2007-02-27  290000  525000       0\n",
       "2 2007-03-07  328000  290000  525000\n",
       "3 2007-03-09  380000  328000  290000\n",
       "4 2007-03-21  310000  380000  328000"
      ]
     },
     "execution_count": 48,
     "metadata": {},
     "output_type": "execute_result"
    }
   ],
   "source": [
    "#astype()\n",
    "temp['sv1'] =temp['price'].shift(1, fill_value = 0).astype(int)\n",
    "temp['sv2'] =temp['price'].shift(2, fill_value = 0).astype(int)\n",
    "\n",
    "temp.head()"
   ]
  },
  {
   "cell_type": "code",
   "execution_count": 54,
   "metadata": {},
   "outputs": [
    {
     "data": {
      "text/html": [
       "<div>\n",
       "<style scoped>\n",
       "    .dataframe tbody tr th:only-of-type {\n",
       "        vertical-align: middle;\n",
       "    }\n",
       "\n",
       "    .dataframe tbody tr th {\n",
       "        vertical-align: top;\n",
       "    }\n",
       "\n",
       "    .dataframe thead th {\n",
       "        text-align: right;\n",
       "    }\n",
       "</style>\n",
       "<table border=\"1\" class=\"dataframe\">\n",
       "  <thead>\n",
       "    <tr style=\"text-align: right;\">\n",
       "      <th></th>\n",
       "      <th>datesold</th>\n",
       "      <th>price</th>\n",
       "      <th>sv1</th>\n",
       "      <th>sv2</th>\n",
       "      <th>한글날짜</th>\n",
       "    </tr>\n",
       "  </thead>\n",
       "  <tbody>\n",
       "    <tr>\n",
       "      <th>0</th>\n",
       "      <td>2007-02-07</td>\n",
       "      <td>525000</td>\n",
       "      <td>0</td>\n",
       "      <td>0</td>\n",
       "      <td>2007년 00월 07일</td>\n",
       "    </tr>\n",
       "    <tr>\n",
       "      <th>1</th>\n",
       "      <td>2007-02-27</td>\n",
       "      <td>290000</td>\n",
       "      <td>525000</td>\n",
       "      <td>0</td>\n",
       "      <td>2007년 00월 27일</td>\n",
       "    </tr>\n",
       "    <tr>\n",
       "      <th>2</th>\n",
       "      <td>2007-03-07</td>\n",
       "      <td>328000</td>\n",
       "      <td>290000</td>\n",
       "      <td>525000</td>\n",
       "      <td>2007년 00월 07일</td>\n",
       "    </tr>\n",
       "    <tr>\n",
       "      <th>3</th>\n",
       "      <td>2007-03-09</td>\n",
       "      <td>380000</td>\n",
       "      <td>328000</td>\n",
       "      <td>290000</td>\n",
       "      <td>2007년 00월 09일</td>\n",
       "    </tr>\n",
       "    <tr>\n",
       "      <th>4</th>\n",
       "      <td>2007-03-21</td>\n",
       "      <td>310000</td>\n",
       "      <td>380000</td>\n",
       "      <td>328000</td>\n",
       "      <td>2007년 00월 21일</td>\n",
       "    </tr>\n",
       "  </tbody>\n",
       "</table>\n",
       "</div>"
      ],
      "text/plain": [
       "    datesold   price     sv1     sv2           한글날짜\n",
       "0 2007-02-07  525000       0       0  2007년 00월 07일\n",
       "1 2007-02-27  290000  525000       0  2007년 00월 27일\n",
       "2 2007-03-07  328000  290000  525000  2007년 00월 07일\n",
       "3 2007-03-09  380000  328000  290000  2007년 00월 09일\n",
       "4 2007-03-21  310000  380000  328000  2007년 00월 21일"
      ]
     },
     "execution_count": 54,
     "metadata": {},
     "output_type": "execute_result"
    }
   ],
   "source": [
    "#한글 날짜 추가\n",
    "\n",
    "temp['한글날짜'] = temp['datesold'].dt.strftime(\"%Y년 %M월 %d일\")\n",
    "# Y :2007, y : 07\n",
    "temp.head()\n"
   ]
  },
  {
   "cell_type": "code",
   "execution_count": 56,
   "metadata": {},
   "outputs": [
    {
     "data": {
      "text/html": [
       "<div>\n",
       "<style scoped>\n",
       "    .dataframe tbody tr th:only-of-type {\n",
       "        vertical-align: middle;\n",
       "    }\n",
       "\n",
       "    .dataframe tbody tr th {\n",
       "        vertical-align: top;\n",
       "    }\n",
       "\n",
       "    .dataframe thead th {\n",
       "        text-align: right;\n",
       "    }\n",
       "</style>\n",
       "<table border=\"1\" class=\"dataframe\">\n",
       "  <thead>\n",
       "    <tr style=\"text-align: right;\">\n",
       "      <th></th>\n",
       "      <th>datesold</th>\n",
       "      <th>price</th>\n",
       "      <th>sv1</th>\n",
       "      <th>sv2</th>\n",
       "      <th>한글날짜</th>\n",
       "    </tr>\n",
       "  </thead>\n",
       "  <tbody>\n",
       "    <tr>\n",
       "      <th>0</th>\n",
       "      <td>2007-02-07</td>\n",
       "      <td>525000</td>\n",
       "      <td>0</td>\n",
       "      <td>0</td>\n",
       "      <td>07년 00월 07일</td>\n",
       "    </tr>\n",
       "    <tr>\n",
       "      <th>1</th>\n",
       "      <td>2007-02-27</td>\n",
       "      <td>290000</td>\n",
       "      <td>525000</td>\n",
       "      <td>0</td>\n",
       "      <td>07년 00월 27일</td>\n",
       "    </tr>\n",
       "    <tr>\n",
       "      <th>2</th>\n",
       "      <td>2007-03-07</td>\n",
       "      <td>328000</td>\n",
       "      <td>290000</td>\n",
       "      <td>525000</td>\n",
       "      <td>07년 00월 07일</td>\n",
       "    </tr>\n",
       "    <tr>\n",
       "      <th>3</th>\n",
       "      <td>2007-03-09</td>\n",
       "      <td>380000</td>\n",
       "      <td>328000</td>\n",
       "      <td>290000</td>\n",
       "      <td>07년 00월 09일</td>\n",
       "    </tr>\n",
       "    <tr>\n",
       "      <th>4</th>\n",
       "      <td>2007-03-21</td>\n",
       "      <td>310000</td>\n",
       "      <td>380000</td>\n",
       "      <td>328000</td>\n",
       "      <td>07년 00월 21일</td>\n",
       "    </tr>\n",
       "  </tbody>\n",
       "</table>\n",
       "</div>"
      ],
      "text/plain": [
       "    datesold   price     sv1     sv2         한글날짜\n",
       "0 2007-02-07  525000       0       0  07년 00월 07일\n",
       "1 2007-02-27  290000  525000       0  07년 00월 27일\n",
       "2 2007-03-07  328000  290000  525000  07년 00월 07일\n",
       "3 2007-03-09  380000  328000  290000  07년 00월 09일\n",
       "4 2007-03-21  310000  380000  328000  07년 00월 21일"
      ]
     },
     "execution_count": 56,
     "metadata": {},
     "output_type": "execute_result"
    }
   ],
   "source": [
    "temp['한글날짜'] = temp['datesold'].dt.strftime(\"%y년 %M월 %d일\")\n",
    "temp.head()"
   ]
  },
  {
   "cell_type": "code",
   "execution_count": 77,
   "metadata": {},
   "outputs": [],
   "source": [
    "#실데이터 분석에 응용해 보기 . \n",
    "\n",
    "PATH = './출동_지연시간.csv'"
   ]
  },
  {
   "cell_type": "code",
   "execution_count": 79,
   "metadata": {},
   "outputs": [
    {
     "name": "stdout",
     "output_type": "stream",
     "text": [
      "    소방서                 출발시간                 도착시간\n",
      "0     4  2023-01-01 00:00:00  2023-01-01 00:59:00\n",
      "1     8  2023-01-01 01:00:00  2023-01-01 02:02:00\n",
      "2     6  2023-01-01 02:00:00  2023-01-01 03:19:00\n",
      "3     6  2023-01-01 03:00:00  2023-01-01 04:22:00\n",
      "4     1  2023-01-01 04:00:00  2023-01-01 05:22:00\n",
      "..  ...                  ...                  ...\n",
      "95   10  2023-01-04 23:00:00  2023-01-05 00:07:00\n",
      "96    2  2023-01-05 00:00:00  2023-01-05 01:59:00\n",
      "97    7  2023-01-05 01:00:00  2023-01-05 02:33:00\n",
      "98    9  2023-01-05 02:00:00  2023-01-05 02:30:00\n",
      "99    9  2023-01-05 03:00:00  2023-01-05 03:35:00\n",
      "\n",
      "[100 rows x 3 columns]\n"
     ]
    }
   ],
   "source": [
    "df=pd.read_csv(PATH)\n",
    "print(df)"
   ]
  },
  {
   "cell_type": "code",
   "execution_count": 80,
   "metadata": {},
   "outputs": [
    {
     "data": {
      "text/plain": [
       "(100, 3)"
      ]
     },
     "execution_count": 80,
     "metadata": {},
     "output_type": "execute_result"
    }
   ],
   "source": [
    "df.shape"
   ]
  },
  {
   "cell_type": "code",
   "execution_count": 81,
   "metadata": {},
   "outputs": [
    {
     "name": "stdout",
     "output_type": "stream",
     "text": [
      "<class 'pandas.core.frame.DataFrame'>\n",
      "RangeIndex: 100 entries, 0 to 99\n",
      "Data columns (total 3 columns):\n",
      " #   Column  Non-Null Count  Dtype \n",
      "---  ------  --------------  ----- \n",
      " 0   소방서     100 non-null    int64 \n",
      " 1   출발시간    100 non-null    object\n",
      " 2   도착시간    100 non-null    object\n",
      "dtypes: int64(1), object(2)\n",
      "memory usage: 2.5+ KB\n"
     ]
    }
   ],
   "source": [
    "df.info()"
   ]
  },
  {
   "cell_type": "code",
   "execution_count": 82,
   "metadata": {},
   "outputs": [
    {
     "data": {
      "text/plain": [
       "Index(['소방서', '출발시간', '도착시간'], dtype='object')"
      ]
     },
     "execution_count": 82,
     "metadata": {},
     "output_type": "execute_result"
    }
   ],
   "source": [
    "df.columns"
   ]
  },
  {
   "cell_type": "code",
   "execution_count": 85,
   "metadata": {},
   "outputs": [
    {
     "data": {
      "text/html": [
       "<div>\n",
       "<style scoped>\n",
       "    .dataframe tbody tr th:only-of-type {\n",
       "        vertical-align: middle;\n",
       "    }\n",
       "\n",
       "    .dataframe tbody tr th {\n",
       "        vertical-align: top;\n",
       "    }\n",
       "\n",
       "    .dataframe thead th {\n",
       "        text-align: right;\n",
       "    }\n",
       "</style>\n",
       "<table border=\"1\" class=\"dataframe\">\n",
       "  <thead>\n",
       "    <tr style=\"text-align: right;\">\n",
       "      <th></th>\n",
       "      <th>소방서</th>\n",
       "      <th>출발시간</th>\n",
       "      <th>도착시간</th>\n",
       "      <th>start</th>\n",
       "      <th>end</th>\n",
       "    </tr>\n",
       "  </thead>\n",
       "  <tbody>\n",
       "    <tr>\n",
       "      <th>0</th>\n",
       "      <td>4</td>\n",
       "      <td>2023-01-01 00:00:00</td>\n",
       "      <td>2023-01-01 00:59:00</td>\n",
       "      <td>2023-01-01 00:00:00</td>\n",
       "      <td>2023-01-01 00:59:00</td>\n",
       "    </tr>\n",
       "    <tr>\n",
       "      <th>1</th>\n",
       "      <td>8</td>\n",
       "      <td>2023-01-01 01:00:00</td>\n",
       "      <td>2023-01-01 02:02:00</td>\n",
       "      <td>2023-01-01 01:00:00</td>\n",
       "      <td>2023-01-01 02:02:00</td>\n",
       "    </tr>\n",
       "    <tr>\n",
       "      <th>2</th>\n",
       "      <td>6</td>\n",
       "      <td>2023-01-01 02:00:00</td>\n",
       "      <td>2023-01-01 03:19:00</td>\n",
       "      <td>2023-01-01 02:00:00</td>\n",
       "      <td>2023-01-01 03:19:00</td>\n",
       "    </tr>\n",
       "  </tbody>\n",
       "</table>\n",
       "</div>"
      ],
      "text/plain": [
       "   소방서                 출발시간                 도착시간               start  \\\n",
       "0    4  2023-01-01 00:00:00  2023-01-01 00:59:00 2023-01-01 00:00:00   \n",
       "1    8  2023-01-01 01:00:00  2023-01-01 02:02:00 2023-01-01 01:00:00   \n",
       "2    6  2023-01-01 02:00:00  2023-01-01 03:19:00 2023-01-01 02:00:00   \n",
       "\n",
       "                  end  \n",
       "0 2023-01-01 00:59:00  \n",
       "1 2023-01-01 02:02:00  \n",
       "2 2023-01-01 03:19:00  "
      ]
     },
     "execution_count": 85,
     "metadata": {},
     "output_type": "execute_result"
    }
   ],
   "source": [
    "df['start'] = pd.to_datetime(df['출발시간'])\n",
    "df['end'] = pd.to_datetime(df['도착시간'])\n",
    "df.head(3)"
   ]
  },
  {
   "cell_type": "code",
   "execution_count": 86,
   "metadata": {},
   "outputs": [
    {
     "name": "stdout",
     "output_type": "stream",
     "text": [
      "<class 'pandas.core.frame.DataFrame'>\n",
      "RangeIndex: 100 entries, 0 to 99\n",
      "Data columns (total 5 columns):\n",
      " #   Column  Non-Null Count  Dtype         \n",
      "---  ------  --------------  -----         \n",
      " 0   소방서     100 non-null    int64         \n",
      " 1   출발시간    100 non-null    object        \n",
      " 2   도착시간    100 non-null    object        \n",
      " 3   start   100 non-null    datetime64[ns]\n",
      " 4   end     100 non-null    datetime64[ns]\n",
      "dtypes: datetime64[ns](2), int64(1), object(2)\n",
      "memory usage: 4.0+ KB\n"
     ]
    }
   ],
   "source": [
    "df.info()"
   ]
  },
  {
   "cell_type": "code",
   "execution_count": 88,
   "metadata": {},
   "outputs": [
    {
     "data": {
      "text/html": [
       "<div>\n",
       "<style scoped>\n",
       "    .dataframe tbody tr th:only-of-type {\n",
       "        vertical-align: middle;\n",
       "    }\n",
       "\n",
       "    .dataframe tbody tr th {\n",
       "        vertical-align: top;\n",
       "    }\n",
       "\n",
       "    .dataframe thead th {\n",
       "        text-align: right;\n",
       "    }\n",
       "</style>\n",
       "<table border=\"1\" class=\"dataframe\">\n",
       "  <thead>\n",
       "    <tr style=\"text-align: right;\">\n",
       "      <th></th>\n",
       "      <th>소방서</th>\n",
       "      <th>출발시간</th>\n",
       "      <th>도착시간</th>\n",
       "      <th>start</th>\n",
       "      <th>end</th>\n",
       "      <th>지연시간</th>\n",
       "    </tr>\n",
       "  </thead>\n",
       "  <tbody>\n",
       "    <tr>\n",
       "      <th>0</th>\n",
       "      <td>4</td>\n",
       "      <td>2023-01-01 00:00:00</td>\n",
       "      <td>2023-01-01 00:59:00</td>\n",
       "      <td>2023-01-01 00:00:00</td>\n",
       "      <td>2023-01-01 00:59:00</td>\n",
       "      <td>0 days 00:59:00</td>\n",
       "    </tr>\n",
       "    <tr>\n",
       "      <th>1</th>\n",
       "      <td>8</td>\n",
       "      <td>2023-01-01 01:00:00</td>\n",
       "      <td>2023-01-01 02:02:00</td>\n",
       "      <td>2023-01-01 01:00:00</td>\n",
       "      <td>2023-01-01 02:02:00</td>\n",
       "      <td>0 days 01:02:00</td>\n",
       "    </tr>\n",
       "    <tr>\n",
       "      <th>2</th>\n",
       "      <td>6</td>\n",
       "      <td>2023-01-01 02:00:00</td>\n",
       "      <td>2023-01-01 03:19:00</td>\n",
       "      <td>2023-01-01 02:00:00</td>\n",
       "      <td>2023-01-01 03:19:00</td>\n",
       "      <td>0 days 01:19:00</td>\n",
       "    </tr>\n",
       "    <tr>\n",
       "      <th>3</th>\n",
       "      <td>6</td>\n",
       "      <td>2023-01-01 03:00:00</td>\n",
       "      <td>2023-01-01 04:22:00</td>\n",
       "      <td>2023-01-01 03:00:00</td>\n",
       "      <td>2023-01-01 04:22:00</td>\n",
       "      <td>0 days 01:22:00</td>\n",
       "    </tr>\n",
       "    <tr>\n",
       "      <th>4</th>\n",
       "      <td>1</td>\n",
       "      <td>2023-01-01 04:00:00</td>\n",
       "      <td>2023-01-01 05:22:00</td>\n",
       "      <td>2023-01-01 04:00:00</td>\n",
       "      <td>2023-01-01 05:22:00</td>\n",
       "      <td>0 days 01:22:00</td>\n",
       "    </tr>\n",
       "  </tbody>\n",
       "</table>\n",
       "</div>"
      ],
      "text/plain": [
       "   소방서                 출발시간                 도착시간               start  \\\n",
       "0    4  2023-01-01 00:00:00  2023-01-01 00:59:00 2023-01-01 00:00:00   \n",
       "1    8  2023-01-01 01:00:00  2023-01-01 02:02:00 2023-01-01 01:00:00   \n",
       "2    6  2023-01-01 02:00:00  2023-01-01 03:19:00 2023-01-01 02:00:00   \n",
       "3    6  2023-01-01 03:00:00  2023-01-01 04:22:00 2023-01-01 03:00:00   \n",
       "4    1  2023-01-01 04:00:00  2023-01-01 05:22:00 2023-01-01 04:00:00   \n",
       "\n",
       "                  end            지연시간  \n",
       "0 2023-01-01 00:59:00 0 days 00:59:00  \n",
       "1 2023-01-01 02:02:00 0 days 01:02:00  \n",
       "2 2023-01-01 03:19:00 0 days 01:19:00  \n",
       "3 2023-01-01 04:22:00 0 days 01:22:00  \n",
       "4 2023-01-01 05:22:00 0 days 01:22:00  "
      ]
     },
     "execution_count": 88,
     "metadata": {},
     "output_type": "execute_result"
    }
   ],
   "source": [
    "#날짜(시간) 차이 계산\n",
    "\n",
    "df['지연시간'] = df['end'] - df['start']\n",
    "\n",
    "df.head()"
   ]
  },
  {
   "cell_type": "code",
   "execution_count": 89,
   "metadata": {},
   "outputs": [
    {
     "name": "stdout",
     "output_type": "stream",
     "text": [
      "<class 'pandas.core.frame.DataFrame'>\n",
      "RangeIndex: 100 entries, 0 to 99\n",
      "Data columns (total 6 columns):\n",
      " #   Column  Non-Null Count  Dtype          \n",
      "---  ------  --------------  -----          \n",
      " 0   소방서     100 non-null    int64          \n",
      " 1   출발시간    100 non-null    object         \n",
      " 2   도착시간    100 non-null    object         \n",
      " 3   start   100 non-null    datetime64[ns] \n",
      " 4   end     100 non-null    datetime64[ns] \n",
      " 5   지연시간    100 non-null    timedelta64[ns]\n",
      "dtypes: datetime64[ns](2), int64(1), object(2), timedelta64[ns](1)\n",
      "memory usage: 4.8+ KB\n"
     ]
    }
   ],
   "source": [
    "df.info()\n"
   ]
  },
  {
   "cell_type": "code",
   "execution_count": 93,
   "metadata": {},
   "outputs": [
    {
     "name": "stdout",
     "output_type": "stream",
     "text": [
      "0    0 days 00:59:00\n",
      "1    0 days 01:02:00\n",
      "2    0 days 01:19:00\n",
      "3    0 days 01:22:00\n",
      "4    0 days 01:22:00\n",
      "           ...      \n",
      "95   0 days 01:07:00\n",
      "96   0 days 01:59:00\n",
      "97   0 days 01:33:00\n",
      "98   0 days 00:30:00\n",
      "99   0 days 00:35:00\n",
      "Name: 지연시간, Length: 100, dtype: timedelta64[ns]\n",
      "----------------------------------------\n",
      "0     3540.0\n",
      "1     3720.0\n",
      "2     4740.0\n",
      "3     4920.0\n",
      "4     4920.0\n",
      "       ...  \n",
      "95    4020.0\n",
      "96    7140.0\n",
      "97    5580.0\n",
      "98    1800.0\n",
      "99    2100.0\n",
      "Name: 지연시간, Length: 100, dtype: float64\n",
      "----------------------------------------\n"
     ]
    }
   ],
   "source": [
    "print(df['지연시간'])\n",
    "print('-' * 40)\n",
    "\n",
    "print(df['지연시간'].dt.total_seconds()) #분을 초로 변경  float\n",
    "print('-' * 40)\n"
   ]
  },
  {
   "cell_type": "code",
   "execution_count": 94,
   "metadata": {},
   "outputs": [
    {
     "name": "stdout",
     "output_type": "stream",
     "text": [
      "0      59.0\n",
      "1      62.0\n",
      "2      79.0\n",
      "3      82.0\n",
      "4      82.0\n",
      "      ...  \n",
      "95     67.0\n",
      "96    119.0\n",
      "97     93.0\n",
      "98     30.0\n",
      "99     35.0\n",
      "Name: 지연시간, Length: 100, dtype: float64\n"
     ]
    }
   ],
   "source": [
    "print(df['지연시간'].dt.total_seconds() / 60)\n"
   ]
  },
  {
   "cell_type": "code",
   "execution_count": 96,
   "metadata": {},
   "outputs": [
    {
     "data": {
      "text/html": [
       "<div>\n",
       "<style scoped>\n",
       "    .dataframe tbody tr th:only-of-type {\n",
       "        vertical-align: middle;\n",
       "    }\n",
       "\n",
       "    .dataframe tbody tr th {\n",
       "        vertical-align: top;\n",
       "    }\n",
       "\n",
       "    .dataframe thead th {\n",
       "        text-align: right;\n",
       "    }\n",
       "</style>\n",
       "<table border=\"1\" class=\"dataframe\">\n",
       "  <thead>\n",
       "    <tr style=\"text-align: right;\">\n",
       "      <th></th>\n",
       "      <th>소방서</th>\n",
       "      <th>출발시간</th>\n",
       "      <th>도착시간</th>\n",
       "      <th>start</th>\n",
       "      <th>end</th>\n",
       "      <th>지연시간</th>\n",
       "      <th>지연시간(분)</th>\n",
       "    </tr>\n",
       "  </thead>\n",
       "  <tbody>\n",
       "    <tr>\n",
       "      <th>0</th>\n",
       "      <td>4</td>\n",
       "      <td>2023-01-01 00:00:00</td>\n",
       "      <td>2023-01-01 00:59:00</td>\n",
       "      <td>2023-01-01 00:00:00</td>\n",
       "      <td>2023-01-01 00:59:00</td>\n",
       "      <td>0 days 00:59:00</td>\n",
       "      <td>59.0</td>\n",
       "    </tr>\n",
       "    <tr>\n",
       "      <th>1</th>\n",
       "      <td>8</td>\n",
       "      <td>2023-01-01 01:00:00</td>\n",
       "      <td>2023-01-01 02:02:00</td>\n",
       "      <td>2023-01-01 01:00:00</td>\n",
       "      <td>2023-01-01 02:02:00</td>\n",
       "      <td>0 days 01:02:00</td>\n",
       "      <td>62.0</td>\n",
       "    </tr>\n",
       "    <tr>\n",
       "      <th>2</th>\n",
       "      <td>6</td>\n",
       "      <td>2023-01-01 02:00:00</td>\n",
       "      <td>2023-01-01 03:19:00</td>\n",
       "      <td>2023-01-01 02:00:00</td>\n",
       "      <td>2023-01-01 03:19:00</td>\n",
       "      <td>0 days 01:19:00</td>\n",
       "      <td>79.0</td>\n",
       "    </tr>\n",
       "  </tbody>\n",
       "</table>\n",
       "</div>"
      ],
      "text/plain": [
       "   소방서                 출발시간                 도착시간               start  \\\n",
       "0    4  2023-01-01 00:00:00  2023-01-01 00:59:00 2023-01-01 00:00:00   \n",
       "1    8  2023-01-01 01:00:00  2023-01-01 02:02:00 2023-01-01 01:00:00   \n",
       "2    6  2023-01-01 02:00:00  2023-01-01 03:19:00 2023-01-01 02:00:00   \n",
       "\n",
       "                  end            지연시간  지연시간(분)  \n",
       "0 2023-01-01 00:59:00 0 days 00:59:00     59.0  \n",
       "1 2023-01-01 02:02:00 0 days 01:02:00     62.0  \n",
       "2 2023-01-01 03:19:00 0 days 01:19:00     79.0  "
      ]
     },
     "execution_count": 96,
     "metadata": {},
     "output_type": "execute_result"
    }
   ],
   "source": [
    "df['지연시간(분)'] = df['지연시간'].dt.total_seconds() / 60\n",
    "df.head(3)"
   ]
  },
  {
   "cell_type": "code",
   "execution_count": null,
   "metadata": {},
   "outputs": [],
   "source": []
  },
  {
   "cell_type": "code",
   "execution_count": null,
   "metadata": {},
   "outputs": [],
   "source": []
  },
  {
   "cell_type": "code",
   "execution_count": null,
   "metadata": {},
   "outputs": [],
   "source": []
  },
  {
   "cell_type": "code",
   "execution_count": null,
   "metadata": {},
   "outputs": [],
   "source": []
  },
  {
   "cell_type": "code",
   "execution_count": null,
   "metadata": {},
   "outputs": [],
   "source": []
  },
  {
   "cell_type": "code",
   "execution_count": null,
   "metadata": {},
   "outputs": [],
   "source": []
  },
  {
   "cell_type": "code",
   "execution_count": null,
   "metadata": {},
   "outputs": [],
   "source": []
  },
  {
   "cell_type": "code",
   "execution_count": null,
   "metadata": {},
   "outputs": [],
   "source": []
  },
  {
   "cell_type": "code",
   "execution_count": null,
   "metadata": {},
   "outputs": [],
   "source": []
  },
  {
   "cell_type": "code",
   "execution_count": null,
   "metadata": {},
   "outputs": [],
   "source": []
  },
  {
   "cell_type": "code",
   "execution_count": null,
   "metadata": {},
   "outputs": [],
   "source": []
  },
  {
   "cell_type": "code",
   "execution_count": null,
   "metadata": {},
   "outputs": [],
   "source": []
  },
  {
   "cell_type": "code",
   "execution_count": null,
   "metadata": {},
   "outputs": [],
   "source": []
  },
  {
   "cell_type": "code",
   "execution_count": null,
   "metadata": {},
   "outputs": [],
   "source": []
  },
  {
   "cell_type": "code",
   "execution_count": null,
   "metadata": {},
   "outputs": [],
   "source": []
  },
  {
   "cell_type": "code",
   "execution_count": null,
   "metadata": {},
   "outputs": [],
   "source": []
  },
  {
   "cell_type": "code",
   "execution_count": null,
   "metadata": {},
   "outputs": [],
   "source": []
  },
  {
   "cell_type": "code",
   "execution_count": null,
   "metadata": {},
   "outputs": [],
   "source": []
  },
  {
   "cell_type": "code",
   "execution_count": null,
   "metadata": {},
   "outputs": [],
   "source": []
  },
  {
   "cell_type": "code",
   "execution_count": null,
   "metadata": {},
   "outputs": [],
   "source": []
  },
  {
   "cell_type": "code",
   "execution_count": null,
   "metadata": {},
   "outputs": [],
   "source": []
  }
 ],
 "metadata": {
  "colab": {
   "provenance": []
  },
  "kernelspec": {
   "display_name": "Python 3 (ipykernel)",
   "language": "python",
   "name": "python3"
  },
  "language_info": {
   "codemirror_mode": {
    "name": "ipython",
    "version": 3
   },
   "file_extension": ".py",
   "mimetype": "text/x-python",
   "name": "python",
   "nbconvert_exporter": "python",
   "pygments_lexer": "ipython3",
   "version": "3.11.7"
  }
 },
 "nbformat": 4,
 "nbformat_minor": 4
}
