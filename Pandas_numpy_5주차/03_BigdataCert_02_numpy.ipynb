{
 "cells": [
  {
   "cell_type": "code",
   "execution_count": 1,
   "metadata": {},
   "outputs": [],
   "source": [
    "import numpy as np"
   ]
  },
  {
   "cell_type": "code",
   "execution_count": 12,
   "metadata": {},
   "outputs": [
    {
     "name": "stdout",
     "output_type": "stream",
     "text": [
      "[1 2 3]\n",
      "<class 'numpy.ndarray'>\n",
      "(3,)\n"
     ]
    }
   ],
   "source": [
    "arr1 = np.array([1,2,3])\n",
    "print(arr1)\n",
    "\n",
    "print(type(arr1))\n",
    "print(arr1.shape) #1차원\n"
   ]
  },
  {
   "cell_type": "code",
   "execution_count": 13,
   "metadata": {},
   "outputs": [
    {
     "name": "stdout",
     "output_type": "stream",
     "text": [
      "[[1 2 3]\n",
      " [4 5 6]]\n",
      "<class 'numpy.ndarray'>\n",
      "(2, 3)\n"
     ]
    }
   ],
   "source": [
    "arr2 = np.array([[1,2,3],[4,5,6]])\n",
    "print(arr2)\n",
    "\n",
    "print(type(arr2))\n",
    "print(arr2.shape) #2차원 2행리스트에 3개의 값 "
   ]
  },
  {
   "cell_type": "code",
   "execution_count": 14,
   "metadata": {},
   "outputs": [
    {
     "name": "stdout",
     "output_type": "stream",
     "text": [
      "[[1 2 3]]\n",
      "<class 'numpy.ndarray'>\n",
      "(1, 3)\n"
     ]
    }
   ],
   "source": [
    "arr3 = np.array([[1,2,3]])\n",
    "print(arr3)\n",
    "\n",
    "print(type(arr3))\n",
    "print(arr3.shape)"
   ]
  },
  {
   "cell_type": "code",
   "execution_count": 15,
   "metadata": {},
   "outputs": [
    {
     "name": "stdout",
     "output_type": "stream",
     "text": [
      "1\n",
      "2\n",
      "2\n"
     ]
    }
   ],
   "source": [
    "#ndim : 몇차원인지 \n",
    "print(arr1.ndim)\n",
    "print(arr2.ndim)\n",
    "print(arr3.ndim)\n"
   ]
  },
  {
   "cell_type": "code",
   "execution_count": 16,
   "metadata": {},
   "outputs": [
    {
     "data": {
      "text/plain": [
       "array([0, 1, 2])"
      ]
     },
     "execution_count": 16,
     "metadata": {},
     "output_type": "execute_result"
    }
   ],
   "source": [
    "#arange : array + range \n",
    "\n",
    "np.arange(3)"
   ]
  },
  {
   "cell_type": "code",
   "execution_count": 17,
   "metadata": {},
   "outputs": [
    {
     "data": {
      "text/plain": [
       "array([ 1,  4,  7, 10, 13, 16, 19])"
      ]
     },
     "execution_count": 17,
     "metadata": {},
     "output_type": "execute_result"
    }
   ],
   "source": [
    "np.arange(1,20,3)"
   ]
  },
  {
   "cell_type": "code",
   "execution_count": 18,
   "metadata": {},
   "outputs": [
    {
     "data": {
      "text/plain": [
       "array([[0., 0., 0., 0., 0.],\n",
       "       [0., 0., 0., 0., 0.]])"
      ]
     },
     "execution_count": 18,
     "metadata": {},
     "output_type": "execute_result"
    }
   ],
   "source": [
    "#넘파이 배열 초기화 \n",
    "\n",
    "np.zeros((2,5))"
   ]
  },
  {
   "cell_type": "code",
   "execution_count": 23,
   "metadata": {},
   "outputs": [
    {
     "name": "stdout",
     "output_type": "stream",
     "text": [
      "<class 'numpy.ndarray'>\n"
     ]
    }
   ],
   "source": [
    "a = np.ones((3,4))\n"
   ]
  },
  {
   "cell_type": "code",
   "execution_count": 24,
   "metadata": {},
   "outputs": [
    {
     "data": {
      "text/plain": [
       "array([[0., 0., 0., 0.],\n",
       "       [0., 0., 0., 0.],\n",
       "       [0., 0., 0., 0.]])"
      ]
     },
     "execution_count": 24,
     "metadata": {},
     "output_type": "execute_result"
    }
   ],
   "source": [
    "#zeros_like() : 동일한 배열 값에 0으로 채워진 배열 생성 \n",
    "np.zeros_like(a)"
   ]
  },
  {
   "cell_type": "code",
   "execution_count": 45,
   "metadata": {},
   "outputs": [
    {
     "data": {
      "text/plain": [
       "array([[1., 0., 0., 0.],\n",
       "       [0., 1., 0., 0.],\n",
       "       [0., 0., 1., 0.],\n",
       "       [0., 0., 0., 1.]])"
      ]
     },
     "execution_count": 45,
     "metadata": {},
     "output_type": "execute_result"
    }
   ],
   "source": [
    "#eye() : 항등 행렬 \n",
    "# A : A * I = A\n",
    "np.eye(4)"
   ]
  },
  {
   "cell_type": "code",
   "execution_count": 48,
   "metadata": {},
   "outputs": [
    {
     "name": "stdout",
     "output_type": "stream",
     "text": [
      "[[2 3 1 5]\n",
      " [8 1 3 4]\n",
      " [5 6 7 8]\n",
      " [1 2 3 4]]\n",
      "\n",
      "[[1. 0. 0. 0.]\n",
      " [0. 1. 0. 0.]\n",
      " [0. 0. 1. 0.]\n",
      " [0. 0. 0. 1.]]\n",
      "\n",
      "[[2. 3. 1. 5.]\n",
      " [8. 1. 3. 4.]\n",
      " [5. 6. 7. 8.]\n",
      " [1. 2. 3. 4.]]\n"
     ]
    }
   ],
   "source": [
    "A = np.array([[2,3,1,5],\n",
    "              [8,1,3,4],\n",
    "              [5,6,7,8],\n",
    "              [1,2,3,4]])\n",
    "\n",
    "print(A)\n",
    "print()\n",
    "I = np.eye(4)\n",
    "print(I)\n",
    "print()\n",
    "print(A@I)"
   ]
  },
  {
   "cell_type": "code",
   "execution_count": 25,
   "metadata": {},
   "outputs": [
    {
     "name": "stdout",
     "output_type": "stream",
     "text": [
      "[[1 2 3]\n",
      " [4 5 6]]\n"
     ]
    }
   ],
   "source": [
    "b = np.array([[1,2,3],[4,5,6]])\n",
    "\n",
    "print(b)\n"
   ]
  },
  {
   "cell_type": "code",
   "execution_count": 26,
   "metadata": {},
   "outputs": [
    {
     "data": {
      "text/plain": [
       "array([[0, 0, 0],\n",
       "       [0, 0, 0]])"
      ]
     },
     "execution_count": 26,
     "metadata": {},
     "output_type": "execute_result"
    }
   ],
   "source": [
    "np.zeros_like(b)"
   ]
  },
  {
   "cell_type": "code",
   "execution_count": 30,
   "metadata": {},
   "outputs": [
    {
     "name": "stdout",
     "output_type": "stream",
     "text": [
      "[[9 9 9 9 9]\n",
      " [9 9 9 9 9]\n",
      " [9 9 9 9 9]\n",
      " [9 9 9 9 9]]\n",
      "[[5 5 5 5 5]\n",
      " [5 5 5 5 5]\n",
      " [5 5 5 5 5]\n",
      " [5 5 5 5 5]]\n"
     ]
    }
   ],
   "source": [
    "#np.full, np.random and \n",
    "\n",
    "#np.full(배열크기지정, 채울값)\n",
    "\n",
    "print(np.full((4,5),9)) #배열 크기 만큼 9로 채워넣어라\n",
    "print(np.full((4,5),5))"
   ]
  },
  {
   "cell_type": "code",
   "execution_count": 42,
   "metadata": {},
   "outputs": [
    {
     "name": "stdout",
     "output_type": "stream",
     "text": [
      "None\n",
      "\n",
      "[[0.54340494 0.27836939 0.42451759 0.84477613]\n",
      " [0.00471886 0.12156912 0.67074908 0.82585276]\n",
      " [0.13670659 0.57509333 0.89132195 0.20920212]]\n",
      "\n",
      "[[[0.18532822 0.10837689]\n",
      "  [0.21969749 0.97862378]\n",
      "  [0.81168315 0.17194101]\n",
      "  [0.81622475 0.27407375]]\n",
      "\n",
      " [[0.43170418 0.94002982]\n",
      "  [0.81764938 0.33611195]\n",
      "  [0.17541045 0.37283205]\n",
      "  [0.00568851 0.25242635]]\n",
      "\n",
      " [[0.79566251 0.01525497]\n",
      "  [0.59884338 0.60380454]\n",
      "  [0.10514769 0.38194344]\n",
      "  [0.03647606 0.89041156]]]\n",
      "\n",
      "[[ 0.18451869  0.9370822   0.73100034  1.36155613]\n",
      " [-0.32623806  0.05567601  0.22239961 -1.443217  ]\n",
      " [-0.75635231  0.81645401  0.75044476 -0.45594693]]\n",
      "\n",
      "4\n"
     ]
    }
   ],
   "source": [
    "#np.random()\n",
    "\n",
    "print(np.random.seed(100))\n",
    "print()\n",
    "print(np.random.random((3,4)))  #0~1 사이 난수 생성 / 튜플형태 (3,4)(한 번만 전달받음)\n",
    "print()\n",
    "print(np.random.rand(3,4,2)) #0~1 사이 난수 생성 / 여러 개 인자를 받아 차원 생성 \n",
    "print()\n",
    "print(np.random.randn(3,4)) # 평균0, 표준편차 -1  \n",
    "print()\n",
    "print(np.random.randint(1,5)) #랜덤한 숫자 1개만 생성 "
   ]
  },
  {
   "cell_type": "code",
   "execution_count": 49,
   "metadata": {},
   "outputs": [
    {
     "data": {
      "text/plain": [
       "array([ 0,  1,  2,  3,  4,  5,  6,  7,  8,  9, 10, 11])"
      ]
     },
     "execution_count": 49,
     "metadata": {},
     "output_type": "execute_result"
    }
   ],
   "source": [
    "#넘파이 배열 크기 변형 \n",
    "\n",
    "np.arange(12)"
   ]
  },
  {
   "cell_type": "code",
   "execution_count": 54,
   "metadata": {},
   "outputs": [
    {
     "name": "stdout",
     "output_type": "stream",
     "text": [
      "[ 0  1  2  3  4  5  6  7  8  9 10 11]\n",
      "12\n",
      "\n",
      "[[ 0  1  2  3]\n",
      " [ 4  5  6  7]\n",
      " [ 8  9 10 11]]\n"
     ]
    }
   ],
   "source": [
    "arr = np.arange(12)\n",
    "print(arr)\n",
    "\n",
    "print(len(arr))\n",
    "print()\n",
    "arr2 = arr.reshape(3,-1)\n",
    "print(arr2)"
   ]
  },
  {
   "cell_type": "code",
   "execution_count": 55,
   "metadata": {},
   "outputs": [
    {
     "data": {
      "text/plain": [
       "array([[ 0,  4,  8],\n",
       "       [ 1,  5,  9],\n",
       "       [ 2,  6, 10],\n",
       "       [ 3,  7, 11]])"
      ]
     },
     "execution_count": 55,
     "metadata": {},
     "output_type": "execute_result"
    }
   ],
   "source": [
    "arr.reshape(4,-1,order='F') #값을 열부터 채워넣음"
   ]
  },
  {
   "cell_type": "code",
   "execution_count": 58,
   "metadata": {},
   "outputs": [
    {
     "name": "stdout",
     "output_type": "stream",
     "text": [
      "[0 1 2 3 4 5 6 7 8 9]\n",
      "[[0 1 2 3 4]\n",
      " [5 6 7 8 9]]\n"
     ]
    }
   ],
   "source": [
    "arr1 = np.arange(10)\n",
    "print(arr1)\n",
    "\n",
    "arr2 = arr1.reshape(-1,5)\n",
    "print(arr2)"
   ]
  },
  {
   "cell_type": "code",
   "execution_count": 60,
   "metadata": {},
   "outputs": [
    {
     "name": "stdout",
     "output_type": "stream",
     "text": [
      "2\n",
      "(2, 5)\n"
     ]
    }
   ],
   "source": [
    "print(arr2.ndim)\n",
    "print(arr2.shape)"
   ]
  },
  {
   "cell_type": "code",
   "execution_count": 61,
   "metadata": {},
   "outputs": [
    {
     "name": "stdout",
     "output_type": "stream",
     "text": [
      "[ 0  1  2  3  4  5  6  7  8  9 10 11]\n",
      "[[[ 0  1]\n",
      "  [ 2  3]\n",
      "  [ 4  5]]\n",
      "\n",
      " [[ 6  7]\n",
      "  [ 8  9]\n",
      "  [10 11]]]\n"
     ]
    }
   ],
   "source": [
    "arr3 = np.arange(12)\n",
    "print(arr3)\n",
    "\n",
    "arr4 = arr3.reshape(2,3,2)\n",
    "print(arr4)"
   ]
  },
  {
   "cell_type": "code",
   "execution_count": 62,
   "metadata": {},
   "outputs": [
    {
     "name": "stdout",
     "output_type": "stream",
     "text": [
      "[[[ 0  6]\n",
      "  [ 2  8]\n",
      "  [ 4 10]]\n",
      "\n",
      " [[ 1  7]\n",
      "  [ 3  9]\n",
      "  [ 5 11]]]\n"
     ]
    }
   ],
   "source": [
    "arr5 = arr3.reshape(2,3,2, order='F')\n",
    "print(arr5)"
   ]
  },
  {
   "cell_type": "code",
   "execution_count": 63,
   "metadata": {},
   "outputs": [
    {
     "name": "stdout",
     "output_type": "stream",
     "text": [
      "3\n",
      "(2, 3, 2)\n"
     ]
    }
   ],
   "source": [
    "print(arr5.ndim)\n",
    "print(arr5.shape)"
   ]
  },
  {
   "cell_type": "code",
   "execution_count": 64,
   "metadata": {},
   "outputs": [
    {
     "data": {
      "text/plain": [
       "array([[0, 1, 2, 3, 4],\n",
       "       [5, 6, 7, 8, 9]])"
      ]
     },
     "execution_count": 64,
     "metadata": {},
     "output_type": "execute_result"
    }
   ],
   "source": [
    "arr2"
   ]
  },
  {
   "cell_type": "code",
   "execution_count": 65,
   "metadata": {},
   "outputs": [
    {
     "data": {
      "text/plain": [
       "array([0, 1, 2, 3, 4, 5, 6, 7, 8, 9])"
      ]
     },
     "execution_count": 65,
     "metadata": {},
     "output_type": "execute_result"
    }
   ],
   "source": [
    "arr2.flatten()"
   ]
  },
  {
   "cell_type": "code",
   "execution_count": 66,
   "metadata": {},
   "outputs": [
    {
     "name": "stdout",
     "output_type": "stream",
     "text": [
      "[1 2 3 4 5 6 7 8 9]\n"
     ]
    }
   ],
   "source": [
    "#넘파이 배열 데이터 추출하기 \n",
    "\n",
    "#1) indexing \n",
    "\n",
    "np.arange(1,10)\n",
    "\n",
    "arr1 = np.arange(1,10)\n",
    "print(arr1)"
   ]
  },
  {
   "cell_type": "code",
   "execution_count": 67,
   "metadata": {},
   "outputs": [
    {
     "name": "stdout",
     "output_type": "stream",
     "text": [
      "3\n",
      "8\n"
     ]
    }
   ],
   "source": [
    "print(arr1[2])\n",
    "print(arr1[-2])\n"
   ]
  },
  {
   "cell_type": "code",
   "execution_count": 77,
   "metadata": {},
   "outputs": [
    {
     "name": "stdout",
     "output_type": "stream",
     "text": [
      "[[1 2 3]\n",
      " [4 5 6]\n",
      " [7 8 9]]\n",
      "\n",
      "1\n",
      "8\n",
      "[7 8]\n"
     ]
    }
   ],
   "source": [
    "arr2 = arr1.reshape(3,3)\n",
    "print(arr2)\n",
    "print()\n",
    "\n",
    "print(arr2[0,0])\n",
    "print(arr2[-1,-2])\n",
    "print(arr2[-1,:-1])\n"
   ]
  },
  {
   "cell_type": "code",
   "execution_count": 83,
   "metadata": {},
   "outputs": [
    {
     "name": "stdout",
     "output_type": "stream",
     "text": [
      "[1 2 3 4 5 6 7 8 9]\n",
      "\n",
      "[1 2 3]\n",
      "\n",
      "[2 3]\n",
      "\n",
      "[[1 2 3]\n",
      " [4 5 6]\n",
      " [7 8 9]]\n"
     ]
    }
   ],
   "source": [
    "print(arr1)\n",
    "print()\n",
    "\n",
    "arr2 =arr1[0:3]\n",
    "print(arr2)\n",
    "print()\n",
    "\n",
    "arr3 = arr2[1:]\n",
    "print(arr3)\n",
    "print()\n",
    "arr4 = arr1.reshape(3,3)\n",
    "print(arr4)"
   ]
  },
  {
   "cell_type": "code",
   "execution_count": 85,
   "metadata": {},
   "outputs": [
    {
     "name": "stdout",
     "output_type": "stream",
     "text": [
      "[[1 2 3]\n",
      " [4 5 6]\n",
      " [7 8 9]]\n",
      "\n",
      "[[4 5 6]\n",
      " [7 8 9]]\n"
     ]
    }
   ],
   "source": [
    "#슬라이싱\n",
    "print(arr4)\n",
    "print()\n",
    "\n",
    "print(arr4[1:3,:3])\n"
   ]
  },
  {
   "cell_type": "markdown",
   "metadata": {},
   "source": [
    "전치 행렬 "
   ]
  },
  {
   "cell_type": "code",
   "execution_count": 91,
   "metadata": {},
   "outputs": [],
   "source": [
    "#내적 (dpt [product])\n",
    "\n",
    "arr1 =np.array([[1,2,3],[4,5,6]]) # (2,3)\n",
    "\n",
    "arr2 = np.array([[7,8],[9,10],[1,2]]) # (3,2)\n",
    "\n",
    "arr3 = np.array([[7,8,1],[9,10,2]]) # (2,3)\n"
   ]
  },
  {
   "cell_type": "code",
   "execution_count": 89,
   "metadata": {},
   "outputs": [
    {
     "data": {
      "text/plain": [
       "array([[28, 34],\n",
       "       [79, 94]])"
      ]
     },
     "execution_count": 89,
     "metadata": {},
     "output_type": "execute_result"
    }
   ],
   "source": [
    "arr1 @ arr2 #행렬의 곱 (2,3) @ (3,2)"
   ]
  },
  {
   "cell_type": "code",
   "execution_count": 90,
   "metadata": {},
   "outputs": [
    {
     "data": {
      "text/plain": [
       "array([[28, 34],\n",
       "       [79, 94]])"
      ]
     },
     "execution_count": 90,
     "metadata": {},
     "output_type": "execute_result"
    }
   ],
   "source": [
    "np.dot(arr1,arr2) # @이랑 같은 식 "
   ]
  },
  {
   "cell_type": "code",
   "execution_count": 93,
   "metadata": {},
   "outputs": [
    {
     "data": {
      "text/plain": [
       "array([[26, 35],\n",
       "       [74, 98]])"
      ]
     },
     "execution_count": 93,
     "metadata": {},
     "output_type": "execute_result"
    }
   ],
   "source": [
    "arr1 @ arr3.T\n",
    "# arr3.T 행렬을 바꿈 \n",
    "# np.transpose(arr3) 랑 같음  "
   ]
  },
  {
   "cell_type": "code",
   "execution_count": 95,
   "metadata": {},
   "outputs": [
    {
     "data": {
      "text/plain": [
       "array([[26, 35],\n",
       "       [74, 98]])"
      ]
     },
     "execution_count": 95,
     "metadata": {},
     "output_type": "execute_result"
    }
   ],
   "source": [
    "np.dot(arr1,arr3.T)"
   ]
  },
  {
   "cell_type": "code",
   "execution_count": 98,
   "metadata": {},
   "outputs": [
    {
     "data": {
      "text/plain": [
       "7"
      ]
     },
     "execution_count": 98,
     "metadata": {},
     "output_type": "execute_result"
    }
   ],
   "source": [
    "#넘파이 이용, 기술 통계 \n",
    "\n",
    "x = np.array([11,12,13,-43,34,66,42])\n",
    "len(x)"
   ]
  },
  {
   "cell_type": "code",
   "execution_count": 101,
   "metadata": {},
   "outputs": [
    {
     "name": "stdout",
     "output_type": "stream",
     "text": [
      "19.285714285714285\n",
      "993.6326530612245\n",
      "31.52193923382926\n"
     ]
    }
   ],
   "source": [
    "print(np.mean(x)) #평균\n",
    "print(np.var(x)) #분산 (std **2)\n",
    "print(np.std(x)) #표준편차\n"
   ]
  },
  {
   "cell_type": "code",
   "execution_count": 105,
   "metadata": {},
   "outputs": [
    {
     "name": "stdout",
     "output_type": "stream",
     "text": [
      "[ 11  12  13 -43  34  66  42]\n",
      "\n",
      "66\n",
      "\n",
      "-43\n",
      "\n",
      "13.0\n"
     ]
    }
   ],
   "source": [
    "print(x)\n",
    "print()\n",
    "\n",
    "print(np.max(x))\n",
    "print()\n",
    "\n",
    "print(np.min(x))\n",
    "print()\n",
    "\n",
    "print(np.median(x))\n",
    "print()\n",
    "\n"
   ]
  },
  {
   "cell_type": "code",
   "execution_count": 106,
   "metadata": {},
   "outputs": [
    {
     "data": {
      "text/plain": [
       "array([-43,  11,  12,  13,  34,  42,  66])"
      ]
     },
     "execution_count": 106,
     "metadata": {},
     "output_type": "execute_result"
    }
   ],
   "source": [
    "x.sort()\n",
    "x"
   ]
  },
  {
   "cell_type": "code",
   "execution_count": 112,
   "metadata": {},
   "outputs": [
    {
     "name": "stdout",
     "output_type": "stream",
     "text": [
      "11.5\n",
      "13.0\n",
      "38.0\n"
     ]
    }
   ],
   "source": [
    "#사분위수 \n",
    "print(np.percentile(x, 25))\n",
    "print(np.percentile(x, 50))\n",
    "print(np.percentile(x, 75))\n"
   ]
  },
  {
   "cell_type": "code",
   "execution_count": null,
   "metadata": {},
   "outputs": [],
   "source": []
  }
 ],
 "metadata": {
  "kernelspec": {
   "display_name": "base",
   "language": "python",
   "name": "python3"
  },
  "language_info": {
   "codemirror_mode": {
    "name": "ipython",
    "version": 3
   },
   "file_extension": ".py",
   "mimetype": "text/x-python",
   "name": "python",
   "nbconvert_exporter": "python",
   "pygments_lexer": "ipython3",
   "version": "3.11.7"
  }
 },
 "nbformat": 4,
 "nbformat_minor": 2
}
